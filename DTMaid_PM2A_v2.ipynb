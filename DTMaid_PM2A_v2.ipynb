{
  "nbformat": 4,
  "nbformat_minor": 0,
  "metadata": {
    "colab": {
      "provenance": [],
      "collapsed_sections": [
        "RASBrsMjuGJh",
        "Zy0HYP-vWrEe"
      ]
    },
    "kernelspec": {
      "name": "python3",
      "display_name": "Python 3"
    },
    "language_info": {
      "name": "python"
    }
  },
  "cells": [
    {
      "cell_type": "markdown",
      "source": [
        "# Inicialização"
      ],
      "metadata": {
        "id": "JOvv-A4AtpiY"
      }
    },
    {
      "cell_type": "code",
      "source": [
        "import warnings\n",
        "warnings.filterwarnings('ignore')"
      ],
      "metadata": {
        "id": "95isM1gwtn9I"
      },
      "execution_count": null,
      "outputs": []
    },
    {
      "cell_type": "code",
      "source": [
        "!rm -rf images # Delete the 'images' directory (inside Colab), if it exists\n",
        "!rm -rf sample_data # Delete the 'sample_data' directory (inside Colab), if it exists"
      ],
      "metadata": {
        "id": "igz_e5Y-_unB"
      },
      "execution_count": null,
      "outputs": []
    },
    {
      "cell_type": "code",
      "source": [
        "!pip install pm4py"
      ],
      "metadata": {
        "id": "5DUZzIIS_w4s"
      },
      "execution_count": null,
      "outputs": []
    },
    {
      "cell_type": "code",
      "execution_count": null,
      "metadata": {
        "id": "et1FK9KdQhor"
      },
      "outputs": [],
      "source": [
        "!pip install ahpy # Change line 151 of \"ahpy\" lib from 'self._matrix.itemset(location, value)' to 'self._matrix[location] = value'\n",
        "                  # OR do the Monkey patch of the function (as done in following lines)"
      ]
    },
    {
      "cell_type": "code",
      "source": [
        "!pip install pymcdm"
      ],
      "metadata": {
        "id": "WAbfd02otyKc"
      },
      "execution_count": null,
      "outputs": []
    },
    {
      "cell_type": "code",
      "source": [
        "import os\n",
        "import itertools\n",
        "import pandas as pd\n",
        "import numpy as np\n",
        "import time\n",
        "import builtins # to use .sum() direct on a list\n",
        "import matplotlib.pyplot as plt\n",
        "from pprint import pprint\n",
        "\n",
        "# To execute sensitivity analysis dynamically\n",
        "import ipywidgets as widgets\n",
        "from IPython.display import display\n",
        "from ipywidgets import interact"
      ],
      "metadata": {
        "id": "bcOKvGrLQ0Ot"
      },
      "execution_count": null,
      "outputs": []
    },
    {
      "cell_type": "code",
      "source": [
        "import pm4py\n",
        "\n",
        "from pm4py.objects.conversion.log import converter as log_converter\n",
        "\n",
        "from pm4py.algo.conformance.tokenreplay import algorithm as token_replay\n",
        "\n",
        "# https://pm4py-source.readthedocs.io/en/stable/pm4py.algo.discovery.html\n",
        "from pm4py.algo.discovery.alpha import algorithm as alpha_miner\n",
        "from pm4py.algo.discovery.heuristics import algorithm as heuristics_miner\n",
        "from pm4py.algo.discovery.inductive import algorithm as inductive_miner\n",
        "\n",
        "from pm4py.algo.evaluation import algorithm as evaluation\n",
        "\n",
        "from pm4py.statistics.variants.log import get as log_statistics\n",
        "\n",
        "from pm4py.visualization.dfg import visualizer as dfg_visualization\n",
        "from pm4py.visualization.petri_net import visualizer as pn_visualizer\n",
        "from pm4py.visualization.bpmn import visualizer as bpmn_visualizer\n",
        "from pm4py.visualization.process_tree import visualizer as pt_visualizer"
      ],
      "metadata": {
        "id": "AtG2rYTb_519"
      },
      "execution_count": null,
      "outputs": []
    },
    {
      "cell_type": "code",
      "source": [
        "import ahpy"
      ],
      "metadata": {
        "id": "lCZNhYPj_7vs"
      },
      "execution_count": null,
      "outputs": []
    },
    {
      "cell_type": "code",
      "source": [
        "import pymcdm\n",
        "\n",
        "from pymcdm import visuals\n",
        "from pymcdm import weights as w\n",
        "from pymcdm.methods import PROMETHEE_II, TOPSIS, VIKOR\n",
        "from pymcdm.methods.partial import PROMETHEE_I\n",
        "from pymcdm.helpers import rrankdata # reverse ranking\n",
        "from pymcdm.helpers import rankdata\n",
        "from pymcdm.helpers import correlation_matrix\n",
        "from pymcdm.correlations import weighted_spearman"
      ],
      "metadata": {
        "id": "bpJoxd4R_9FW"
      },
      "execution_count": null,
      "outputs": []
    },
    {
      "cell_type": "markdown",
      "source": [
        "Quais as versões das bibliotecas?"
      ],
      "metadata": {
        "id": "Bd1CvwDupPQZ"
      }
    },
    {
      "cell_type": "code",
      "source": [
        "# List the libraries version"
      ],
      "metadata": {
        "id": "GDGW0Ck83cXe"
      },
      "execution_count": null,
      "outputs": []
    },
    {
      "cell_type": "code",
      "source": [
        "# Function to create the 'images' directory if it doesn't exist\n",
        "def create_directory(diretorio_local):\n",
        "  if not os.path.exists(diretorio_local):\n",
        "    os.makedirs(diretorio_local)"
      ],
      "metadata": {
        "id": "RckU5K63AIWm"
      },
      "execution_count": null,
      "outputs": []
    },
    {
      "cell_type": "code",
      "source": [
        "# Creation the directory where the images will be saved\n",
        "create_directory('images')"
      ],
      "metadata": {
        "id": "hWAOhx4wZntW"
      },
      "execution_count": null,
      "outputs": []
    },
    {
      "cell_type": "markdown",
      "source": [
        "# Módulo leitura do log"
      ],
      "metadata": {
        "id": "RXEJvIugfgJe"
      }
    },
    {
      "cell_type": "code",
      "source": [
        "# Select the way that the script will access the data (1. Google Drive; 2. Uploading)\n",
        "aux_int = 0\n",
        "while aux_int not in [1, 2]:\n",
        "  try:\n",
        "    aux_int = int(input(f'Enter the desired index, being: \\n'\n",
        "                        f'\\t1 -> Google Drive connection \\n'\n",
        "                        f'\\t2 -> Manual upload\\n'))\n",
        "    if aux_int not in [1, 2]:\n",
        "      print(f'Invalid option. Please enter 1 or 2.')\n",
        "  except ValueError:\n",
        "    print(f'Invalid input. Please enter an integer.')\n",
        "\n",
        "if aux_int == 1:\n",
        "  from google.colab import drive\n",
        "  drive.mount('/content/drive')\n",
        "\n",
        "  # directory = str(input(f'Please, insert the name of dictories, file and extension (e.g.: Directory x/Directory n/FileName.csv): '))\n",
        "  directory = 'MyDrive/Logs (Doutorado)/Log_Maquinas_Ajustado.csv'\n",
        "  file_path = '/content/drive/' + directory\n",
        "\n",
        "  # file_path = '/content/drive/MyDrive/Logs (Doutorado)/Log_Maquinas_Ajustado.csv' # Usando este aqui como referência\n",
        "  # file_path = '/content/drive/MyDrive/Logs (Doutorado)/Log_Maquinas_Ajustado_200.csv'\n",
        "\n",
        "elif aux_int == 2:\n",
        "  from google.colab import files\n",
        "\n",
        "  uploaded = files.upload()\n",
        "  file_path = list(uploaded.keys())[0]"
      ],
      "metadata": {
        "id": "fE8gdFxhtiwR"
      },
      "execution_count": null,
      "outputs": []
    },
    {
      "cell_type": "code",
      "source": [
        "# Get the time to measure the time spent, in this case, the total time\n",
        "start_time_of_execution = time.perf_counter() # calc_time_elapsed(start_time_of_execution)"
      ],
      "metadata": {
        "id": "jbWstTl6cDH4"
      },
      "execution_count": null,
      "outputs": []
    },
    {
      "cell_type": "code",
      "source": [
        "# Function to calculate the time spent of an execution\n",
        "def calc_time_elapsed(start_time):\n",
        "  end_time = time.perf_counter()\n",
        "  elapsed_time = end_time - start_time\n",
        "\n",
        "  # Convert elapsed_time to a readable format\n",
        "  if elapsed_time < 60:\n",
        "    time_display = f'{elapsed_time:.4f} seconds'\n",
        "  elif elapsed_time < 3600:\n",
        "    time_display = f'{elapsed_time / 60:.4f} minutes'\n",
        "  elif elapsed_time < 86400:\n",
        "    time_display = f'{elapsed_time / 3600:.4f} hours'\n",
        "  else:\n",
        "    time_display = f'{elapsed_time / 86400:.4f} days'\n",
        "\n",
        "  print(f'Script execution time: {time_display}')"
      ],
      "metadata": {
        "id": "oE-jpcYlfE-E"
      },
      "execution_count": null,
      "outputs": []
    },
    {
      "cell_type": "code",
      "source": [
        "# Read the data (.csv file) and, then, present the 5-first values\n",
        "log_csv = pd.read_csv(file_path, sep=';')\n",
        "log_csv.head()"
      ],
      "metadata": {
        "id": "vlOKIiLlrB0o"
      },
      "execution_count": null,
      "outputs": []
    },
    {
      "cell_type": "code",
      "source": [
        "# Present the overall information of dataframe's columns\n",
        "log_csv.info()"
      ],
      "metadata": {
        "id": "bp8NjvVMAc5S"
      },
      "execution_count": null,
      "outputs": []
    },
    {
      "cell_type": "markdown",
      "source": [
        "# Módulo Mineração de Processos"
      ],
      "metadata": {
        "id": "WA1Ujayrtecd"
      }
    },
    {
      "cell_type": "code",
      "source": [
        "# Get the time to measure the time spent, in this case, only in the Process Mining module\n",
        "start_time_of_execution_PM = time.perf_counter()"
      ],
      "metadata": {
        "id": "6kmWL_yqhHYJ"
      },
      "execution_count": null,
      "outputs": []
    },
    {
      "cell_type": "code",
      "source": [
        "# Create/convert a column in \"datetime\" to use as input for PM algorithms\n",
        "log_csv['timestamp'] = pd.to_datetime(log_csv['timestamp'])\n",
        "log_csv.info()"
      ],
      "metadata": {
        "id": "VQ-sqm_yAgmg"
      },
      "execution_count": null,
      "outputs": []
    },
    {
      "cell_type": "code",
      "source": [
        "# As the log presents \"several production lines\", we collect his variations by Products\n",
        "FilterByProduct = log_csv['Produto'].unique()\n",
        "print(f'{FilterByProduct}')"
      ],
      "metadata": {
        "id": "Ue6rIAcFAiYK"
      },
      "execution_count": null,
      "outputs": []
    },
    {
      "cell_type": "code",
      "source": [
        " # Create a list with \"subarrays\" only with unique products (= production line)\n",
        "dataframe_array = [None] * len(FilterByProduct)\n",
        "\n",
        "for i in range(len(FilterByProduct)):\n",
        "  dataframe_array[i] = pm4py.format_dataframe(log_csv[log_csv['Produto'] == FilterByProduct[i]], case_id='caseID',\n",
        "                                              activity_key='taskID',\n",
        "                                              timestamp_key= 'timestamp',\n",
        "                                              timest_format='%d-%m-%Y %H:%M:%S')\n",
        "\n",
        "print(f'Array global type: {type(dataframe_array)} \\nArray local type: {type(dataframe_array[0])}')"
      ],
      "metadata": {
        "id": "MTyJYzJ1Bcwa"
      },
      "execution_count": null,
      "outputs": []
    },
    {
      "cell_type": "code",
      "source": [
        "# Discover the model using Direct Flow Diagram algorithm\n",
        "start_act = [None] * len(FilterByProduct)\n",
        "end_act = [None] * len(FilterByProduct)\n",
        "dfg = [None] * len(FilterByProduct)\n",
        "start_activities = [None] * len(FilterByProduct)\n",
        "end_activities = [None] * len(FilterByProduct)\n",
        "dfg_image = [None] * len(FilterByProduct)\n",
        "\n",
        "for i in range(len(FilterByProduct)):\n",
        "  start_act[i] = pm4py.get_start_activities(dataframe_array[i]) # Collect the first activitiy of each subarray / sub-dataframe\n",
        "  end_act[i] = pm4py.get_end_activities(dataframe_array[i]) # Collect the last / final activitiy of each subarray / sub-dataframe\n",
        "  print(f'{FilterByProduct[i]} \\nFirst Activity: {start_act[i]} \\nFinal Activity: {end_act[i]}')\n",
        "\n",
        "  dfg[i], start_activities[i], end_activities[i] = pm4py.discover_dfg(dataframe_array[i]) # Present the discovered model using Direct Flow Diagram algorithm\n",
        "  dfg_view = pm4py.view_dfg(dfg[i], start_activities[i], end_activities[i])\n",
        "\n",
        "  dfg_image[i] = dfg_visualization.apply(dfg[i], log=dataframe_array[i], variant=dfg_visualization.Variants.FREQUENCY) # Save the image\n",
        "  dfg_visualization.save(dfg_image[i], f'images/Output_DFG_{FilterByProduct[i]}.png')\n",
        "  print()"
      ],
      "metadata": {
        "id": "G8vYY_5NBglB"
      },
      "execution_count": null,
      "outputs": []
    },
    {
      "cell_type": "code",
      "source": [
        "# Convert the dataframe array into event log array\n",
        "log_EL_array = [None] * len(FilterByProduct)\n",
        "\n",
        "for i in range(len(FilterByProduct)):\n",
        "  # log_EL_array[i] = pm4py.convert_to_event_log(log_EventLog_array[i])\n",
        "  log_EL_array[i] = pm4py.convert_to_event_log(dataframe_array[i])"
      ],
      "metadata": {
        "id": "r3xbzsmICxAJ"
      },
      "execution_count": null,
      "outputs": []
    },
    {
      "cell_type": "code",
      "source": [
        "# Show how many instances / traces / cases there are in the log\n",
        "for i in range(len(FilterByProduct)):\n",
        "  print(f'{FilterByProduct[i]} \\tNumber of traces: {len(log_EL_array[i])}')"
      ],
      "metadata": {
        "id": "gQKko6RECziS"
      },
      "execution_count": null,
      "outputs": []
    },
    {
      "cell_type": "code",
      "source": [
        "# Show how many activities there are in the log\n",
        "event_stream_EL = [None] * len(FilterByProduct)\n",
        "\n",
        "for i in range(len(FilterByProduct)):\n",
        "  event_stream_EL[i] = log_converter.apply(log_EL_array[i], variant=log_converter.Variants.TO_EVENT_STREAM)\n",
        "  print(f'{FilterByProduct[i]} \\tNumber of events: {len(event_stream_EL[i])}')"
      ],
      "metadata": {
        "id": "z7WjDMUlC1QN"
      },
      "execution_count": null,
      "outputs": []
    },
    {
      "cell_type": "code",
      "source": [
        "# Present only the activities within each subarray\n",
        "events_EL_array = [None] * len(FilterByProduct)\n",
        "\n",
        "for i in range(len(FilterByProduct)):\n",
        "  print(f'{FilterByProduct[i]}')\n",
        "  events_EL_array[i] = dataframe_array[i].drop_duplicates(subset='concept:name')\n",
        "  print(events_EL_array[i]['concept:name'].tolist())\n",
        "  print(f'-'*50)"
      ],
      "metadata": {
        "id": "2kwbrYMgC2_3"
      },
      "execution_count": null,
      "outputs": []
    },
    {
      "cell_type": "code",
      "source": [
        "# First and final activity of each subarray\n",
        "for i in range(len(FilterByProduct)):\n",
        "  print(f'{FilterByProduct[i]}')\n",
        "  print(f'Start activities: {pm4py.get_start_activities(log_EL_array[i])}') # 1st way of get start / end activity\n",
        "  print(f'End activities: {pm4py.get_end_activities(log_EL_array[i])}')\n",
        "  print(f'-'*50)"
      ],
      "metadata": {
        "id": "ShXmaMoNC4kR"
      },
      "execution_count": null,
      "outputs": []
    },
    {
      "cell_type": "code",
      "source": [
        "# It filters only cases that end with an specific activity, in this case, only \"Peca Produzida - Peca Boa\"\n",
        "filtered_log = [None] * len(FilterByProduct)\n",
        "\n",
        "for i in range(len(FilterByProduct)):\n",
        "  print(f'{FilterByProduct[i]}')\n",
        "  filtered_log[i] = pm4py.filter_end_activities(log_EL_array[i], ['Peca Produzida - Peca Boa'])\n",
        "  print(filtered_log[i])\n",
        "  print(f'-'*50)"
      ],
      "metadata": {
        "id": "acLiHXBJDIj5"
      },
      "execution_count": null,
      "outputs": []
    },
    {
      "cell_type": "code",
      "source": [
        "# Calculate the number of variants and, as a consequence, the frequency of each\n",
        "variants_count = [None] * len(FilterByProduct)\n",
        "\n",
        "for i in range(len(FilterByProduct)):\n",
        "  print(f'{FilterByProduct[i]}')\n",
        "\n",
        "  variants_count[i] = log_statistics.get_variants(log_EL_array[i])\n",
        "  variants_count[i] = sorted(variants_count[i].items(), key=lambda item: len(item[1]), reverse=True)\n",
        "\n",
        "  # Calculate the number of unique variants\n",
        "  unique_variants_count = len(variants_count[i])\n",
        "  print(f'Number of unique variants: {unique_variants_count}')\n",
        "\n",
        "  # To print the top 10 variants and their counts:\n",
        "  print(f'Top 10 variants by case number:')\n",
        "  for variant_info in variants_count[i][:10]:\n",
        "    print(f'Count: {len(variant_info[1])},\\t Variant: {variant_info[0]}')\n",
        "\n",
        "  print(f'-'*50)"
      ],
      "metadata": {
        "id": "-2IseuHDDO75"
      },
      "execution_count": null,
      "outputs": []
    },
    {
      "cell_type": "code",
      "source": [
        "# Present visually the activities, highlighting which of them starts / ends the cases\n",
        "# It uses the Alpha Miner algorithm to identify them\n",
        "a_net = [None] * len(FilterByProduct)\n",
        "a_initial_marking = [None] * len(FilterByProduct)\n",
        "a_final_marking = [None] * len(FilterByProduct)\n",
        "a_gviz = [None] * len(FilterByProduct)\n",
        "\n",
        "for i in range(len(FilterByProduct)):\n",
        "  print(f'{FilterByProduct[i]}')\n",
        "  a_net[i], a_initial_marking[i], a_final_marking[i] = alpha_miner.apply(dataframe_array[i]) # Alpha Miner\n",
        "  a_gviz[i] = pn_visualizer.apply(a_net[i], a_initial_marking[i], a_final_marking[i]) # Visualize Alpha Miner\n",
        "  pn_visualizer.view(a_gviz[i])\n",
        "  pn_visualizer.save(a_gviz[i], f'images/Alpha Miner_{FilterByProduct[i]}.png')\n",
        "\n",
        "  print()"
      ],
      "metadata": {
        "id": "3VrXAKqYDWbY"
      },
      "execution_count": null,
      "outputs": []
    },
    {
      "cell_type": "code",
      "source": [
        "# Present visually / discover the process by using the Heuristics Miner algorithm\n",
        "h_net = [None] * len(FilterByProduct)\n",
        "h_initial_marking = [None] * len(FilterByProduct)\n",
        "h_final_marking = [None] * len(FilterByProduct)\n",
        "h_gviz = [None] * len(FilterByProduct)\n",
        "\n",
        "for i in range(len(FilterByProduct)):\n",
        "  print(f'{FilterByProduct[i]}')\n",
        "  h_net[i], h_initial_marking[i], h_final_marking[i] = heuristics_miner.apply(dataframe_array[i]) # Heuristics Miner\n",
        "  h_gviz[i] = pn_visualizer.apply(h_net[i], h_initial_marking[i], h_final_marking[i]) # Visualize Heuristics Miner\n",
        "  pn_visualizer.view(h_gviz[i])\n",
        "  pn_visualizer.save(h_gviz[i], f'images/Heuristics Miner Discovery_{FilterByProduct[i]}.png')\n",
        "\n",
        "  print()"
      ],
      "metadata": {
        "id": "fo66o-gfDY4K"
      },
      "execution_count": null,
      "outputs": []
    },
    {
      "cell_type": "code",
      "source": [
        "# Present visually / discover the process by using the Inductive Miner algorithm\n",
        "i_net = [None] * len(FilterByProduct)\n",
        "i_initial_marking = [None] * len(FilterByProduct)\n",
        "i_final_marking = [None] * len(FilterByProduct)\n",
        "i_gviz = [None] * len(FilterByProduct)\n",
        "\n",
        "for i in range(len(FilterByProduct)):\n",
        "  print(f'{FilterByProduct[i]}')\n",
        "  i_net[i] = inductive_miner.apply(dataframe_array[i]) # inductive_miner.apply() only needs 1 parameter, the log file\n",
        "  i_net[i], i_initial_marking[i], i_final_marking[i] = pm4py.convert_to_petri_net(i_net[i]) # convert to PetriNet\n",
        "  i_gviz[i] = pn_visualizer.apply(i_net[i], i_initial_marking[i], i_final_marking[i]) # visualize inductive miner\n",
        "  pn_visualizer.view(i_gviz[i])\n",
        "  pn_visualizer.save(i_gviz[i], f'images/Inductive Miner_{FilterByProduct[i]}.png')\n",
        "\n",
        "  print()"
      ],
      "metadata": {
        "id": "QCdYqNl5DbA1"
      },
      "execution_count": null,
      "outputs": []
    },
    {
      "cell_type": "code",
      "source": [
        "# Responsible for evaluate the (calculate all metrics from) discovered models\n",
        "# TBR = token-based replay\n",
        "alpha_result = [None] * len(FilterByProduct)\n",
        "heuristic_result = [None] * len(FilterByProduct)\n",
        "inductive_result = [None] * len(FilterByProduct)\n",
        "\n",
        "for i in range(len(FilterByProduct)):\n",
        "  print(f'{FilterByProduct[i]}')\n",
        "  alpha_result[i] = evaluation.apply(dataframe_array[i], a_net[i], a_initial_marking[i], a_final_marking[i])\n",
        "  heuristic_result[i] = evaluation.apply(dataframe_array[i], h_net[i], h_initial_marking[i], h_final_marking[i])\n",
        "  inductive_result[i] = evaluation.apply(dataframe_array[i], i_net[i], i_initial_marking[i], i_final_marking[i])\n",
        "\n",
        "  print(f'Alpha Miner:'), pprint(alpha_result[i]), print('')\n",
        "  print(f'Heuristics Miner:'), pprint(heuristic_result[i]), print('')\n",
        "  print(f'Inductive Miner:'), pprint(inductive_result[i]), print('')\n",
        "  print('-'*50)"
      ],
      "metadata": {
        "id": "pkgd57daDdMs"
      },
      "execution_count": null,
      "outputs": []
    },
    {
      "cell_type": "code",
      "source": [
        "# Consolidate previous results and present the \"average trace fitness\" to users\n",
        "for i in range(len(FilterByProduct)):\n",
        "  print(f'{FilterByProduct[i]} - Average trace fitness:')\n",
        "  print(f'Alpha Miner: {alpha_result[i]['fitness']['average_trace_fitness']:.4f} --- '\n",
        "        f'Heuristic Miner: {heuristic_result[i]['fitness']['average_trace_fitness']:.4f} --- '\n",
        "        f'Inductive Miner: {inductive_result[i]['fitness']['average_trace_fitness']:.4f}')\n",
        "  print(f'-'*50)"
      ],
      "metadata": {
        "id": "FK9UDm64gz1x"
      },
      "execution_count": null,
      "outputs": []
    },
    {
      "cell_type": "code",
      "source": [
        "# Calculate the number traces of each subarray does not fit the discovered model\n",
        "# In this case, we choose the Heuristic Miner to test it\n",
        "replayed_traces = [None] * len(FilterByProduct)\n",
        "\n",
        "for i in range(len(FilterByProduct)):\n",
        "  print(f'{FilterByProduct[i]}')\n",
        "  # replayed_traces[i] = token_replay.apply(dataframe_array[i], a_net[i], a_initial_marking[i], a_final_marking[i])\n",
        "  replayed_traces[i] = token_replay.apply(dataframe_array[i], h_net[i], h_initial_marking[i], h_final_marking[i])\n",
        "  # replayed_traces[i] = token_replay.apply(dataframe_array[i], i_net[i], i_initial_marking[i], i_final_marking[i])\n",
        "\n",
        "  sum = 0\n",
        "  for dict in replayed_traces[i]:\n",
        "    if dict['trace_is_fit'] == False:\n",
        "      sum += 1\n",
        "\n",
        "  print(f'Number of traces not fit: {sum}')\n",
        "  print(f'-'*50)"
      ],
      "metadata": {
        "id": "aTW3KAxCDf5I"
      },
      "execution_count": null,
      "outputs": []
    },
    {
      "cell_type": "code",
      "source": [
        "# We can partially select the log by filtering only the top \"k\" variants\n",
        "short_log = [None] * len(FilterByProduct)\n",
        "\n",
        "aux = str(input(f'Do you want to filter the top variants (traces)? (y / n) '))\n",
        "if aux.lower() == 'y':\n",
        "  k = int(input(f'Enter the value of top traces you want to filter (\"k\"): '))\n",
        "  for i in range(len(FilterByProduct)):\n",
        "    short_log[i] = pm4py.filter_variants_top_k(log_EL_array[i], k)\n",
        "    print(f'{FilterByProduct[i]} \\tNumber of traces: \\t'\n",
        "          f'Top-{k} cases: {len(short_log[i])} \\t'\n",
        "          f'Original: {len(log_EL_array[i])}')\n",
        "else:\n",
        "  short_log = log_EL_array.copy()\n",
        "  for i in range(len(FilterByProduct)):\n",
        "    print(f'{FilterByProduct[i]} \\tNumber of traces: {len(short_log[i])}')\n",
        "\n",
        "# For here on, the var \"short_log\" will be used as reference for calculation,\n",
        "# since it can be used as original OR filtered with only top traces"
      ],
      "metadata": {
        "id": "_j3hBxuREA7w"
      },
      "execution_count": null,
      "outputs": []
    },
    {
      "cell_type": "code",
      "source": [
        "# For each subarray, it calculates the pair of activity and its frequency, it also presents the start/final\n",
        "dfg_discover = [None] * len(FilterByProduct)\n",
        "start_activities = [None] * len(FilterByProduct)\n",
        "end_activities = [None] * len(FilterByProduct)\n",
        "\n",
        "for i in range(len(FilterByProduct)):\n",
        "  # a directly -follows graph (DFG) is discovered from the log\n",
        "  dfg_discover[i], start_activities[i], end_activities[i] = pm4py.discover_dfg(short_log[i]) # 2nd way of get start / end activity\n",
        "\n",
        "  print(f'{FilterByProduct[i]}')\n",
        "  pprint(dfg_discover[i])\n",
        "  print()\n",
        "  print(f'Start activity / qtty.: {start_activities[i]}')\n",
        "  print(f'End activity / qtty.: {end_activities[i]}')\n",
        "  print(f'-'*50)"
      ],
      "metadata": {
        "id": "4dDLNe6yaKxS"
      },
      "execution_count": null,
      "outputs": []
    },
    {
      "cell_type": "code",
      "source": [
        "# It uses Inductive Miner to discover and format it to present as: Process Tree, Petri Net, and BPMN diagram\n",
        "process_tree = [None] * len(FilterByProduct)\n",
        "bpmn_diagram = [None] * len(FilterByProduct)\n",
        "petri_net = [None] * len(FilterByProduct)\n",
        "initial_marking = [None] * len(FilterByProduct)\n",
        "final_marking = [None] * len(FilterByProduct)\n",
        "\n",
        "for i in range(len(FilterByProduct)):\n",
        "  # a process tree is discovered using the inductive miner\n",
        "  process_tree[i] = pm4py.discover_process_tree_inductive(short_log[i])\n",
        "\n",
        "  petri_net[i], initial_marking[i], final_marking[i] = pm4py.convert_to_petri_net(process_tree[i]) # the process tree is converted to an accepting Petri net\n",
        "\n",
        "  # the accepting Petri net is converted to a BPMN diagram\n",
        "  bpmn_diagram[i] = pm4py.convert_to_bpmn(petri_net[i], initial_marking[i], final_marking[i])"
      ],
      "metadata": {
        "id": "CvagudPuaMQv"
      },
      "execution_count": null,
      "outputs": []
    },
    {
      "cell_type": "code",
      "source": [
        "# Count of frequency of each activity for each subarray\n",
        "activity_counts = [None] * len(FilterByProduct)\n",
        "\n",
        "for i in range(len(FilterByProduct)):\n",
        "  activity_counts[i] = pm4py.get_event_attribute_values(short_log[i], 'concept:name')\n",
        "  print(f'{FilterByProduct[i]}')\n",
        "  pprint(activity_counts[i])\n",
        "  print('\\nObs.: it is counting the start/end of each activity, so, the total amount presented is, approximately, twice the real execution.\\n','-'*50)"
      ],
      "metadata": {
        "id": "tTa0Q0WRaN-Z"
      },
      "execution_count": null,
      "outputs": []
    },
    {
      "cell_type": "code",
      "source": [
        "# Vizualize the activities as Direct Flow Graph (DFG)\n",
        "dfg_SL = [None] * len(FilterByProduct)\n",
        "\n",
        "for i in range(len(FilterByProduct)):\n",
        "  print(f'{FilterByProduct[i]}')\n",
        "  dfg_SL[i] = dfg_visualization.apply(dfg_discover[i], log=short_log[i], variant=dfg_visualization.Variants.FREQUENCY) #here, we are using the \"short log\" (i.e., with the top-5 variant)\n",
        "  dfg_visualization.save(dfg_SL[i], f'images/Output_DFG_ShortLog_{FilterByProduct[i]}.png')\n",
        "  dfg_visualization.view(dfg_SL[i])\n",
        "  print()"
      ],
      "metadata": {
        "id": "ccR55ZCZaP-v"
      },
      "execution_count": null,
      "outputs": []
    },
    {
      "cell_type": "code",
      "source": [
        "# Vizualize the activities as Process Tree\n",
        "process_tree_SL = [None] * len(FilterByProduct)\n",
        "\n",
        "for i in range(len(FilterByProduct)):\n",
        "  print(f'{FilterByProduct[i]}')\n",
        "  process_tree_SL[i] = pt_visualizer.apply(process_tree[i])\n",
        "  pt_visualizer.save(process_tree_SL[i], f'images/Output_Process Tree_ShortLog_{FilterByProduct[i]}.png')\n",
        "  pt_visualizer.view(process_tree_SL[i])\n",
        "  print()"
      ],
      "metadata": {
        "id": "tLA6qtPOaRdA"
      },
      "execution_count": null,
      "outputs": []
    },
    {
      "cell_type": "code",
      "source": [
        "# Vizualize the activities as Petri Nets\n",
        "petrinet_SL = [None] * len(FilterByProduct)\n",
        "\n",
        "for i in range(len(FilterByProduct)):\n",
        "  print(f'{FilterByProduct[i]}')\n",
        "  petrinet_SL[i] = pn_visualizer.apply(petri_net[i], initial_marking[i], final_marking[i])\n",
        "  pn_visualizer.save(petrinet_SL[i], f'images/Output_Petri-Net_ShortLog_{FilterByProduct[i]}.png')\n",
        "  pn_visualizer.view(petrinet_SL[i])\n",
        "  print()"
      ],
      "metadata": {
        "id": "UxmyV0UZaSuh"
      },
      "execution_count": null,
      "outputs": []
    },
    {
      "cell_type": "code",
      "source": [
        "# Vizualize the activities as BPMN diagram\n",
        "bpmn_SL = [None] * len(FilterByProduct)\n",
        "\n",
        "for i in range(len(FilterByProduct)):\n",
        "  print(f'{FilterByProduct[i]}')\n",
        "  bpmn_SL[i] = bpmn_visualizer.apply(bpmn_diagram[i])\n",
        "  bpmn_visualizer.save(bpmn_SL[i], f'images/Output_BPMN_NewScript_{FilterByProduct[i]}.png')\n",
        "  bpmn_visualizer.view(bpmn_SL[i])\n",
        "  print()"
      ],
      "metadata": {
        "id": "UxNQN-maaUYo"
      },
      "execution_count": null,
      "outputs": []
    },
    {
      "cell_type": "code",
      "source": [
        "# Compare the original log vs. the discovered model (Obs.: only for Petri Net object: https://pm4py-source.readthedocs.io/en/stable/pm4py.html)\n",
        "fitness_SL = [None] * len(FilterByProduct)\n",
        "precision_SL = [None] * len(FilterByProduct)\n",
        "\n",
        "for i in range(len(FilterByProduct)):\n",
        "  print(f'{FilterByProduct[i]}')\n",
        "  fitness_SL[i]= pm4py.fitness_token_based_replay(short_log[i], petri_net[i], initial_marking[i], final_marking[i])\n",
        "  print()\n",
        "  print(f'Fitness:'),\n",
        "  pprint(fitness_SL[i])\n",
        "\n",
        "  precision_SL[i] = pm4py.precision_token_based_replay(short_log[i], petri_net[i], initial_marking[i], final_marking[i])\n",
        "  print()\n",
        "  print(f'Precision: {precision_SL[i]  :.4f}')\n",
        "\n",
        "  print('-'*50)"
      ],
      "metadata": {
        "id": "peiUzSrUaVxU"
      },
      "execution_count": null,
      "outputs": []
    },
    {
      "cell_type": "code",
      "source": [
        "# Calculate the duration of each case for each subarray\n",
        "case_duration = [None] * len(FilterByProduct)\n",
        "\n",
        "for i in range(len(FilterByProduct)):\n",
        "  print(f'{FilterByProduct[i]}')\n",
        "  case_duration[i] = pm4py.get_all_case_durations(short_log[i])\n",
        "\n",
        "  print(f'{case_duration[i]}')\n",
        "  print(f'Qtde. de saídas = {len(case_duration[i])}')\n",
        "\n",
        "  soma = 0\n",
        "  for n in range(len(case_duration[i])-1):\n",
        "    soma = (case_duration[i][n+1] - case_duration[i][n]) + soma\n",
        "\n",
        "  media = soma / len(case_duration[i])\n",
        "  print(f'Tempo de ciclo médio (segundos) = {media :.2f}')\n",
        "  print('-'*50)"
      ],
      "metadata": {
        "id": "axu2EQIZak2k"
      },
      "execution_count": null,
      "outputs": []
    },
    {
      "cell_type": "code",
      "source": [
        "soma = 0\n",
        "for i in range(len(case_duration[9])-1):\n",
        "  soma = case_duration[9][i+1] - case_duration[9][i] + soma\n",
        "\n",
        "media = soma / len(case_duration[9])\n",
        "media"
      ],
      "metadata": {
        "id": "iEoyPGs22VB8"
      },
      "execution_count": null,
      "outputs": []
    },
    {
      "cell_type": "code",
      "source": [
        "# Check if the discovered model is a sound workflow net (Obs.: only for Petri Net object)\n",
        "is_sound_wfnet = [None] * len(FilterByProduct)\n",
        "\n",
        "for i in range(len(FilterByProduct)):\n",
        "  is_sound_wfnet[i] = pm4py.check_soundness(petri_net[i], initial_marking[i], final_marking[i])[0]\n",
        "  print(f'Is the log (or partial log) \"{FilterByProduct[i]}\" a sound workflow net?\\t {is_sound_wfnet[i]}') # True"
      ],
      "metadata": {
        "id": "yb4oa2vaaXbT"
      },
      "execution_count": null,
      "outputs": []
    },
    {
      "cell_type": "code",
      "source": [
        "# # Another way to discover and present the Petri Net\n",
        "# pnet = [None] * len(FilterByProduct)\n",
        "# pnet_initial_marking = [None] * len(FilterByProduct)\n",
        "# pnet_final_marking = [None] * len(FilterByProduct)\n",
        "\n",
        "# for i in range(len(FilterByProduct)):\n",
        "#   print(f'{FilterByProduct[i]}')\n",
        "#   # Discover Petri net using the inductive miner and Visualize it\n",
        "#   pnet[i], pnet_initial_marking[i], pnet_final_marking[i] = pm4py.discover_petri_net_inductive(short_log[i])\n",
        "#   pm4py.view_petri_net(pnet[i], pnet_initial_marking[i], pnet_final_marking[i])\n",
        "#   print()"
      ],
      "metadata": {
        "id": "R-66654cai2J"
      },
      "execution_count": null,
      "outputs": []
    },
    {
      "cell_type": "code",
      "source": [
        "# # Filter the log (if needed) according to the case performance\n",
        "# filtered_log = [None] * len(FilterByProduct)\n",
        "\n",
        "# for i in range(len(FilterByProduct)):\n",
        "#   # for filtering based on performance filters\n",
        "#   filtered_log[i] = pm4py.filter_case_performance(short_log[i], min_performance=100, max_performance=1000)"
      ],
      "metadata": {
        "id": "l81r3HqjamoY"
      },
      "execution_count": null,
      "outputs": []
    },
    {
      "cell_type": "markdown",
      "source": [
        "## In the current log context, we have..."
      ],
      "metadata": {
        "id": "YEYIY3y2abTK"
      }
    },
    {
      "cell_type": "code",
      "source": [
        "# Function to calculate the time spent for each activity\n",
        "def get_activity_durations_minutes(LogEventos_df):\n",
        "  activity_durations = {}\n",
        "\n",
        "  events_EL = LogEventos_df.drop_duplicates(subset='taskID')\n",
        "  events_text = events_EL['taskID'].tolist()\n",
        "  events_text.sort()\n",
        "\n",
        "  for case_id, case in LogEventos_df.groupby('caseID'):\n",
        "    activity_start_times = {}\n",
        "    for index, event in case.iterrows():\n",
        "      activity_name = event['taskID']\n",
        "      timestamp = event['timestamp']\n",
        "      lifecycle_transition = event.get('eventtype') # Assuming 'eventtype' exists\n",
        "\n",
        "      if lifecycle_transition == 'start': # markers of beginning\n",
        "        activity_start_times[activity_name] = timestamp\n",
        "      elif lifecycle_transition == 'complete' and activity_name in activity_start_times: # markers of ending\n",
        "        duration = timestamp - activity_start_times[activity_name]\n",
        "        if activity_name not in activity_durations:\n",
        "          activity_durations[activity_name] = []\n",
        "        activity_durations[activity_name].append(duration)\n",
        "\n",
        "  activity_total_time = {}\n",
        "  for act in events_EL['taskID'].tolist():\n",
        "    if act in activity_durations:\n",
        "      tempo = pd.Series(activity_durations[act])\n",
        "      # total_time = tempo.sum() # Variable in timedelta\n",
        "      total_time = tempo.sum().total_seconds()/60 # Convert timedelta to minutes (.../60)\n",
        "    else:\n",
        "      # total_time = pd.Timedelta(seconds=0) # Set time to 0 if activity not in dictionary\n",
        "      total_time = 0.0 # Set time to 0.0 if activity not in dictionary\n",
        "    activity_total_time[act] = total_time\n",
        "\n",
        "  return activity_total_time, events_text"
      ],
      "metadata": {
        "id": "CkHkR1jAaZxz"
      },
      "execution_count": null,
      "outputs": []
    },
    {
      "cell_type": "code",
      "source": [
        "# Calculate the KPI related to no. of stops (failures or stops) during execution\n",
        "c3_stop = [None] * len(FilterByProduct)\n",
        "c3_fail = [None] * len(FilterByProduct)\n",
        "c3 = [None] * len(FilterByProduct)\n",
        "\n",
        "for i in range(len(FilterByProduct)):\n",
        "  df_produto1 = log_csv[log_csv['Produto'] == FilterByProduct[i]] # we SHOULD use the Event Log variable, without filtering\n",
        "\n",
        "  # 1/2 (0.5) -> It multiplies by .5 because the function counts the \"start\" and \"complete\" event\n",
        "  c3_stop[i] = 1/2 * (df_produto1[df_produto1['taskID'] == 'Falha durante o trabalho'].shape[0])\n",
        "  c3_fail[i] = 1/2 * (df_produto1[df_produto1['taskID'] == 'Parada Operacional'].shape[0])\n",
        "  c3[i] = (c3_stop[i] + c3_fail[i])\n",
        "  print(f'Number of stops for {FilterByProduct[i]}: \\t{c3[i]}')"
      ],
      "metadata": {
        "id": "XJHm91fBB1Xo"
      },
      "execution_count": null,
      "outputs": []
    },
    {
      "cell_type": "code",
      "source": [
        "# Calculation of some KPIs (it will be used to MTBF and MTTR)\n",
        "FailRate = [None] * len(FilterByProduct) # c1\n",
        "MTBF = [None] * len(FilterByProduct)\n",
        "MTTR = [None] * len(FilterByProduct) # c2\n",
        "up_time = [None] * len(FilterByProduct)\n",
        "\n",
        "for i in range(len(FilterByProduct)):\n",
        "  print(f'{FilterByProduct[i]}')\n",
        "\n",
        "  act_time, events_name = get_activity_durations_minutes(dataframe_array[i]) # we SHOULD use the dataframe variable, without filtering\n",
        "  pprint(act_time)\n",
        "\n",
        "  up_time[i] = act_time['Trabalhar'] + act_time['Setup'] + act_time['Retirar Produto'] + act_time['Parada Operacional']\n",
        "\n",
        "  MTBF[i] = up_time[i] / c3_stop[i]\n",
        "  FailRate[i] = 1 / MTBF[i]\n",
        "\n",
        "  MTTR[i] = act_time['Falha durante o trabalho'] / c3_stop[i]\n",
        "\n",
        "  print()\n",
        "  print(f'Production (uptime): {up_time[i] :.2f} \\t MTBF: {MTBF[i] :.3f} \\t Failure rate: {FailRate[i] :.3f} \\t MTTR: {MTTR[i] :.3f} \\t Failure No.: {c3[i]}')\n",
        "  print('\\n', '-'*50)"
      ],
      "metadata": {
        "id": "HVpK3B09ahK1"
      },
      "execution_count": null,
      "outputs": []
    },
    {
      "cell_type": "code",
      "source": [
        "# It presents how long it took to run this module\n",
        "print(f'Process Mining Module - Time of Execution:')\n",
        "calc_time_elapsed(start_time_of_execution_PM)"
      ],
      "metadata": {
        "id": "qhGk1no9eWCS"
      },
      "execution_count": null,
      "outputs": []
    },
    {
      "cell_type": "markdown",
      "source": [
        "# Módulo AHP"
      ],
      "metadata": {
        "id": "zCKy1HWOQleO"
      }
    },
    {
      "cell_type": "markdown",
      "source": [
        "Monkey patch\n",
        "*   from '***self._matrix.itemset(location, value)***'\n",
        "*   to '***self._matrix[location] = value***'"
      ],
      "metadata": {
        "id": "blP-UHcsQ4pJ"
      }
    },
    {
      "cell_type": "code",
      "source": [
        "# Get the time to measure the time spent, in this case, only in the AHP Method module\n",
        "start_time_of_execution_AHP = time.perf_counter()"
      ],
      "metadata": {
        "id": "1wTdGRW8hcPH"
      },
      "execution_count": null,
      "outputs": []
    },
    {
      "cell_type": "code",
      "source": [
        "# Do the \"Monkey patch\" of a function inside an external library that changes the way it is called after a new release of Numpy\n",
        "from unittest import mock\n",
        "# import ahpy # Replace with the actual library you're patching\n",
        "\n",
        "print(f'NumPy version running \"{np.__version__}\" vs. Recommended version to use \"1.26.4\" OR do the Monkey patching.')\n",
        "print(f'In the current script, we are performing the \"Monkey patching\" of a function, since the way it is called has changed.')\n",
        "\n",
        "def new_build_matrix(self):\n",
        "  self._matrix = np.ones((self._size, self._size))\n",
        "  for pair, value in self._pairs.items():\n",
        "    location = tuple(self._elements.index(elements) for elements in pair)\n",
        "    # Use array indexing instead of itemset\n",
        "    self._matrix[location] = value\n",
        "\n",
        "# Monkey patch the ahpy.Compare class\n",
        "ahpy.Compare._build_matrix = new_build_matrix"
      ],
      "metadata": {
        "id": "DIdDoVKSQ3lF"
      },
      "execution_count": null,
      "outputs": []
    },
    {
      "cell_type": "code",
      "source": [
        "# Get the qtty of criteria and its respective names\n",
        "def get_matrix_name(name):\n",
        "  fn_list_criteria = []\n",
        "  typeMinMax = []\n",
        "  while True:\n",
        "    try:\n",
        "      fn_num_criteria = int(input(f'Enter the number of {name} to be inserted: '))\n",
        "      break # Exit the loop if input is a valid integer\n",
        "    except ValueError:\n",
        "      print(f'Invalid input. Please enter a number.')\n",
        "\n",
        "  for n in range(fn_num_criteria):\n",
        "    aux_str = str(input(f'Type the name of {name} {(n+1):.0f}: '))\n",
        "\n",
        "    while aux_str in fn_list_criteria:\n",
        "      print(f'This name already exist. Please input a new one!')\n",
        "      aux_str = str(input(f'Type the name of {name} {(n+1):.0f}: '))\n",
        "\n",
        "    fn_list_criteria.append(aux_str)\n",
        "\n",
        "    while True:\n",
        "      try:\n",
        "        obj_input = int(input(f'Which is the objective of \"{fn_list_criteria[n]}\" criterion (Min = -1 OR Max = 1)? '))\n",
        "        if obj_input in [-1, 1]:\n",
        "          typeMinMax.append(obj_input)\n",
        "          break # Exit the loop if input is a valid integer and is -1 or 1\n",
        "        else:\n",
        "          print('Invalid input. Please enter -1 for Min or 1 for Max.')\n",
        "      except ValueError:\n",
        "        print(f'Invalid input. Please enter a number.')\n",
        "\n",
        "  fn_list_criteria_pairs = list(itertools.combinations(fn_list_criteria, 2))\n",
        "  return fn_num_criteria, typeMinMax, fn_list_criteria, fn_list_criteria_pairs"
      ],
      "metadata": {
        "id": "dxGbWu1TdsDS"
      },
      "execution_count": null,
      "outputs": []
    },
    {
      "cell_type": "code",
      "source": [
        "# Peer-to-peer comparison between criteria\n",
        "def get_matrix_values(list_of_criteria_pairs):\n",
        "  matrix_weights = {}\n",
        "  n = 0\n",
        "  for pair in list_of_criteria_pairs:\n",
        "    while True:  # Loop until valid input is received\n",
        "      aux_str = str(input(f'Insert the relevance value (weight) of criterion 1 in relation to criterion 2 -> {list_of_criteria_pairs[n]}: '))\n",
        "      try:\n",
        "        if '/' in aux_str:\n",
        "          index = aux_str.find('/')\n",
        "          numerador = float(aux_str[:index])\n",
        "          denominador = float(aux_str[index+1:])\n",
        "          value = float(numerador / denominador)\n",
        "        else:\n",
        "          value = float(aux_str)\n",
        "        matrix_weights[pair] = value\n",
        "        break  # Exit the loop if input is valid\n",
        "      except ValueError:\n",
        "        print(f'Invalid input. Please enter a number or a fraction (e.g., 3 or 1/2).')\n",
        "      except ZeroDivisionError:\n",
        "        print(f'Invalid input. The denominator of a fraction cannot be zero.')\n",
        "\n",
        "    n += 1\n",
        "  return matrix_weights"
      ],
      "metadata": {
        "id": "QnCp1HkMQ--K"
      },
      "execution_count": null,
      "outputs": []
    },
    {
      "cell_type": "code",
      "source": [
        "# Get the qtty, names and peer-to-peer criteria list\n",
        "qtde_criteria, MinMax, list_criteria, list_criteria_pairs = get_matrix_name('Criteria')\n",
        "print(f'-'*50)\n",
        "print(f'List of criteria: {list_criteria} --- Criteria qtty: {qtde_criteria}\\n')\n",
        "print(f'Type of criteria (MinMax): {MinMax}\\n')\n",
        "print(f'List of criteria (peer-to-peer):')\n",
        "pprint(list_criteria_pairs)"
      ],
      "metadata": {
        "id": "jyXd5lAkQ9p-"
      },
      "execution_count": null,
      "outputs": []
    },
    {
      "cell_type": "code",
      "source": [
        "# Peer-to-peer criteria comparisons\n",
        "criteria_comparisons = get_matrix_values(list_criteria_pairs) # 1/3 1/5 5 3 1 7 5 7 7 3\n",
        "\n",
        "# pprint(criteria_comparisons)\n",
        "# criteria_comparisons.values()\n",
        "# criteria_comparisons.keys()"
      ],
      "metadata": {
        "id": "q8_IreasRA1a"
      },
      "execution_count": null,
      "outputs": []
    },
    {
      "cell_type": "code",
      "source": [
        "# Check if consistency ratio is acceptable and question user if he/she wants to proceed or not (if higher than expected)\n",
        "criteria = ahpy.Compare('Criteria and Weights', criteria_comparisons, random_index='saaty') # random_index='saaty' OR 'dd' < https://pypi.org/project/ahpy/#the-compare-class >\n",
        "\n",
        "while criteria.consistency_ratio > 0.1:\n",
        "  aux = str(input(f'Consistency ratio (CR) is over 0.1 (10%) [CR = {criteria.consistency_ratio}]. \\nDo you want to redo the comparisons? (y / n) '))\n",
        "  print()\n",
        "\n",
        "  if aux.lower() == 'y':\n",
        "    criteria_comparisons = get_matrix_values(list_criteria_pairs)\n",
        "    criteria = ahpy.Compare('Criteria and Weights', criteria_comparisons, random_index='saaty')\n",
        "  else:\n",
        "    print(f'Your consistency ratio (CR) is higher than expected. CR obtained = {criteria.consistency_ratio} vs. Expected <= 0.1')\n",
        "    break\n",
        "\n",
        "print()\n",
        "print(f'Consistency Ratio (CR): {criteria.consistency_ratio} < {criteria.consistency_ratio *100 :.2f}% >')"
      ],
      "metadata": {
        "id": "CV8KPucPRCe5"
      },
      "execution_count": null,
      "outputs": []
    },
    {
      "cell_type": "code",
      "source": [
        "# Present the weight of each criteria\n",
        "report = criteria.report()\n",
        "pprint(report)"
      ],
      "metadata": {
        "id": "-dDG68ETWl7m"
      },
      "execution_count": null,
      "outputs": []
    },
    {
      "cell_type": "code",
      "source": [
        "# Access the weights within dictionary (see above)\n",
        "criteria.target_weights"
      ],
      "metadata": {
        "id": "sL9iYvj5RG9A"
      },
      "execution_count": null,
      "outputs": []
    },
    {
      "cell_type": "code",
      "source": [
        "# # It shows the higher criteria and its current weight\n",
        "# first_criterion_name = list(criteria.target_weights.keys())[0] # [:] if all keys\n",
        "# first_criterion_weight = list(criteria.target_weights.values())[0] # [:] if all values\n",
        "\n",
        "# print(f'First criterion name: {first_criterion_name}')\n",
        "# print(f'First criterion weight: {first_criterion_weight}')"
      ],
      "metadata": {
        "id": "tKGvlLoURITS"
      },
      "execution_count": null,
      "outputs": []
    },
    {
      "cell_type": "code",
      "source": [
        "# It presents how long it took to run this module\n",
        "print(f'Criteria Weighting Module (by AHP Method) - Time of Execution:')\n",
        "calc_time_elapsed(start_time_of_execution_AHP)"
      ],
      "metadata": {
        "id": "XGg1dBrmhgGf"
      },
      "execution_count": null,
      "outputs": []
    },
    {
      "cell_type": "markdown",
      "source": [
        "# Módulo PROMETHEE II"
      ],
      "metadata": {
        "id": "-ydG-fYmtZY3"
      }
    },
    {
      "cell_type": "code",
      "source": [
        "# Get the time to measure the time spent, in this case, only in the PROMETHEE II module\n",
        "start_time_of_execution_PROMETHEE = time.perf_counter()"
      ],
      "metadata": {
        "id": "fwW9jgxzhoaX"
      },
      "execution_count": null,
      "outputs": []
    },
    {
      "cell_type": "code",
      "source": [
        "# Function to input the values for a criterion\n",
        "def input_criterion_values(criterion_name):\n",
        "  criterion = None\n",
        "  while criterion is None or len(criterion) != len(FilterByProduct):\n",
        "    aux = input(f'Insert the values for criterion \"{criterion_name}\" (in an array format, but separated ONLY by comma): ')\n",
        "    try:\n",
        "      criterion = np.array([float(x) for x in aux.split(',')])\n",
        "      if len(criterion) != len(FilterByProduct):\n",
        "        print(f'The number of values entered ({len(criterion)}) does not match the number of alternatives ({len(FilterByProduct)}). Please try again.')\n",
        "    except ValueError:\n",
        "      print('Invalid input. Please enter numbers separated ONLY by commas.')\n",
        "  return criterion"
      ],
      "metadata": {
        "id": "7uMwL_EUWVZv"
      },
      "execution_count": null,
      "outputs": []
    },
    {
      "cell_type": "markdown",
      "source": [
        "Possível deixar de forma iterativa considerando a variável \"qtde_criteria\" como referência?"
      ],
      "metadata": {
        "id": "9sABAgE27Ndy"
      }
    },
    {
      "cell_type": "code",
      "source": [
        "# It fills out all the criteria with quali/quanti measures --- for our case, 5 (five) criteria\n",
        "aux = str(input(f'Do you want to manually enter the values for all the criteria? (y / n) '))\n",
        "if aux.lower() == 'n': # edit considering the qtty of criterion the problem will have\n",
        "  c1 = FailRate.copy()\n",
        "  c2 = MTTR.copy()\n",
        "  c3 = c3.copy()\n",
        "\n",
        "  print(f'\\nEntering the values only for qualitative criterion...\\n')\n",
        "  c4 = list(input_criterion_values('c4')) # 3,5,1,3,2,3,4,3,1,3\n",
        "  c5 = list(input_criterion_values('c5')) # 2,4,1,3,4,5,1,4,2,2\n",
        "else: # edit considering the qtty of criterion the problem will have\n",
        "  c1 = list(input_criterion_values('c1')) # 0.025,0.040,0.016,0.048,0.033,0.010,0.048,0.065,0.010,0.024\n",
        "  c2 = list(input_criterion_values('c2')) # 3.538,3.947,4.261,7.800,5.700,6.267,7.800,4.640,6.267,6.375\n",
        "  c3 = list(input_criterion_values('c3')) # 66,74,78,75,80,77,75,83,77,73\n",
        "  c4 = list(input_criterion_values('c4')) # 3,5,1,3,2,3,4,3,1,3\n",
        "  c5 = list(input_criterion_values('c5')) # 2,4,1,3,4,5,1,4,2,2"
      ],
      "metadata": {
        "id": "OmFBrU1enOLA"
      },
      "execution_count": null,
      "outputs": []
    },
    {
      "cell_type": "markdown",
      "source": [],
      "metadata": {
        "id": "ZoWDReqEAu6G"
      }
    },
    {
      "cell_type": "markdown",
      "source": [
        "avaliar se a ordem alfabética influencia neste fase (por ordem de inserção (no método AHP) ou por ordem alfabética?)"
      ],
      "metadata": {
        "id": "PQAqD7xzgeIZ"
      }
    },
    {
      "cell_type": "code",
      "source": [
        "# # Sort the dictionary by key\n",
        "# CriteriaByName = sorted(criteria.target_weights.items())"
      ],
      "metadata": {
        "id": "JMHQ6IuMyK7w"
      },
      "execution_count": null,
      "outputs": []
    },
    {
      "cell_type": "code",
      "source": [
        "# Execute the PROMETHEE II method on the matrix considering the body (function type),\n",
        "# the matrix with measures, criteria weighting, and type of each criterion\n",
        "body = PROMETHEE_II('usual')\n",
        "\n",
        "matrix = np.array([\n",
        "    [round(c1[i],4),\n",
        "     round(c2[i],4),\n",
        "     int(c3[i]),\n",
        "     int(c4[i]),\n",
        "     int(c5[i])] for i in range(len(FilterByProduct))\n",
        "])\n",
        "\n",
        "# weights = [item[1] for item in CriteriaByName]\n",
        "# weights = np.array([.1270, .2696, .2120, .1697, .2217])\n",
        "# weights = [.2, .2, .2, .2, .2]\n",
        "\n",
        "weights = np.array([criteria.target_weights[c] for c in list_criteria])\n",
        "print(f'Weights (from AHP): {weights}')\n",
        "\n",
        "MinMax_array = MinMax\n",
        "print(f'Criteria objective: {MinMax_array}')\n",
        "\n",
        "[round(preference, 4) for preference in body(matrix, weights, MinMax_array)]"
      ],
      "metadata": {
        "id": "j-Cbe0TTvgy-"
      },
      "execution_count": null,
      "outputs": []
    },
    {
      "cell_type": "code",
      "source": [
        "# Execute the PROMETHEE II method on the matrix considering the body (function type),\n",
        "# the matrix with measures, criteria weighting, and type of each criterion\n",
        "pref = body(matrix, weights, MinMax_array)\n",
        "ranking = rrankdata(pref)\n",
        "\n",
        "for r, p, i in zip(ranking, pref, range(len(FilterByProduct))):\n",
        "  print(f'{FilterByProduct[i]}', '\\t', 'Position: ', r, '\\t', round(p, 4))"
      ],
      "metadata": {
        "id": "S4UR5rGat-_l"
      },
      "execution_count": null,
      "outputs": []
    },
    {
      "cell_type": "code",
      "source": [
        "# Plot the distribution of the net flow (phi value) as box plot\n",
        "plt.boxplot(pref)\n",
        "plt.title(f'Box Plot')\n",
        "plt.ylabel(f'Resulting net flow (phi value) variation')\n",
        "plt.xticks([1], ['PROMETHEE II'])\n",
        "plt.savefig('images/PROMETHEE II_PhiValue_BoxPlot.png', bbox_inches='tight') # Added line to save the figure\n",
        "plt.show()"
      ],
      "metadata": {
        "id": "kON6n7nq8nu_"
      },
      "execution_count": null,
      "outputs": []
    },
    {
      "cell_type": "markdown",
      "source": [
        "![image.png](data:image/png;base64,iVBORw0KGgoAAAANSUhEUgAAA6kAAAGaCAIAAABizJLOAAAQAElEQVR4Aez9T6hd17UvfppHdR63Vffd21FSUYlSIDHchMJ/eCTwa8Rq5GDJ6QSSjrHBGNm+/hcJu/FrlKTOa9hI8b/rRBiDjTs2uGPrmJOG4kZBwiWJeDgBOxCBUMpWJ/mlWpdf50HVxx7JvDNzrb322n/P3ueMy7gzY445/n7nWnuNPdfW8X/5/+X/bRUC771/JWgpWf+/zp3/yv/9/9G4+u0nnzSSnCYCiUAikAgkAolAInAwEPgvt+X/bQMCv/v9748eO46eePLpIPy58xdmzZ2fYZOde0+d3Dk5h+dht7maCGwqAplXIpAIJAKJwOFCIHvf7dhv/ahEX37phZs3rgfdfvvX33jzrfFNqq5Xu/zu2+/wM0CPPnLa6vd/+ANjUiKQCCQCiUAikAgcaAQOY3HZ+27Brr/4yquy1Pjed+okJmjvgyvR/mpqQ7KUUQi99b987WtL8ZZOEoFEIBFIBBKBRCAR2CgEsvfdqO3oT+bSxUsWdKXGmp67+LxpOcrVIjfHwNrihx4+bbT0wsUfU3ZUTIIITbv0/pXd7moIyTG1CbcRkbxejWktqa2S31wEMrNEIBFIBBKBROCgI5C976p2WHP5D88//2+/+MWCAfjh4cEH7jc2FKez2tmQ/2xvr/AhMV69+vMPr374248+wpgizK1btzDo08/+yuCDbtz8I4XgYzx67PgTTz4dJhjTkBu5FVGPSx4KhDv3nipTjClhUiKQCCQCiUAisOkIZH6HA4HsfVeyzxrW/37lCtfP/vKXi7e//Eyi22//+qQl8ht/uG48dvQrr792eXdvF6+Hvnnj+t4HV6Jv/vKXjhDWRLmexrEuWyacsLVa2tkw1yuTU4iT6Y8//kQU09CPw2lWSYlAIpAIJAKJQCKQCOw7Atn7rmQLovEN19rfYOYbo3+944475jOf1cq5bzHRwTvW1chGoxzyM2fP6G6Dj1FnHEwZWRW+ti3CrWAyyUQgEUgEEoFEIBE4eAhk77vpe3rsq8eleO3aNeOsFLYzWTXnvmH7/pXdQiHRFgdjbLrbaIWPHjvueLhWo5mUCCQCiUAisC0IZJ6JwEFFIHvflezsc9/6VvH7P/7rPxR+buZXv/5Nr60j2IGfPcSZca/hJGF97hvmDnGf+NsfFcZcunipROz+XJhbrfDNG9fjePhk/qlgiCQlAolAIpAIJAKJwMYgkL3vSrbiX7/97eL3Oye+U/g5GK2kXlOP27WNU9W777qzuxSSupENyUxjHBu//PkfFf7rHxXW1KK9yT8XLv6fevwxmg8+cL/WOfIsS8kkAolAIpAIJAKJQCKwXwhk77sq5P/jmWf+/dQpo+Z1wRjxz8V27j3V+HGqSnLh/DkjOnKk/YdrP9vbIw+aI40wcdYbHuYY47+REefHc5inSSKQCCQCm4FAZpEIJAIHB4HsfVe4l9E7Lh6AHweojn61v85Q0YuvvHr02Oe/A3YoW/w/ffZH+KLz0MOf/xfaSAo5P45TWB6KEFNPm9/7njl7hkLx+f6VXXG7nukEcUVBejF99uwzmPj7D5ikRCARSAQSgUQgEUgE9heB7H1nx38/LBzuanO1v8560aUv/msXu3u7dVtZWmQKSJpxYIwJevSRz7thS0gXSxjnsqYaVlPU/Eziqccfq+M6Az5x4p7XX7tMs5fkQF96HCIJS7JXM4WJQCKQCCQCiUAikAisH4HsfdeP+ZwRtbk3b3z+u1vdZDAazcaXFtlSKOhQKZgyDDWMaaziCUMhJKZIs0uHHB9EkwSFGrchN0Y4TE2hH8qsale1WvKJQCKwrQhk3olAIpAIbDMC2ftu3+5N7SaHFbqrXUkvKCPVwnYm5TDJMRFIBBKBRCARSAQSgVUjsGjvu+r80n8ikAgkAolAIpAIJAKJQCKwLASy910WkuknEUgEDiMCWXMikAgkAonAdiGQve927VdmmwgkAolAIpAIJAKJwKYgsI15ZO+7jbuWOScCiUAikAgkAolAIpAIzINA9r7zoJY2iUAi0IdAyhKBRCARSAQSgU1HIHvfTd+hzC8RSAQSgUQgEUgEtgGBzHE7EMjedzv2KbNMBBKBRCARSAQSgUQgEVgcgex9F8cwPSQCfQikLBFIBBKBRCARSAQ2D4HsfTdvTzKjRCARSAQSgURg2xHI/BOBTUUge99N3ZnMKxFIBBKBRCARSAQSgURg2Qj8Xe/7D88/v2z/6S8R+ByB/P9EIBFIBBKBRCARSAQ2AYH/7H3/7Re/kFCMmKREIBFIBBKBfUHg/Su7585fWG7o8Pm73/9+uW7X4C0yX0OglYboOj+odXUr3QTJ0tFeusNNQOnw5PCfve+zv/ylsmPEJCUCiUAikAgsFwEd7c69pwbIA1XEa9euvfHmW5gl0ip8Dqenz1ZvVDSsObxaZ74sn8MR17Na17WeiJsWZZ27OQbtmfIZ43DTAM98CgJ/7X3r496aL3rJLA+B9JQIJAKJwOcIfPzxJ+jIkSOfTw7c/7/79js6+J/89PISK1u6T625Bn2JGfa6Wk+U3tCbLFz6bi5Y7Kbls2A5aT6AwF973/q4t+YHLHMpEUgEEoFEYCYELpw/t/fBlUJsb7/966+/drlI7jt1kvBg0Pd/+IMHH7j/0UdOd8qZX7B0n++9f+VXv/7N/AmNs1xPlHG5bJCW22HpV8gi5W1aPovUkrbDCHze+3YPeruSYS+5mggkAolAIjATAl6wzqS/dcr/8rWvaSaW282vwufWAXuQEl76FbIgOJuWz4LlpPkkBD7vfbsHvV3JJPtF5WmfCCQCicChREAbN7Vu/bE38jv3njLiu/qElkLBi/WuQldSTF585VV8V4FD9NDDpynUq5TJmygkqFYrfKPPMByGPHLGF/3C0OQThX6RY+iTU8AXCiE5apbokJB3w4X86tWff/zxJxRQEy7chiFlrmqqV/H1Us0z5HkgCmXmdCIQnqQhwqLAYbNaT63SJAkTPMYUxVJvFEtRO2UmvTo8IJoUUK1PXqj2QLnIe5lQLmp8IpohH0iDDmIoE8r4IOYo+BgpNBL6hL3OY4nbsI0xhExQs1Qr9DoMhRw3EIH/MumId5J8A2vIlBKBRCAR2DoEPFM/z3ny/3tmn9w56Y383Xfd+cabb+GbR6+HMaGlI0eOGJ948mkN62R/n6+8+/Y7TD797BaTSxcv4WufHB49dpwrCrQpmBYFzTq5KCVzS5T/8Z/+mXIvWb1x84+x9JOfXv7Z3h4TQRUlAat4klCIUQlCUDCVgJZCUHwhVsUnIQVOCJkgtiTkSJ7yJyE3pUMTqnh07dq1kOMx6LcffYQPAgVlJqZGTiSGD5JzrE7amlAzDkehIB+uRJ/kajgTHmoSTrYlvYCuFwdui+F7718ZszWAhYNUGdoa2H549UPhTIP4VEtIjJRr0EKnGamV3YR/nQZNqxwqB99LFG784XosKVNWCBMShhSCj3Eq2vRLPkyULAFCVSMVkZAXmuqwaCazUQh8fu7bm9D/+p//+SnQq5DCRCARSAQSgbkR0EoO23qK7+7t7n1wxXvYmzeu33771z16i0k818+cPWPp9dcuG3f3dp0v6j+KTpfxFKdJH2Fqn+HwxIl7yK0iTCiUZoKQzxcu/tiItLMUnnr8MfxU+u7OjhNWJchTUVzxz4oTY5DklaAoClH1o4+cJonV7ihnPiNnJih8klPWFTVLplCNcvinT6IEDJISK8QcUNLgjdwoZ2lIzyqSMytyTowvv/TCsa8eJ+8SBR56o4SyfDinQ5MrbkEUS8apmdDpEg+RvIpcZr04KDBwYP7lLx0BI6vIhJVMyJVpDFI7HW5LqqqWfKwa50uVYaFvfPObQpQ0BOqmUZQxgbl2H1+TL3j19NjRr5SphKPGXrSLWjAqko+9k4ZkEIaEPBSMMzmkn9SDwH6I/su/fvvb//HMM6hEx6ORH2fFKplEIBFIBBKB8QiUzmOSiT5D41JWdYH48tzVIpjWH9SUPaedTpFPIv1KvVT7dPhnSd9jLPTcxc//g0el2SXnQRcojWiGQoF8Kv3lz3+iw1yemKAHH7hfM1Gg0JBp/uqi7jt1kiSUuyMQrDY561FYUTY2S9+77xS5XtA4QNxardOQ8wC2AlFgMgetYpelWicvvTE4LLg1s4LWxWrMFVJbwdzux9k2uZZX4fAskmiLlW81yCqr4I319W/akIr4b6DT/s7tsPGf031EYOK57z7mlKETgUTgcCKQVdcIfOfEd+ppnHLVL2Q96WsFvN5OK4mZROGkrMZTXNer+9TRdh1qFDz+b926VZtQ0xboU5tOougMME0Cd9xxR6PseLiR3H3XnY0kpnLGHBnxF+JoataN0QyxmkpqbHRqbPVMcPb6m9tGbfw0fiuy3F0On1LtTQMCEjb24jCwNUw47EJdtiYUhkHjYQwNpNE1l5LrNuS+9SkcnkWiCXb1xmqMVoOJMWLV91TIjVER//gB6nXYC++Ak1xaPwLZ+64f84yYCCQCicB0BPSdk5TiwewZr/2qSUvKJFYxU6nR9NK5a+Lxr8+r5U+f/ZGprqI+XCQZQ1OLGuOk1unNuSg89PDpo8eOn9w5CRmjfr0sTWICk2FsfWfw6pwHbvl/8ZVX8bNSHHNOBWQ4kyZo+IyWrl4ag8NAJuFqGGo6M6VKv5emplFbaXZNbRlylSqcuSszWnz5NF+lrNIfT1NL7nUY30DGR6k1k18PAtn7rgfnbY3iA2VbUz+geeeOHNCNnacsx2zPXXzeGaQxSEPWvLkufnufx+XJHcxvq3/sVQwxmgljIS+X8VoNHQZmWRQ5LMsbPxo+3Q9AvKcOwpMPU6QB2xpY8DbYUtv74Aq3NC9dvCTWsNs5VoVgxf9wJnSGSW5z4FD7jExqSS8vVUChknADWq/VIkLNLvMbf7jumnSVRp6+rXmVQY7qH/uaJiUCgUD2voHDpo/DHc/w6ty1Oc949uwzs5pPTcYxFc+zut1kfY+WbkVTcZhWUf/6Cxd/LNaKnPeHTOnmIeAZ70l/69YtjDNIYyHT3nzjRLBZigspDrfCYaNgKopmAhPExOmpJvLBB+536hnCpYw889Ptv725Jp9EXf3Q5E3DpxubBEio9Y4BBcOCajAkXf3XX7ssiljdpcUlM2XSG24RHIpDTvBdqMvWwCdSxSBAGYPwbFdEQoh77do1mZQjXofBtuPDqx8KumD0bsl8Jh0ABLL33YJN9ELN2zodT2+uGi+rGsre1bmF4dDBxkweWEnm3PkLxcqHJirT9TAiohXF4hnVzr/8pfa/SdvFodZfhPeg9VkP5EWcpO0mIOCxvUga+lEnr82l6CC2kTQhoiEoQl+l8PGbxbvvurPXIaFmglqQ78OuQC3FhfPnSHz+GJdCAIkmsilBH9Prf5I+EOhbNTakSWokpgo01jQftrWHLt+N0tXpSmbNpHu634tD7y9cu9GLhJOpWzNrqsX5ZGbUiri+jLlI4jJm0cWGagAAEABJREFUE4fBDuNdqKbz0aSS4+qaz2dabQ4C2ftuzl5Mz6R5JISBez6YJY5ub5/UjnZm9RnfvL//wx+EoYR1ad5GxXQ940qD9jp35NCU1uDQrC449UqRB3tkTNpeBFxLiyQfP7p1f/luzJXrQRvqILbpbpsQGgJfTekjjE8PPY3HPDW9rF6BQ66sIgocEup0KSASnwxxBZr6iOCBPn4pVIriUwLId34JcI43NlT0AwQ6vnbKmTlNpUV65EjymiTymuKLqyUKKJYat7zV2FKTFQkGsRVFrLDtHXuj9Go2wuFMGmXT3tN9uclQFbJFEnYZUJ6JupkAIbYm/HQVQGQvhi/IsF1kjC9mMonLmCuMkjHxOYyZj5qKQFdfXfP5TKsNQSB73w3ZiFFpdJtId+MoyxmV4nSkPPDGWz/1+GM3b1z30TPeZJTmZivFg63OcaU4BLz1n96sQyd/SBBwGbjXPOP1MRpWTYb+RjPq2utFwImg/mB3b9dXNfpII/jgA/d7k1D0vefhkCurKBQIQ0HzRFL/bQcfEaG/rA8iRclQuJKDih595DRJL4W+HAIEOWvNmUiMvtIsFVcKD+f1qaeOn4662KIohNsBbK3yA236iG0Do9AN9UZpdHqnEUuGUaBaxFXgpF3udTIGh17DWiiTBhNXgncFRaerMEeqxdt4Jk55nf7WJvEzngV/7NtUZK/rq6sOl/zWIZC97zZtmQ/ZJl3vHxuJqY9vpyC+ofra7XFFEoQnsRpTY1dCiJpAvDEkD2qsOLRKaNWIJ8E7XYj0eCNEIbcURLmbZCwZy2rXkGdEpxDPXBmlGq9xJwUNk5U6F4L/btqEkiTH0CmkFmRKTsGIRxjTrr4lz0Kfwpik7UUgnqyls6wL0SrpM2oJPvSbpkdbQ1MrZkTR81HuEkOxOKlNBGo0y2r4rBU4F4Kf2iT0ua2FwRPW+lyZxlIZwyfNIsFTQ5EABWRKTseIr3MgiRzoI6v0aQaVJXI8ZUxtTo2cMGwpkATVcgq1W2okKKyUFiYDY+2NOU1WPGBqskRYZ0jyue2N62Ihq3UmtS0+fDLB11Q8MMdTwJQoYVXr40WhQxNfiC1hpFHMyyqmKIQOJ4STiHPeip/xadQOw4m4tZBPnuvovc7DlnLYNtMQ8syVchCm+BzjMDzkuIEIZO+7gZvSn5KjBQv6IWOQVk8DFPKQGDV/vp46JPA9+NatW84JvJkiR25aEqt4xNwqiRvetCFHRLXEN3j6IXEqbHrjb/8lSULT+PLtQAVPEiS9YAhR8DHq6kQvSZqGPEY5Ww1ehnKO7jAkv/r1b7S2wZdRLCn99qOPSiCGhS9qmKU45xnx1ksNDnTqoEozJSykHD0ueZEApEwxpmUJE6/5yo6QJB1mBHpv4WFAhk2somEPq16dNQH6qDerSfJaeZLOJHnYDq+GTj3Oqt/YLmLO1YLmPAQVPz6KmydFUSg6Idn2UTlo26vI/AsC2fsWKDadueOOO3zK/OSnl0ui8Tuq8uPakHvL442Yr6e+rTrm8VqKvHTM8UO96CPjfJQOhZqio6pfZsW/IdBZhppGDVPeuYef7ueCr8W+KNPUncsH1Tr8k0SSFHSuEZe+LtDIVm6hoApBSxVWGyq50WdolU/mQtRByZflnGfUOOe/l5qgDKmVdtarWFOdNLmcfUUBBUCiBBWRx8ZRC9JbY0rV+KREIBFIBFaKgM+l2r9zFh9TC/6mtnaYfCKwNgS2vvf9t1/84h+ef37bqflMmbT9jz5y2mdNWf3Z3p5uuEyD0Tmh4I3xNsdJLR7p1XTG0UdqtvCEU4kVnXASqTIsmTheLWnovGmOIZ1xUYv2PTo5/iWm7YugoRNVlG47hPUYp861pJdfqfM6Yo1Db9AawPi5cLTs4SRqt00xNYYEU1N0wLUk+UTgMCCQNa4fAUcP3r95YeVLO8J4u+iTPz6c159PRkwEFkFg63vfRYrfHNvezqabXjS1PoMs6ah0n81xIDmy5KAxPp58QpHUxIkPLK/Rjfh6aYCn7PUWBYfN+DCMTKThENcSWqQbi96aE+SQ21iToALVkpqPvrmWDPArdR5xe3EAV6Eo1k7Rj3Pf5hqIVtj22cdQo9lQnMc3wpwmAolAIrB0BHzm+1DyCo7nI0eOnDhxjy/w3lOZJiUCW4fAtve+Wwd4f8KTmpuutgPROP6Mv/nQNEz0z52/4Ns5xiGxz6b4qDKtKVrVGGt5zUenWyS8RevpsBlPLhMNXGQeB7eE9Xmn6RJpONuR576T8lm68y4ODnF93yhkqpuPfOLcN/gy2tmbN67bPrDbUNtaljBd/4RJiUAikAisDgEfSk559buvv3YZ6YZXFys9JwIrRWDre9//7b/9t38/dWp1VNBfXQiefaaUQMOMLlMzpOPUPOk+G+Uijw8mn03do0FHj2x9azfSbzyYSkZbJgq+Ibbk3JLLhAfHwHgmRtR73kk+K+mqG5OmF29WI41GOGm6UucRtIuD7yF62Zo8QgpuYdUdPWmY2GhQ15sV/8XOqeZdhyk5cAhkQYlAIpAIJAKzIbD1va/H/0qpwLmeKCXcJEYaluJvh+k+8TXFavedfq3j6FEvpTnW4DpQrJcK3z0HjX6XbdEJJn7yFbyxOY+MfMjHU5ho9WoTbZ+eW9oh7KbnNDqWjOEB06VYms95tLPhoet5QBImDXQqGjBplmKj6991XL36c9vXqOU0EUgEEoFEIBE4ZAjMU+7W977zFL3lNo5sNYJan2iqutVos6K1ckzbdLc7956iH//OLH4r3LxMt4qi2WqWRLRUGlDRQ1J3otEgUitER68pH1SEw8zu3i6Fhx7+6x+0L1VE2pYiPbXwiWgChLzQQNCpzuObQ9d5aeu7zuMHuzIpCTTMmbNnSORJB0VFpoS9ROfoseMvvvKqVXx81YmvHyTMjfHLE0xSIpAIJAKJQCKQCIxHIHvf8Vhtimb8hxYntT5ekUtUy6t50gRr9fRq8YMBvZQe0ct3CkjzqpGNxtS0prJUCyNi9J0h70pKgxgKxuiw5YOiaSMcJtEl6WhTCUgVSoi6wpCCzNXCJyJUprHQQFC2w861mLM6jx2RiWwjhwaHpx5/LILSQSryBcbReyh3x0jSmTqH9FVaF8iciTyNSX+HQE4SgUQgEUgEEoFpCGTvOw2hDVjXOen8Sq+jMepO9z64UjK1inRLRsqWkNXGD4mT1NDBN2SJxPGnMUgCjfIYiQRYRTL0uZIMCaZQ6ETEENKkg8KQScjLSLmsaiLDA6tQiGnYFmEsGUnYolBY3Hkdjn8UIcjxQSEpQeUccmPUgqkp9GWIWBVXcVpMUisnfwAQ8M2wedOyyUVNzbZWCN4bjE2uaGNz66LXlYxMPgxHKi9LLYLm7i8Lzyl+cnkcAtn7jsNpC7VKtzR37hqsOECd20MxnDuZYcNFVuW2iHnXtisRoksj1cKQMgo+RmfM9iX4HA8SAteuXfMSZhMq0qb4iqVlGUhmaraNgtLqH6wPeB5Y8t3At/EuSbi2MpW/dyY0Mab1Kp7EEgWrpg3Fau9SozlyKm2xkKCcj7Sq1brodSW1/iS+2ZRJakuXN9kCAbzDF9jSc0iHiUCNQPa+NRrJtwg0jVe7nPO1IzB+R9aeWgYci4Cnvn5orPba9d59+52rV38ef0tx7cGHAmqhPv74kyNHjoRSMDGGxAjbkzsn5f/gA/fffdedGFPyQhqvkJw5e8aqfrQsBfPCxR+L4ktmTBccbbS0JeMFznd3drbr/gWm/BdEoGu+sRdYN9WUHFQEsvc9qDubdSUCicCGIvDe+1fiJ/ibmd+F8+f0avFr/o3K8Pbbv45ef+3y3gdXUDDG0lDqa5948mk63o2oAuk4lVA3uFpbCsyfevwxq9pcHR6dIB40xNri4jPkc482WjiZcCji3H72xXBFFyo01nOB7QtoGXQrEMjedyu2KZNMBBKBRGB9COhO7jt1cn3xRkTSlepTm1Pexs6BIkndtes4T5y4hyFzS+jWrVvFiVWNqQ6PPCiOhJfVpAoqdAkXIXKEwAZeYLJKOjwIZO97ePb6MFeatScCG4HAi6+86iWyk0UtEQaRdDMjf+jh00bNU3eV0JKzTGN9ZtnV5ByRhwn9mJIgPAmyalrIlLDxbBopsSqaNcNqWKFWDp6JQKwQ/yGcNOpTJy0Vefy1waZr/959n/9hx2iLQ/Mb3/xmMM0YObz80guNfHhaSmiQMY2gum06iGSSK6EpxJ6CZZLarHKuYMvzpNAUrHbjRj4DF2oodA3HZBhBeaiVQxgOmyVq9SqeJCkRWASB7H0XQS9tE4FEIBGYAYG//PlPXoKHgUYN/9uPPoppjHqUo8eOk3/5S0feePMtx5BNH6BTIbRE3+gVv+YG30uc/2xvjwcmfNK/dPGS9kL3IApeDoRW6dQeCOu/1S2EQHo4Oqx4YIgvRMLJgELRLEwphJUei39RymqXkTOhthXDFsEKT1iIK+e4ZRpM/AfPS8JOYcESS8x9CeHTFC8H5k3rbGkSyQGMsAoFyJgWJMteCwF8CZCEZj2Ky0poOuS8QVJp+AUJnlzBhJ9LFz/fdznggyIuhd64165dCzllVviSfBgumLAy6wsMkjIhFM7IueTxQSCN1bvvutMqniSWckwE5kMge9/5cEurRCARSARmRsCr3r0Prpw4cY8e6/UvfrdqrL3on3b3dunQvHnjOjV9QFHwyPfsP3P2jCU6xt29XY2j1qHo1IwGWuPFA7XQZ0uie8AwF93YRKk94DkXgj4PkdWjj5wmsRREgc8BhVCrx1kLKbbwkbxWDA7Bc1VWpVH4SYxOV/IaOApxLvudE9/Bv3Dxx8byl21CgWQSiSsHWwlAMCJMIBm2sIIYczoYCiSmDd34w3UKbOkgjKnSwkmjPH5qU5Q5sCnDcaUqGZmoSOZ4kog+bBg6M42BpFTVLpDR5Sp5JYSfn/z0sjTI5WB0MB/fZ2I1x0RgDgSy950DtC03yfQTgURgUxHQAdQv93WZMtUcGJEmwFj/GpWyBkUvSD6J9ArUYjX6PJ1E7cRxmtVJzRbnjb6TURImQVMVQq0eteOmdQ4yHC5Ey8VEXN1P6ZBIwhUm8nesix8gQQXSQDtt1bwG4Gw1W4W3FAoD56/xK2F9YR0rWudoo8m5NQ4TMBsn8SONqHfYdmB16qbMHXduw0nZznpVS8DVMslbyhOBMQhk7zsGpdRJBBKBRGAdCERvWiLF+VZ5O+xcU99WVoPRKpEH3zvqFRp50yDGf8e7t9nSvXH+3Z2dxkO0y4STFLomlIOYYCYVEqsUGlKF40Bdb5FrgHSrpnWHGq/4CQtRK3wwr792mStfCYxaYcJnzz5jLLwO2xIF56/liweFQpLUK3dLEIttN4diOMDwKRa6du3agNqYJa6Gd612QllQNGvcuQ3r6HipdpGsr2rfAOns3HtKkvSTEoHFEcjed3EM00MikAgkAstBQPM0yWA+nEYAABAASURBVJFWw5KWSxNQUxx8xiqFDaHy89BJ+UwqZJI+eRecY0e/Ql5+v4vvUi8yXGmmjfR1VFornW7hHd9aoqAni1NJS136Rt+/mfO9greu8oDkoYdPx0mzrUROoweUl7g0d9y5DbvJx+5Muhhi1Ub4KsIWOICqv+oQJiUCcyBw2HvfOSBLk0QgEUgE1o+AbkxQ3ZhjMM1ZIU0bilUKwzRSrTiZqj9VobgqTJiUQpQTpAoUq0V5mIlz8dBh6My123fGeXZvn8pQd6WjYqjBMo2zT67wKH4wTQdfUyhM6rl5C+VQC37SqI/U+Sn85o3rQfhJyuPlJYdJJnPHnduwN5OAqFwM5arW7MIhVhliHPnDh6bDeDkQJiUCcyOQve/c0KVhIpAIJAJrRUBD4326Lk0rUMgUjcyj28YNG4Z+t8n79LNbYThVIdSasS5E8jU1msPTpq+NX2JESsUw2tk4IS7CwsRvc7VcRdJlQN0VRglduQ1y9BvyJpMQ1iMFja9+DgK1fHHed4DhXZsv7ioSDiQhAOeaSLo4vP7aZXBJvruUkkRgPALZ+47HKjUTgUQgEVgOAlqTORxpqhjqP2pbr+wbSb3a8HqLRjI8pR+tRh0CX5qPqQq9/uco5Nz5C6j2Jg1HtiTlR9Lf/+EPTKOdxSA6b7z5lu6qt5GyqpAzZ8+ogjKKnz6T45EWny2mS9/d2endC8LvffEXhZkUt/he6lWIZr1Xf6SQ26m71nXVG1c5tSbP9TT48nv0mM46znExzBoi9ROBBoG6922WcpoIJAKJQCKwfAS8SedUJ6fHQviR9PTZH9E8uXPyxVdeZajr9fJX//fh1Q/JxxCrMWq1TgkqHHMkAa0VHbyxUaDWKNBBOiT6CF9MZipEF7tz7ykmQhhF4aruXHVmEtPOgkUgaqHz6COnaXap/idusRo/oiBnLgRXetxYasanHn9MW8y/KJSRDbUXhKXPJmysutNIWCzKiBNldtVq9GK1Kwl5jAXhkp5U5WZVFOOYuL0Xatfw0sVLHA7TQLYl1QBBwrYPknFVy/boseMkGAQfmyKH4XC5mggMI5C97zA+uZoIJAKHB4E1VXrh/DkPby2OdgR5oo8MrLfb3dtlq9tgqD/QB7z80gv6sPEeRmoWtQhqKpygSMRytEneKFBrFPSCJedoaMKkCJlMLQRo3DqGVDt9o9AkTe3eieuGeZMntdCRAKYhPRZvPNTySIycuRAPPnB/479W3vviTzWLQhnZUPqERYe3wk9iJFxw4MRJsy2mrFk0ovtOndSzSsZqoEdSTOJPFFNrSOjwU9JTaf0dYGpcDmEukLqERnGhNobUIlBJmKSmOtvIv17FS7X8kFcUCds+2QbyVvknsYQkIyU5MExKBOZGIHvfuaFLw0QgEUgE5kTAw9vz3kPd6OnOiz4Dj6nJEmE0ASEnKbZhrreIpe7Y65NDHmplHgiNIRTCtAlKgkpEyqY0axOSSQoiWkXFLdsQMkGW+Axvk0YK1FDoY0i6ykJYooMwvTqsyCkY8TVJjJUlIwDrpS7flNDV54RO17CWUKAWEfGRgCqKjn6aAipCaqaoG7FYhR86QSpFePLQCScDcanVOr2GEiDntuTGqiFOIkro9OrT4STUMFItTkKfMFZplqVklo3AYfGXve9h2emsMxFIBDYNAQ/1uVNii+Y2n89wasSpCt24TFBXPiAZo08HDTixNKAwsMSwIcqoEc46XdzDrBFDf0zcXp1eYfjsjiOVh9WGV7tBU5IITEIge99JyKQ8ETjcCGT1iUAikAgkAonAQUQge9+DuKtZUyKQCCQCiUAikAgsgkDaHlwEsvc9uHublSUCiUAikAgkAolAIpAI/D0C2fv+PR45SwT6EEhZIpAIJAKJQCKQCBwMBLL3PRj7mFUkAolAIpAIJAKrQiD9JgIHCYHsfQ/SbmYtiUAikAgkAolAIpAIJAJDCGTvO4ROrvUhkLJEIBFIBBKBRCARSAS2FYHsfbd15zLvRCARSAQSgf1AIGMmAonAdiOQve92719mnwgkAolAIpAIJAKJQCIwHoHsfcdj1aeZskQgEUgEEoFEIBFIBBKB7UEge9/t2avMNBFIBBKBTUMg80kEEoFEYNsQyN5323Ys800EEoFEIBFIBBKBRCARmBeBZfa+8+aQdolAIpAIJAKJQCKQCCQCicA6EMjedx0oZ4xEIBE4DAhkjYlAIpAIJAKbj0D2vpu/R5lhIpAIJAKJQCKQCCQCm47AtuSXve+27FTmmQgkAolAIpAIJAKJQCKwKALZ+y6KYNonAolAHwIpSwQSgUQgEUgENhGB7H03cVcyp0QgEUgEEoFEIBHYZgQy981FIHvfzd2bzCwRSAQSgUQgEUgEEoFEYLkIZO+7XDzTWyLQh0DKEoFEIBFIBBKBRGAzEMjedzP2IbNIBBKBRCARSAQOKgJZVyKwSQhk77tJu5G5JAKJQCKQCCQCiUAikAisEoHsfVeJbvruQyBliUAikAgkAolAIpAI7BcC2fvuF/IZNxFIBBKBROAwIpA1JwKJwP4ikL3v/uKf0ROBRCARSAQSgUQgEUgE1odA9r7rw7ovUsoSgUQgEUgEEoFEIBFIBNaHQPa+68M6IyUCiUAikAj8PQI5SwQSgURg3Qhk77tuxDNeIpAIJAKJQCKQCCQCicB+IbBJve9+YZBxE4FEIBHYJATev7J77vyFTcror7msIjE+H3r49O9+//u/xjh8/wOB/druVYQOn9u+oVHF4bsYD0vF2fselp3OOhOBRGDfEdDi7Nx7aiLde8oTV5LXrl174823MJtGK0rs6tWf3/jD9U0rdm35LAVVl9bRY8eRq2t837mU0A1Qq/DZhGim6vX1Ke6dZmnu6aqrkO1MOzV3IWnYi0D2vr2wpDARSAQSgRUicOTIEd4//vgThEEhwWwIeTZrpzYkmUxjGAE75cvSgw/cv7u3+92dnX/52te6+gd4Q999+x1fn37y08vdqsdI1oyMTl3X+8STT5d7f0ySobPmVCPoWsd1Bcved11IZ5xEIBE49AhcOH9u74Mr6PXXLhvhcfvtX8egkNx36iThJtB771/51a9/swmZZA5TEbBTLiRXl673qccf69Vf24b+4z/9c28CqxMqXN//6COn5wuxNmSkp3k9uXNyjq6XLVpnqsIdYMre9wBvbpaWCGwxAgc+dcc/B77GLHANCLiQ9FKb897gL3/+0xqqbkJofzfne2OTWz29du2aNv3mjesnTtxTy5NfMwLZ+64Z8AyXCCQCicDnCDii+/x/Bv9fW+N1tjekRnyt6wCJsJbgQ1hr4qn1eqDfSy++8ioTL5F1VBhE0mhOdVsryKoxHzMNDw89fBo1CZjKikLxQ4LKFEMBYYIomwYOTT6mlqiFDh5j2kuWKPT6kQBiVevgSRoSUVH8hH6z2p1yQpkJakxMvfFncuvWLTqIxLQmEvL1b2ikDSsJ4OuU8CSyUhGiQFLIEiGUigRDGWG6RN9SrR8SocnxXZOQiEthncjo0VFEnzRKWFY7954y4kNtTKqhmeMYBLL3HYNS6iQCiUAisGQEylNtkl9PO69Hvc6++64733jzLXz9dHeARNi1rYXhgaTXQ9c2JM7tBA0eg3770UcxjTHckk9y65ktW3HpG5948mmtDH481R5YXbp46eix46X8Y0e/wm3553GQpIAwlBGGQnn5Xnsjb/IJJDmPnNXFQy8N+4HSz/b2wk84EYtPktobKCSgVSWUs/7s089u4SdRHZQOkxqKslm+qAiKSKjVREIeEgySakxjXMWG6sjVrjQH0nLG1zgMFxVfC6FkH0uGwCwbGsJ6tHrj5h9DIpBwJJOuz1Az7gsy4g5Q7EU3+TpVqNpEkgE/uTSMQPa+w/jkaiKwCQhkDocRAR3D7t7u3gdXHBR5SXr77V/XDcwEhFaMFdvw8PJLLxz76vGpHigLeuLEPWwx6PXX/vqviKL56E2stCk6D0/uM2fPiMvWuLu362hNuzM1dCiEBwmwFRphJKP8iBJVlF4nrIz6LSOKtliLjA9vU/PhvOhE78W2pql+vvylIxpQftSrcCRtHup/gwUEUAhkFc4UHn3kNAm1XoqgA1BwwhVbOhhEYloTCTkFGGIQSENhFRsaPl0DqhMIYYSGTASdWhQ1VsYXLv7YiOJKnvRTZgo1AVw4QRVuHLjsKUBjbcjUSU7io1Jpy81YkjctqQIHTzLJScqnIpC971SIUiERSAQSgX1AQIdUN2GaJEnoG4wjSStWa9536mTtsF4aycdRU29i0W7yo/Mw1m2KoNoLJ1XkY+i9969Q84A3Fnru4vP4aIY41NyUw0stL/+ych5GBznKNarXGC3X1Hx4qHUYNjSyLs2K9Irtgw/cbxeiZScEgszrQJIksdRLU6FgVZzjZ6VVbGj4hEOdTH31jimKLQ++FbjgfWH4+ONP4gIgn0oAr3UgXO9IvTTARxUuqto2qljipT6QQCzNl3zY5jiAQPa+A+DkUiKQCCQC+4BAnJx958R36tiTDjtrnYbXPegDvFXXQDRLi0yHExNRH9n4/959p8gbYe9UJ6fj6XrQgugR46cCDL1Jp4ZBGkr+ZVUkmmDKlngzdr3RL/kE2iQ0B4j+sJ+wjW0K3njHHXcYC3Hy3Z2dMg3Gq/lguqOKukEbKLpWs0pAV5tECeVYXc7dHMBFXls1fDgpQj0cXtdrR0YWxURcX10cITc9KFcDtMTLfhXIDGRuSXsN2KXfszwn1Qhk71ujkfw2IJA5JgIHHYE4c9LiLFio7sH7d040EEePHX/xlVfxi9NAYjob/jU3Ht41SYA8VjFT6Rvf/GZXR7+rLQi53gvDISLUaclKv6vLJ5FA3WKa1sng63wCbR44nER8Whr2QwFJw9hL4aR3qVcY+lOh6LWdSTg15zGFD0eMWorOyKKePvsjJra1PiknGaYlXvZrQKapZYnJN55zWiOQvW+NRvKJQCKQCKwJgYHH6hIzEGXvgys3v/ibSpcuXnro4Tn/BurIlISj6bjO8ZWX1MYgLbjTuFilMEChU37P0Ghqg0ISraq3z+++/Q5hWGmOnSz+VeHoVzAhL/lIKajOJ859KQ9Q8cNcRcYgRaFYHTCPpZFqoWwM/R4orN12m6q/+N/bQi34pY/hvACo9qAawJmChsOpRYVPm4vx3cZXGsx4EmXVl70Q8lkiMrwF8bzq5CPQYR6z9z3Mu5+1JwKJwL4h0JyEzZdH4yR+59rr6vXXLntOO8DrXV2iUE9269Ytx1ce4cag4EdGCQ9dZW51tyHnkJr38p9+dqsc8ToMVuCHVz+kI64RUWNoyqQmEqsozn0xwxR+eGBoDMKjYcOyGpvVbfuUUHQaJoI2QlMVFSjCLeGKKHJQppKNQcHPGjGOe8Nh17Yuyqq63njzLV8tHnzg/jinJ5yVVnrZRyEACTQwKPhZ8+zVX2nyvREPjzB73+3e68w+EUgEDidEeyULAAAQAElEQVQC8UNSB5+l/OgVynSYoXzu/IX3r+wOqDlvG1idtKQnY8h/rSBQI6lXG/7uu+7s9UCouy3KAjnJ1uyWH2XGYTChpqRWY9hEnymfcCXcgn50RfH1o04Gr4QI0R3HQMFt17BXIv9e+bBwvsLjG0jxHP9IMXbKdxWZKLysYuwIYb2/z559xj7qJi+cP0dhpa8shBZiVpoPmVmjNPrzpdo4yWn2vnkNJAKJQCKwfQhEn+c8TNOgjTCe3DnphEwl0RATHj12XMeAQTpdPZbeiwLyNtmhGnN8L335S0fIWbFF+JEUv9GUzIuvvMpQYnIQqGmGGm9OcCkjcr2OpocHtiRIGjwQ6oQoBEWfRFiaP0wUqLsKHeN8+TBsaCl+ipNSmjKVIJYyjQ2BgoRO0e9C0WvIqqE1b6hvIFKVG8LEtWeDZPXU448pebgoJpq857744x5MnP7yAAT8MAk3cNn32q4TGem5HVSnHMn4SoB3p+CR1eHk506V86Qagex9azSSTwQSgURgOxDQRuzufX5qqynURhj1B9//4Q9K9qHgEWsV6XR1xt6iFoVgPG6DaUZdlz6SFVs0Sa2xMhW3/LyYocTkIDcdj9UuaWcF0ipRLv3x3gdXCNkSImlInrA2j+7f2VstjOYg/rJvyKfmM+b3vlxN9UNnKnFS75rSIPPoI0M/wg4wB6Dgc2pcCmvbULG0tsr89LNbCkSxffW1ZysH9lePy6T+2w5xkQBh6nUIDaFdcuIiflw5dWjpNbROZISWm6wwKPjyM5ipyc+dqlhJNQIHqfet60o+EUgEEoGNRsBzTlujCehm6QlnqZGHft1BhoRmkP4gJJiwjalV3YCR25Ab8bouDB1jL+kYWIVtqLEiaZQtEdaJUSi2YV5SstSlUG6chJA5siR0YxhxqdVyapS74aiRc4UwtYLMSXir/Uziix8mqPYToRtDCtRq53gSVDLp6jROStAwEahR4I1OI+xO6dAMJ9KgwBUJpiZLhGCphcU2zOVcr9Y8n65qTooJb4S1Dr6shsNagXMmvQlwy7Yhwlo/piRdz41hmZZkWDEnlw8eU5Mlwt7ExEJWJV+bNHx4oFaT6EWtKIQ3aZSlYCizjVXKIcxxVgSy950VsdRPBBKBRGAzEZiYVe8z8r33Pz9bnWjzt4Ve278tTvlftmiK0uAyczSoMsMiV2gGgwmq++JEUDQhoxnEizhhi2YIdtuUP0PBG5rJ4XjlWT3Pql9nwhbVkgX5YW/DqwuGPgzm2fsehl3OGhOBRCAR+DsEvFb2vtUZ0t9Jc5IIJAKJwBYjMDb17H3HIpV6iUAikAgcGASOffW416YHppwsJBFIBBKB8Qhk7zseq9RMBBKB7UEgMx1EwDtTNKiSi4lAIpAIHEwEsvc9mPuaVSUCiUAikAgkAonA4UUgK5+MQPa+k7HJlUQgEUgEEoFEIBFIBBKBg4VA9r4Haz+zmkSgD4GUJQKJQCKQCCQCiUAgkL1v4JBjIpAIJAKJQCKQCBxMBLKqRKBGIHvfGo3kE4FEIBFIBBKBRCARSAQOMgLZ+x7k3c3a+hBIWSKQCAwh8P6V3XPnL/zu978fUtq/tUhv1vjzWc0a5dDqrxPedcaab0M3P8PhuuT/0MOnN/YTYDj5kavZ+44E6oCrucpd7kGTSh2jM8k25YlAIrCxCLi1Perc/iXDN95868YfrpfpRjHXrl2T3qwpzWc1a5Qt0V9+mgPwdq+uBcMPxFrQ84uvvLpz76mjx44b3REyn8/h6jKcL5+pVipVb/0JcPXqzzf2E2BqOWMUsvcdg9JB1nHRu9VP7px84smng0yd+tQ19+oQ1jrJJwKJwOYj4PHW3N1yfvftdzzqfvLTy/gDQL01HoC6trSERa6utW2lx5kH36WLl4B84sQ9RneEx6IE8AeJVHTgPwHG7Ff2vmNQOrg6t93m9lbeyy+9cPPG9aDbb/+6Y5X69nj27DN0dvd2Q4GyaRhikhKBRGBbEHjv/Su/+vVvmmwvnD/34AP3P/rI6Ua+mdN//Kd/Hk6st8Zhk1xdHQKLXF1r20oNugefZ9zeB1def+2yEQ+TA/OFUC1BvZAuskfhduvG7H23bsuWmbBXPNzpZe87dRIT5Lb3KaD99VW4SHS95b8CRdmTMpZyTAQSgQOAgIef+3orCvnLn/+0zDzT1+oR2PyrS4YefOUZBxK85+DHH3+CPwwEgW35BFjKdmTvuxQYt9VJvOLpXvHPXXxeSb4KG3upe3TUq5bCRCAR6EXAm8eHHj7t7Up8/zTFx7fN4BurEIZCWQrhzr2nim2zZMrEasTCeJPrcY5BEbro8IYfoOKKt6nK4YeaQL0Zio6oFbc08SQNhRNBQz9WezUpcNJbY1jFSIc3Y68TQkuRs9Bh0jtapdkshZCTkEsJ4Ukoh1s8SZBVhCfsVbCE6lUhSAqZMjQNHTzGdBJZpROZsK3VZIJIah08SUMMA8PQb1brKXPh6BdhSCIBfJHXDLeshreSLZ0BP7VCnUAdaJjX/hYFHoQzDbfKx5giS6ZWpW06hhoTU+bhMPjGSQhDoSyFsBeBWKLJhOdID9MLaegwoT9AoRbhpioP+NmEpXX3vv/w/PMbS72JlU3qXd1kYcl8EuM6ttR7gusrryVHv8Yuueg9PnsNu8rLlfzbL34RmGMKKQQtN1B6SwRWh4Dn0BNPPu0h5Duk759Hjx2/cfOP5Xab9A9lioLEXPCsOOHB1NLJnZP1czecuFXJrd66dYsmoow+/ezz6W8/+ggfREcOwfeOnprFlcyFVkWvZginZij6z/b2IkOJyVAOQpCEhxhFEYvCl790BFaeu5K3FJ9RmJocCdMMCTW8KDGNEURwI+etN1wpkz4FoSWA76UAubvEsAilJG1xlSYuuVV8KXOqApPhrCINDrnlPKKw6qVhV+CqN4UHDrnlHF8IJpCxZSSqK5ti2kuclKsroCC5+647jV3n4QEspZDYSpJYijH80JnkZ7jScDIwKtlj7rs7O0WnwbnIZ0WDYZi4j+QPQNckfKBhCUUgTENFgbz3/lKypaBwogoIM7RZYqFY7UJKRw6x2jtyHq6sUnYBqAK/pbTu3ndLYTqEadffd6N8N5tr3V3qotf4ekUS8n0Zn/3lLwv99ytXUPTERp+J2uJ9ySqDJgJTEfA08sw7c/bMzRvXvWY1vvzSC55/Uw1rhRt/uH7ixD1seUAYU07cpLWaW7UEooaoubXjF43GWvm2226bNJWzp11xJdzu3q4qPA4nmUzN8Bvf/KbeQoZcSQxxy1v9C0v+RRHXqg8cCo8+cpqEWi/RoTlQI4giHE3eQCGB4mqOMovtMFPiSq8bl+2AwsisFAIozoXo/WIgylRXvhIsfVPErUlvDXZ5xha4+I999XitELxVhdRbSRJLMRbEyHnjEwLl+p9aaTjpjjx4gujmeYPnU48/1uiEXES3D5xnvUR5k5trmHNO1GgEgnIsjafe+8tNKv/aSclWoKABSGvDhpcz53XO7iNVKL/R3JZp9r7bslPLz9PNw+kdd9xhHEP0Xeuh6etjc4+FfBPG//3//A9tsSZ4E5LJHBKBBgG9ned0/Uy979RJD6RGbXjKxKO31vnefadM3aTGQtzWgYp8VkbOTGpXnvqc+xwg76WpGcYxnqc+V8WDL9V6r/LZwn8XK5KiPyvj4V2H00nz4LluRHOUyWoMNWU2cXkYUBiZle2oN4jPLo101SSz0k1xndQ70s15kqR3K8v1P7LSrvNnzz6jDXURusyOHf1KV6HBeY5LVG6c15sFBG67sQYkTDb8E2Ag+U1YmtT7rjy35771raRVIDB+5+LbtjcjI03cbL6hBvlo8PqjPKJGelhc7V+//e1/P3UqqKD3P/7rP/R6ztPfXlhSuL8IuHeOHDnS5OAQtJGMnLoHtW6o90aOhnikq0lqQsi5+2zmnHySVZEzlx7qzTA+hYpy81Wc//qlc6h5xx3MHON3Tnyntoro5VWvcHOXWbvt8hGoyH2W4t97/4ox/mxFoxBTCtCbmlV4sB28DdAYV2Ee0YM31psSTiZtilX6w6TvV5GDVZfEsObw6oq20uGoZ5xDTTepQ9P6XLOLs3rVMgmNSfkz4bxZXfonQDfbJuJMUzmv6NaYKY0lKu9b77vEGtLVIgj42tpr7lr33bR3idBHg3HgH8NZXRE5JAjSBwf5Av0fzzwTpC1eUdx0e8gQWEm5Hpb8dp9zcQhqaTzFD5B8BfWERt5Idm2bJqarMF7inY9+pSZBmUdFmC6NydC93DUMyYDnUJhjnBpujjLnSKMubczWD2cVHkbu9bCrqGUApVCYNI4x1PfH48P1c/TY8RdfeXWSt2H5QKyAd0ylk0Jw7lRVt+e2Kj36TDhP8hy5reETYCnZRhWR8yJ4hp+NGrP33ajtWGsybm/drR63GzWu9YHzFbZdq02QSMx58CZkkjkkAl0EXJ+Ev63+kZkpikMazEjSVnoUeTftjCoIP9J2PjV9wHMXn3doF4QXEUVFXZ8jM4yPmq45ySTPluagqQhHOGUqUHWFNGoDZc6RSWPSm1gkQzMYWZV8gpESitVeD2wbCuVhV43JiqYyieNVyVy6eMmlsopAnMOq3s1Zt/Lpsz+SWHktgG9IIY1k6jRM1vAJMPKqGEz4r4uRMzwDTGPQrHj+1d1m/E/2vpuxD/uURbyscZbTxHeYRHLh/Dkj8sW3eUTFl/X6XRi1pEQgEZiKgC+ct27datTikKYWNndc/YMBSxpfjyJHaLXJinhPvsgZI2JQ4XuDjs+Qn14PhJwYu13Cp5+16FGbSl2EuyZRpgJlVRNJV7lIIs8yrXeqCHuZOPzrTSx8hkJkVeeDlxIKt70eYqkZp7pq9CdNl7UpcbbqYp4UaD45fEqlUDItZDreZ/n18CST2KZZ0YjcGp/dTQznRa2+riwBbfgToOuwuJqDiZyhB0ljUPBzeNsEk+x9N2EX9i2Hpx5/LP4dg/bX7YQ0td5DScihgjHoJz+9rBsuOr6m+7JuyQ1gTDr4CGSFy0PgyJEjXra412qXXq2WaXylrJ+7lGsFj5yiXJj60Ug4cOojOoWZqDfn7lfi4rM3w4Hzs2JYM5x4unvGK7/I8SRlOomZo0auZi2zu1Oc1DtlGhvR/DwspvUvVkNCPyimoTBrVuGhd1zc1SKb0pvSVOF6ttLFXP+0N7J674sfZJd/8RZbGUsxzodG7y7Ul033unLZ1wriRgL12HwC1EsNPwekvTkDTWKN822ZZu+7LTu1qjwd7mpz3Qy6WxRNrXcZdV/r/VS0yBSQZ49vgd60riqn9JsIHFwE4kWq+yieHB4e8W2zVBw/3HziyadDwUjZDUihNMTRFPqmyhx5bNePRpqTTn2+/KXP/5kdfVaI5iTSqlJAFErOEVFKvgDL8MOrH1rtpW6G8dnSqzxJWOKKKBMjKHimb2rspfE1NuYl3Mgym51iZSubnYqNsDsFuPg0TwAAEABJREFUc4ypKuoOhoRcUQhjWhRmzaopqp4uxVVxYjtkaxyzKZEGfRC5eDBIpZ4mKo3V7ri2rdQ4wtz5jk1UkREfuf31UXjbbbGVTZK9aHg+UlOgsUuNCTWY1GrNdSUfCDfXFdCkJ0/mCJLyr51M4sdDuuAnwKQENkSeve+GbMR+puHe1sgit1Pk4ZHmdgo+xgvnz1FA2mKjbjjkOSYCicBMCOh43ETuNb2jRxo6c/YMKk5CwTQUjL6dfv+HPyApFC+LdZPM0aef3eLTqseVEXXPqAiRG1loj0lWqLnNKSAfCHTCuY8CEim564tQSp67svLiyGovNRnSaTIkmUrihpWIsjUKOvUPGoypsTd0hBtfZuhzJTHpQUx6zU5ZReT2iA4Cvj4GPuSFBhREGQZ/0l4X54WZ6qpoDjCczLEp4TBsXTxwQL1QhGaMi2zlMGjhv4wC2QJnQDbRbhrx7spmm4p+YaIiU1YqMvLz6COnSSZRmLjMKDNBAqGiHwqmoWDks7muJMaDPJkjV1dsyuZ8Ash/kyl7303enXXn5nbyeeEmjDvKV8luBm7LrvBQSbLYRGBBBNxEca95XLnjdJDNkRIFchQKmtGQYEro2gM+FLgKBQxzwpjWI2VL4TkUjCRMilro9ArD0FKdTDGsmXAS+nqLJgoJJ7U+nk9CmvggPAkKPxSQKXko9I516NDsDWeJq7pwkmJbIvaGCCF9HgrJLSSYUIjRSV5xS1kyIS/jVIXanIfav/xJxC3ehpniqlugxLhqzMUirP3jSVDx0NUpTkJZkiGJabEVMeSTxpItE7bUmOAxNVkiLFFiqdiWPEPeO0YJnFBGmMZbxBWoMSehXIgfZEreaJappZIbTYG26xMg8FFmqWjrmOx9t27LVp6w+9DdiNzqKw+WARKBQ4yAR+Bw9YsrTPI/1fOyDOcO1CQwh585TEpQtqhM52aaQ9mpPocVhldnSpIrNJNJUS7MIh5msp1JuaQXDFsU/JiRMhqjubjO1ECLK0xKcqrnAcO5bSf5XL88e9/1Y54RE4FEIBFIBA4FAs153qGoOYtMBDYegex9N36LNjrBTC4RSASWgEBzOrgEj+kiEUgEtgeB/ARY815l77tmwDNcIpAIJAItAnk62CKyNfNMNBFYAgL5CbAEEGdxkb3vLGilbiKQCCQCK0Dgwhd/R+UA/IpuBdhst8upOztVYbvrz+zHIZCXwTiclqaVve/SoLwtPSUCiUAikAgkAolAIpAIbDYC2ftu9v5kdolAIpAIbAsCmWcikAgkAtuAQPa+27BLmWMikAgkAolAIpAIJAKJwDIQWFXvu4zc0kcikAgkAolAIpAIJAKJQCKwTASy910mmukrEUgEEoFAIMdEIBFIBBKBzUQge9/N3JfMKhFIBBKBRCARSAQSgW1FYJPzzt53k3cnc0sEEoFEIBFIBBKBRCARWCYC2fsuE830lQgkAn0IpCwRSAQSgUQgEdgUBLL33ZSdyDwSgUQgEUgEEoFE4CAikDVtFgLZ+27WfmQ2iUAikAgkAolAIpAIJAKrQyB739Vhm54TgT4EUpYIJAKJQCKQCCQC+4dA9r77h31GTgQSgUQgEUgEDhsCWW8isN8IZO+73zuQ8ROBRCARSAQSgUQgEUgE1oVA9r7rQjrj9CGQskQgEUgEEoFEIBFIBNaJQPa+60Q7YyUCiUAikAgkAv+JQHKJQCKwfgSy910/5hkxEUgEEoFEIBFIBBKBRGB/EMjed39w74uaskQgEUgEEoFEIBFIBBKB1SKQve9q8U3viUAikAgkAuMQSK1EIBFIBNaBQPa+60A5YyQCiUAikAgkAolAIpAIbAICm9r7bgI2mUMikAgkAolAIpAIJAKJwMFCIHvfg7WfWU0ikAgcDASyikQgEUgEEoHVIJC972pwTa+JQCKQCCQCiUAikAgkAvMhsEqr7H1XiW76TgQSgUQgEUgEEoFEIBHYJASy992k3chcEoFEoA+BlCUCiUAikAgkAstCIHvfZSGZfhKBRCARSAQOJgLvX9k9d/7CwavtoNa14TsF9ocePv273/9+fJ6puVwEsvddLp7b52349hteHa72xVdePXrsuJs81BZxFR5yTAQOAAJuhJ17TxXyCNRUER6A0mYqwScDEHxEIIzpgLlVOvuI0rVr1954862BDC1FkspBsjUl7JIPRquhY/dnKoqyq2WS526sqZIxdU110igsPcnG/zZOYWKv6427evXnN/5wfRtrORg5Z+97MPZxzip8Cp/cOelTuNfevWrVx3Tv6kjhsa8ep8kJVz618UmLIZDWW4/Axx9/gqIMj0BNlbvDPRKSkaPn6JbeUPoAxT7x5NNAOHHingcfuB9jStitvVburm6IpE5yoCJqPmwvXbwkbWpGu2/rbSV+DL379juulp/89PIY5UZHlPVcMPMlubb0GliWPu0tBCb2er6NW3qG6RAC2fsCIek2t2sXBfdqVzif5Ls7Owy//8MfGJMSgURA67P3wRV088Z1ZKr/m6k1ee/9K7/69W+2EckXLv5YsWfOnlH4669dvnD+HMaUsGl/fS5pDck3vMyRFWmAbr/967t7u/Zd4cbdvV2ljW+JfIT6qvDoI6dZzUpru2DmS3KW9GYtfa36vYW4yOfeuLVmf2iCZe97aLZ6sFBvvpp1T51Gssj0qccf83j7l699bREnaZsIHFQEnj77I6V9+tkt48Em75p8qdbr+0yoKzUl1ObWnzw+l3QMPjos1cobxY+vSAOk360/BvG6YVWPrIg+J/edOjlSf1/UtiLJ9SOz+Ru3fkz2MWL2vvsI/qaE9uHrPVqTzaSjCE+mhx4+7XgG05h4o+cxYIkC/tjRrxQFyiEsEoxTLkL6Vk0LkfNjSt6rYOmvlP+TCBxcBNxE7gU3iNG9UAp1d5DoIPVMGERi1YhnhQ8iQcHHSAEFb6Rs2g1hKWhAgWdErdbBkwzQbz/6yGr0+piaQujYrAi1C6hMRzKwKkU1+UgY8UM+Sccq4sSHD53QJ5lEM1XU68QncK+8K4y05VaWQhI7iC/ymlGCQroXTK2DpzPgh/OiUCfAsKHQLDqiIzoh74awyvNAerVhccshMmWLCR08xhRZqnfQtKwGT6emEBbzWAphN2ersYRhwnPEwvQWEjpM6A9QqEW4qcr80BERE4Z4jCmKpXBVhOQI4AhDzqRXxyriJOqq9ckL1R4oF/nmM/vW+z77y18mrQKBOa65u++6k1V94bqgPVaduJDXdPTY8SeefPrWrVtHjhzBmJZVJt5OXrp4yRIhngIm6MbNP/pECN7oRmJbGm6apuRB3uT+bG/PDUlOIhOMWxSflAgcSAS8DVfX9+47ZQxywbuJ4h4xugU8hGLpL3/+k3skeEfFeBJT3zZpln9A45Z0PyKMVeQep/CP//TPeFRCuGfJ6xBWUVHAdxX0fO5TPuUph9DBk+B7SSY+B7R6jga7CiGk0F0aKeHfJ4lC6nxUUcxH5gxqTnzQMQSgzyI447skooTnrghWPt/iJ2Fd570SG+HjNJZ8kJ7cOUniM9w4CXyXRwDCCoPggC/ED9zIJ/mBIedCMDECB0T4SUSnJCnW8HXSTY+keB4O7c2AWGCM9JQQhtKTpK0hsYOqkw/NWA2r4OuxKBDaWVac8GBqSQjJ4IPCSQntaqGJYtUFg68L4UEOsdo7ci4ENatGoVWBH6AmBxEpT8186o5wglz2clAXPjD88OqHEjMNmiPhMNyEcd96300oPnMIBO644w6f3fVBr0vc0vf//ue5LnTC3b/9WM2LSFO3hxE9e/YZI+Hrr11GGNNCnsqFD+bll16gQ9NLQDyhz19jkOeBT+FQMErPLeeWjtUcE4FtR8ATxQ0V5CZyeZ85e6a8y/ZADYmL3w1idN95kNNXuKNQwhMn7nFfxB1EQh7/rrT7fI3GmkJQ3Ix1CE6aEDRrBeG6Cl/+0hH3qaej3CggOgzrTxLTmqK71WrXwppXlOncd7q+nwdpSAZhTCFZHI7JGcigth08AJaTRx85TSKxLs1XkXx83Nl36An01OOPdT2PkegpXQMyjDx9kMY10NhaVQsoKGOQHa91dDaxiTR5oyYxSYbO1Csh1CaNUzEXVEp1eiThbWRo2YJR5vzYEVb2q0jIIaPG8DlynHothZ86tOgoCoEwvhQSygOjnF2odc52RBWuxgGrWKpzUP7UzKfuCLfiurvlE1V0MVwkYf73nbL33fctWFoCizhy8OBCLx7iI7VMMT4H3ZlOgt1apkFujLCyirEa8hjrafM89llfHvOU4/O6/opMWH9qSI8kKRE4MAi4X9xQQXjdRrSkUWC0j26TmBrdd56pca5j2kt0+HGoE6taXiZuUkdQIXFKhIlbz/MSPxBiZA66CnG5CnLXK8cHQkyb0fOykSx3qjQ9R+0zjtJ1A7VwOGcgg7FGhluS2kPh56vI8Z5WDFDc1vte3M7HyLPei/FOXCS1oV6fbQFt5JXAZICGMZ9kODK067zeL9c2YGsJZOhMitIrZzLmWuK2DtTraoxwZKW9rpocRmY+vCNT7wIgS6au3SUkE4bkm0/71vs+961vJa0CgfmuubiC43Pcc8uH8nMXn+91RadQKNAPxvlxMDHW0+7nOyvfLJ18eK/kSRAmk8bvnPjOpKWUJwLbiICHhKOUQt5yeJbEK063hhuQQlOXNo68ETZTR6rOikLoIcTEvVMkmmA9gVUhjAMhKIg1oMA8fjsRX1xNg+q7PiT12CjXS0vhixP5x8dUtPtFHkyTRp0zQ4V3v2zboLBtxsZVszppGvvuYM9+2XefhJM0h+WaVNn6FFXssObwqoukVoiiAroAZPhKqG0n8eGzrNaYF2GXUd1w6LgIXefFVsJ4wBpr+sY3v1lPx/McghcFIMWwG7oszcFMrXTAZ11+rTYp89AZ2BGG8uliWO4CCpwMbw2FTaZ96303GZTDmZsDm/jq6bgIAr7DGQvFGYBjKp/UhRxdxKM0VotyMPVZb81b9Vmv3/Vs9tnt26dTB8IBCv8xDqjlUiKwpQh4y+FBokmNh4oq8Hqamtx35EUB36V4CtJBnl4eb25kN6knNwmfdVdnWvvHNyGGFeJFDf/dNIYlt25N/HMWsTSHzxLR94f4Oq0W5COrLBVmEf/FSc1E2rWk8LHUG5HQyaJ9l6QNKibjGSd8Gmj6KlX1i6+8ip+DZNK1it4u5MNXQugMj70hhk1csRSGQ8dF6DqnWVO30w3NWmcqP3wthcNu6KluuwpjKu1aFUk3h+HMw3DqjnQxDMMyDm9NUdtM5qD2vpuJ9kZn9f0f/sDD0k3og1gf3OQad5c+NU4syrj3wRW3kI/gRt+0Puut+RKCLUPUnDqwbSiiNw10o5PTRGCrEYgnTfmCpyXyzdDrF2OQLscN6HYbKPOvd8ofrvsGq+UNZec35Y8nxJ0Y8ggRzmPkH1lFolCoE6BjFcUqhVmJoax8zvQa+nX+N6cAABAASURBVGSwRKF3dYzQI9/zWIblAwo/xrDoyLDwYxj6EpZ2r/KYiuKvW8z94SYBH6TqtVkOIyDQm8ncQv7Zcm73C7kqAItilcIqKJxHaBFLdHFRrHbjhrz88qco1K18EQ4wkBy+lmZ1OBArllRal4kfc8uHbT1OzbxW7uUDw96lWijhsimYuROufa6Nz953bVBveqC43OOfrOmDm3Rj1elCI6+ncWxcJPW0+8lev/Mqz/ti2zChEI/tZimnicDBQCCOkdTiXtNOOS/0tRBvDAqewgDRYet2+/SzW+WI12Gwp3j8A1auwpxahCBpqFbgsFk1DYX5xnht2ntCGbd5SXtW/xpNZXoeL5IhJ+J2O6dPJ//p5QUriqoFXZDiCBkCC/rpmncvlXJVdJWXKymhS0SbGzQQKKwahXJ/FXnsdZnWP2mwBMnha6nrsLialVFd5IyJ6ox4hJnJ25jMpzrkhM7AXSCxSFh6hQiRKdvNp+x9N3+P1peh414HGK5pV3A3avwywYtRNwbyks5bNl8xQ9Mq23PnL1hCGNNYMtZtazjXRlOzxA8eM0BxmjWgkEuJwLYj8Ksv/iNt8eRwUuv2iRuk1OVOaSR0ymph2Dr/8+Qur1Pi9iF0a9dqzBuHdQh+hhWKq5mYC+fP0ZdME9o0Pgfi3x7QmZXig6WxqhuaZql3yomOB3ryKQp4kjJtmPEVgdcHY2MeR/LlE1IsOjQbtaVMbegcflZ0JXQz6aY3NXTv4WuvlfeZJWKcvDTfOmoFl0FRLsz4a6lbSHEyienN2WXgephkQt4tf8HM+UScTL0L5kuY8zXSUKjsfYfQOWxrcdzr5UVv4Z5J3jS5q0/unEQeVG4Phw2hbFXr7OPDEnJMQjmWjA6ijIW8yvEYpqZ75iem8ewvOjXTfEjVS8knAtuIgDNXLU6QL5BuBHeWL5BRS7wHd4M4H/Xw8wik406Js9vQ+fKXjmB4oIDwQU55Me4vDzAMwrhVMfWR6tQQUxU4nI/c7wxVpyilIVWYEsYSJkhdllC0ni9c/DEeJrHaHZVJkwJDRNknUldtWFIKlxgnRrnBk5WpsUuRNrXhijRP8nF8IENujXgJSzu+8/D87tvv0LHX+GGSjMtGRAxSbLiaZDXpgpmkX+QFEAkLJHNBZVhfjUV5bqY3vamhew9fi5VUI2FA1YnFt0ElhIK6KHh+0SnPGpsCT0s8IPDaFwpTqbeQXiuPRZ6R1ZJzRJTYGJB7y587c2kUavKRlcs77oLQaRRGJhy2mzBm77sJu7BvOWhYb964Xj52PSO7070PrpT8aFJAPuuNpfENBecfhGUplPm0GoGCN8VwSzkopiSWEIYcUyhcGYskmURgBgQ2T1Wn61Ea5BHrceW7otskMnVHuI8InY965HhI06kVqLndKPBAAcUTlDye605l8IXix8TlcJFcCHcZD5NCTFXgZD4qnhWlNKQKmSjZUuPTEgohfXz3VWysGn0i8RMVwcQ3cD7JNRnGkSSHsJIYJ0bITzoRCJ9MAkwZ0kfylAk/lkLHaMu4svUypGPE+8IjbasNlQ1t5GXKM/8iShKJqHvrdRUmokuJGmU01X9YGSMQWwkzlLmgCimXK53FqTc9oQPYmUIXK6lGwkBGJUkKoDMNBc6VE0c/hEGQLCVz0r2WumeuYdhbSCyV0bOsOI+vEFKao9LisGamZl4rT+KbfEAEwPh5T5g0CpBcxVURsVYxZu+7ClQPvk/X/aQiB5YmmaQ8ETg8CLhBPOQa8rjyOKxBoEZIzUMaYRoFykXBKn0ShDG1hC+kTSEc8DA1RFfBM57PEiIYIQjlENOBUYY0uS06jtyahowfOg0xLCZdxip9bo348KD80ByZc1jxEKQohCcPP72jcHSELqvdisJPqNHElNzCSob6MHxvLMLaJKYk4YotwwEqGTJhS5MJHlOTJcI6MZLa1qpCapOap0yhmPeGYE6HZm1Yh6iXijzKZFuswnmtXJaKlUCSaY5ImZCj4jMktfPaAz4UuIoQGOaEMa1HypbCcygYSZgUtdDpFTJElupkimHNTCo/nIcT/OfRb1wv0cOq9oMXS0Sa+EJsCYOKeVnFhIJAiBonhFtB2ftuxTZlkolAInBIEfA0QgPFD68OGJYlHlCZdhmrqCtfXMKtR6YHJ1eOjhywedWLX5C4XdDD3OZCj6mIGuqN8t77VxwK9i5NEk5y1as/k3LjYRHbxtWk6aQQ5GiS1ST5VJPFFeYOPWA4NatJtrV8KU5qh7/69W/qnz2UJYFQmW4Fk73vVmxTJpkILA2BdJQIbBoCHpxxgKRrjN8RblqGs+Yzd0XvX9n17hgas0ZM/URguQg0L2FefOXVjz/+pP43A8sNt2Zv2fuuGfAMlwgkAolAIjARAV3jxLXtXJipomNfPR6n4NtZ6+ZmXf88d3Oz3JjMfAfzEuboseM7955CmEsXLzn07f3lw8ZkPUMi2fvOAFaqJgKJQCKQCCQCq0NAo4xW5//Qem5+73tocRhZ+H2nTvoOdubsGfpHjhw5ceKel196Ya/6h+/kW03Z+2719mXyCyKQ5olAIpAIJAIHH4H4B175vWL8TsPKKa9+9/XXLiPd8HjbzdfM3nfz9ygzTAQSgUQgEUgEVoFA+kwEDiMC2fsexl3PmhOBRCARSAQSgUQgETicCGTvezj3va/qlCUCiUAikAgkAolAInDQEcje96DvcNaXCCQCiUAiMAaB1EkEEoHDgUD2vodjn7PKRCARSAQSgUQgEUgEEoHbbsvet/8qSGkikAgkAolAIpAIJAKJwMFDIHvfg7enWVEikAgkAosikPaJQCKQCBxUBLL3Pag7m3UlAolAIpAIJAKJQCKQCLQIjOl9W5ucHyQEfvf73w+UM7w6YJhLiUAikAgkAolAIpAIbCAC2ftu4KasL6UXX3k1/pvdvSEfevi01Z17T/WupjARODQIZKGJQCKQCCQCBweB7H0Pzl4uUknv+e7Vqz9fxGfaJgKJQCKQCCQCicD2I3DQKsje96Dt6Hz1vPv2O41hbzfc6OQ0EUgEEoFEIBFIBBKB7UIge9/t2q9VZfvGm281rp89+0wjien7V3Z37j310MOnMSEpo3b53PkLlig0qy++8iqiSW6VDsY0afsQyIwTgUQgEUgEEoFtRiB7323evSXl/uAD9/MUvSkG6WI//viTkJsW0rY+8eTTMcUcPXacZkyZn9w5WXroWI0l48/29lCYHzly5OrVn1PQKFtKSgQSgUQgEUgEtgaBTHT7Edi33vfZX/6yS//rf34UkHaXiiR1QFTQ6DJWZ6U77rjj9tu/rjcthh9e/RD//R/+wFjIYa2GeHdvd++DK6+/dvnmjeuW6uPhl196gdASBbzV+nCX7d133RkKRhFLo0wzKRFIBBKBRCARSAQSgTUgsG+9b29t//v/+R+98lqYOjUay+K/u7OjNy3e9MF60zLFON91WOsk+F++9jXTIA1usXrq8cfuO3Uy5MZjXz1uvHbtmrHQhfPnCv/oI6fx3Bq3lzLzRCARSAQSgUQgEdguBDar9/0f//UfpsJH5//2l//vsNph1hlGZtKqztVSHNPqR3W0z118nqRLdApFa0s/1DDOhnfuPXX02PGTO//ZB8dqjolAIpAIJAIHDIEsJxHYRgT2rfd97lvf6tL/5f/5zQCxu1QkdP4///h/pVYkXeYw60BmPnKm+5OfXmYbf/PB+S4yremNN9964smnC5mW4+Fz5y9Ev+tA13nwmbNnasMuHwfD8eOK7mpKEoFEIBFIBBKBRCARWAUC+9b7rqKY9LkIAnfccYfjXme3Olp9MFd4Y02a2ps3rte098EVLTLNN958i9Xrr12+79RJ9J0T36kNu/yNP3z+c+FjR7/SXUpJIpAIJAKJQCKQCCQCK0Ige98VAbt9bjWsko5/u9b8KzdyDa7Ria+xkJY3+FjVPcd0zBjnvmM0UycRSAQSgW1AIHNMBBKB7UAge9/t2Kf1ZHnixD2Ofm+//evRyzZB42cMDz18WsuL3r+ye3LnpGlR0xmTm8YSZoDi3HdAIZcSgUQgEUgEEoFEIBFYOgLZ+y4d0i8cbtVw4+YfI9/XX/v8976PfvEXGEJSj089/tjLL71w9erPtbxIp6tXDhNqN7/4k2fkR48dt7S7t6uH/tWvf2Opl+Lct4Tu1dkvYXTw+xV9f+PWtftiYzdryf7mltETgUQgEUgEEoHFEcjed3EMt9iDdlbPaiw1mMaPH0ic/prufXAFH2SJBGltjaXxjVUSFEtsGaJYwlgKPkYKJHXokO/7qNXTwe/ce2p8JkzQeP0N0ZQzqpNRtdrPnb9QC+1UPU0+ERiFQColAolAIrCpCGTvu6k7s9l5DfRDA0ubXdOc2Wkf9YvxxzHmdLEfZr1pf3dnRy7l195f/tIR06REIBFIBBKBROAgIbCO3vcg4ZW1JAIHGAHH8A7jD9u3lwO8oVlaIpAIJAKJQBeB7H27mKQkEfg7BM6dv/DiK68SvX9l96GHT+/cewpjiiy9cPHHmDfefIvcqvNU0yBqJOSYkMTIG0M8eb3K1hIJKzwKhiZ5mOCDrNLkoUzp0K+FsUQetpRjlaSkzQTxRplC4U0nUaiFq14d/puIoSaKJSG6tvQtUZvkPGwZMsejYJgETTKM1f0d1xYdCJBcbrjwCfDlup3Jmxya7Z7JfFnK0lg6vAvmJqU5kGE1UIjVOXwuWMiyzCU/UNqyoqzfz7bXtWn5Z++7/ms4I64JgWd/+ct/eP75f/vFLzy20dxRf/Xr3/xsb0/X9cSTT3Py8cefYOLj9dPPbl29+nPCoFu3bgVjPPrFv/kjOXLkCH1TwqDffvSRXtnThTwkRhme3Dl56eIlPMJrT4tzCTAhL3TjD9dlElNdI/1iy+1wOAkUzxhJhp8bN/9oGrxRdcaGeOafSbeuosm/bJsCh5McAJnbAo6gpoqtwSEZkxW1DSEXj8tpFclcu3YN8sv1vAqfc2ToynTNz2G4RJMNgaKpqEHGzeLW02o0avV0aiFz+Kz9z8GPSXuM27q0ZfkcE3fVOnVdq461Cv91/puwL9n7rmKX0+d+IvCv3/52HV4H/N+vXEH64C7pjGtlfO8bf13m3XfdefPG9ddfu2y8/favR4dhuru3y+rBB+7f++AKCnPNDaElEjpMTEu7E7+j9XQhp3DfqZNW4y8rh4QJWwrkkyj+UEZZffmlF9gy5BBPrtc0om44avxbkjYrJpF2858aCUNqhYbrKmphKP9wHgValRiJ6CLiSUqS+EkgWyrgsEWccE4eNDKrUN6E0ZcKxS6YieYmCl/Qz1Tzf/ynf56qs7EKc6M0t+G+Q/Hu2++4O+I/0rmsZFbhs8ltFSGW7nM9V8V6ojT4r3O69H2ZI/nsfecALU02HYF/PzXDX2loivGVtJHE9ML5c8EY49+ETdIk1xlrK6OhpI/OnD1T2h2tD0l0nxjExCoTfBBbJsFLop3XAAAQAElEQVT3jvUZ2FOPP1b6S8rRFv/lz3/Co244wl5y7tsrD6Ekh+sKNWNvxL8laf1zapL8XHTbbTXI8bf2BEUNOJQLVlZHZsXqINF7719xWL6GisqFtIZYSw8xN0pzGy69hFkdfv+HP3B3PHfx+VkNB/RX4bMJt4oQS/e5nqtiPVEa/Nc5Xfq+zJF89r5zgJYmm47A//v/+D9Gpvi//udHIzVrtan/xeZQ9vW9UEg0apg4FtXd4mtq/sN4zSlsrYmP3hETxLNTQEfL3v6f3Pn8IDnkxknhLM1HpShMeBA9mBgnRaQ2KckwrMemwAac7mGkZAqFH+GCyXERBLpQL+ItbVeNgA8W3yGNSwzE29J9NumtIsQqfDZpzzU97EabsC/Z+x72q/Dg1f9vv/jFs7/8ZW9dz33rW0EOhoNGdrGNtzhzjbFZMg25w8gnnny60KWLl26//etWeylMmqXhU9jaREOp33UK6Kz05ZdeGD4wbqIMTOP4tihExDF1NYbhYdYkI5wRhYfeMVbHZNVrvgnCF195FclEsw4lX2CMeJJeokzBe23H4RhE0mgyJx9wVSv4ztCY19Ny7kstfArHvNbBk1h96OHTiAJJIUuEzIsEQxlhEH2EoUk4kDadmkKfcxQeyqopV8MoFeWaGWMYcQfyrBWawutYwdfK+BCWkUQhCkRyK/JJDH2aTVBTQn7GeOh6bnxygqiR87kUHMKVPLlF/CNMyAdCMJlUWthS4KdQCKXNqlmiQ0LeDScZJgOXU7gNQ064qqlexddLNT81CmXmMolAeJKGCItCN5NaWThEEiasYhoSPAmyStIQoaVIozcKISTp8NNrS6GWm9IPh5zXSzwgEnIOe3WszkTZ+84EVypvGQIa3P945plC//rtbwf53llojpKaI8nGQ6zqQW/euF7T3gdXBP075b9NwuTatWt/E0z/39IZ+zjQ+XnLyf99p06i+Rp6IZuT5ji+JQ+KJMfU1Rgy7yb51OOPkQ9QhFOmirpqJdVQG5NV18mGSH770Uc/29vz0R9fYI4cOWJD8SS9GWpGfc+JJQziIaYxek4wJ7/7rjt7XXl+ULAUsXxD89QJ20nju2+/Q823Gia+yDGv0ysOw5yC9w9FIS575i6DULAkejlRVhGTkjYdq00IwoaGg/IJgTDBIJKYDo/UKIcOBq0UXlCoVL29mzVcYyTZHbVobpwit7nAv/XFv8SFs9bBPpbVkUztEyBjrtiSvGtGgXKQyUA4OiXtkSE45LYurfFf+7REP9C2razYQiMuS6OLloQ8EqapBFaoe1WQkAdRoyxWGHIiUCwZh7eYQiE+JRZTDIJDTGMs90jv1UJnOBMKNXFe9tElIf+4PEChHLwECPFKqA2nRlE+ECDJih8gY2rituy1cAPIs6rzlFKA3M2K5njK3nc8Vqm5ZQg44o2H7tLzjrPGcNsNERJ3fiiMGcPEXV0r+xwsU3d74YPxmRVMjM1PAkI4MEbERqF8GDXymIbJmLp8jIZJM9ZJNh+mjaZpgFx63Obf7pTp+Kz43EzyVcEJLmB393Z9gXn9tcu7X/wDylJjk7a3z9ROnLjHmwQMYlLreNjwQE7Tty9qnBcFyHvweDlgiaGRss7GY7XodBkmNOkjTO0zHMqH3CrChIKnWrh6+uyPMC988QcBMfKh0Hz/KWnLvHig3EtTg6qdH1kJhEEkva4aITXKtaGKap2SJ81unpHYeHjtsgz5CW++xcXXORHDlUysygFhKEOvAEttmLQpNlc+iooQ3g6RDFsNr465Yl1Orhlx5RyZ919mEyKNCdFbmqATXN4GT4UHntBAcnPrxUeNsSxFwqa8BdSgo08CfwwiiUDcUhuo1H6xEouJsd7i8FBGCjzXUWRSVjHLvfZqkAWSmzMUgGgroxzJEEpeCaIHTa131n0ZRl7QOk8pSdW1RO7eMc5H2fvOh1taHWoE4uFUOkUfDT77fESiwMUHB8aXXRLkw8L3WlPCScTEh45PjVCIJ0fwxmgdeOAN+VZNGFSaP3ISsXxyYaZSN+1ek3AbS5LElDTE6q3LRxW1mrpJ1h+mtWbhA+SYigucEhdKprFktGosq5OyorOZFMefnoiBkiQxilJjDT75VApXbHkoynodPFiMKB4Ydd9J2eO2+TZFsybp1dPa53vvX7HkgWQsFP/WqjS7QvCg85CG7aMWChgUaVOgZhpUhwhJPY4JWusvhY88VwFvSc9bjgLCUmr0jdqdXm+3ECQl4hxM4FDvl5zBUl+xcTnVcelMvcxKMmNCzFqaK1/hzYWqtwOIuMZm6Xv3ff5vpnVmVgeIW6sDlQpKoZBAoCjTkUwAAuTatrlHpmbSxAqf9T5qvulIuC7HGTNh+SyaGmXWfQHIMPLdPIEAivp6k+FMlL3vTHCl8goR2CLX8WlYjiTjA0jHiTzaFeKDwweKO5ME6fN86PvCagn1HosycTProXWTyJPDlHKQW718I+eQsG4dfAn2aUXOUKyY+gCihnrDkXfTJqzp+z/8gWm4xSBJDtRFIag3YmQV3rpJhmE9BsghaeIqTRqxZGxWOa/RprDhFAf8da8v4XJ14cdTuGp+9BKe46uaB5jLEj6NT4958kZYT8NJkcRUc8ahjrbr0BXrmoyXnmHlCUfN7rjIXdsUQm6MtMOnaVBMhYhpPY4PWlstzkeey4XXbQh539zio6MkuZQaOeE8/i5N8YyJbgYzHwUOsUHFQ33FRlzbXVaDmXqZhZpxZIjxpUVK3RdoYjVE016gMT9Cowzh4UonbXETd3gagCz32gufbswSWjn4BqV4XxcfyBSG6w2F8fsiXCG2YEcN8pHnwPVWPIxnsvcdj1VqHgoEPJKdBJQ+Vc14EkwhHxYkxpBgTPV2RnwtJAl5/b0WTx5q9aiHIw99QeslvG/kZZWHyDPC4elbDYopCStEmRzTEFvyCIe3GgkwxyNMUTANokmIwpDzkNcjIYVagudNSuRBMSWxhDDkmEIRyBgSDIUgyiEsY1kdyKoobxoTpxoAWVZiA65iSbeq2apJSyq6Z49xJgqH3/jmN7tWnqAek7U8Xl/oiV1ptXw+fmTQ+ZwPWEXJvQqxNBO8Ll0XLW9PPPm0765e+OBRuBqocY7N4naJFBn2OoylmXAY8NO7NJ+wF8/iyvs0W+D7udsB+ZJWliYxYyqdtMWTfA7II1yvQiwtiHk46fUfwlBYMEq4qscxyEfo2moRPnvfRdBL20TgPxGYdGdOkv+n5d9zw/rDq3/vadRsqsNJCpPko6IurBTHgd0cupKFQ63cQZxqrDzMFwGiYXJM5b2B46gyar/QHOiFw99+1P+3ArW5X4T96/Du2+/gNMSOdjAL0sigC0aZyTzQqOGFMPKaAk2Cl9zXOd/rGF66eEkfIGi4GqiRFbXNpEheOfU1NhWH/a0F7Fo622QjgvBTUyqVqq4u1t2Eyh5huls81flMCt1MpIRUgSQwxls4GdAMBTvLc12vEGhklMb/fMg3TmadZu87K2Lr0c8oicBt9TvEQw6HD9xyHgYKvKfUgw/cj0+aCQEPJ/3orVu3MI6jyohBM7mi7BSNVTg0bUgUR79FaBMdpHlA2jiHakU+zAjRVRgftGu7UklJDBPwYhAeTQ3thYmuwrVNk9VIYClPIk4sdRvo3l8l0VwWiRvJqxofYzD4ZUXhZ9bSuvqcIBcn2IE/a3qKikoxbMuIQTw3VG9xs7TgVLgmExIkKzTSOf1hTQpNFM4JjajYdnGedMnNjXyJNR+Tve98uKVVIrByBOIHmisPsw0BnBc6D/M6MgjvKXWh+i/tbUMRy8/RAeocTvWjDD1yalsHsY2kXsV/ePVDY6H4R2zx68O777qz1yHh977410Jh9ezZZzw1PSDjd+QOe0Jexr8PcZtNtxQhMA2NDMpKGsaaVHru/AUl18Iu3zXs6nQls8Irma6TkIyvMfR7R3eKrq6OgifpVV6icFYcZg2t35qptF59QQcug+ZXp5RR96qYWinAGc5E3ShjzKdmMtXJmFSHo/TizO1Ml1wv8lOTn0khe9+Z4ErlRGB9CDj39eG+vngbHOnC+XPeQnqH6NTQiHd8ssH5zpOax8NMZnEgqodjiMbbPn32R3rQkzsnHZ8z9OzXhjqIjV6z6yd+juz7RomF8SRzcXrO0bc74ZArDhHPHBLqdCkgJh7n3pPiWdlHHuibom4IHhwSlxB0kG+DnCP8mKDUelFSKecyDFfUutRr2FXrSuLKHAmvBGjCH4NUDRZVh9uRNVKukTGtqeQDbSGQiBECX2s2/IDPRrN3WuIqSiDRlQlz4PfqzyEsITgXAg2XVvQjJfqREnPXJEyAX5ZcsS6SJqveq4Jbl7rQYctbuI1KRbFEgkF0RBGr8VxPe6PUCpN4mVgSThSxmkwsTSU4TNWZ9AFSvruWNCQgDSSlKBnf+BfREkwiZwq9yDdWi0+3ofddvMr0kAhsIQL6Bh8iPhq2MPeVpAwKmBhX4n2/nc5a11OPP+aZ4fHsuYI8M0ZWIJAelK12lqF2xINHM6rT6vXwlz//yaPdVw5vLekjQR984H4XZ9Hf++AKh1xZRTxTIAwFj0Am9d92sI+hH2kLQVMOJUR4KCHoy4GQ8/KI5T+cECKrdVAO0dwozW0oKKwkJh9ZwWQAXnuhago0ERMllKq5ip3ixCoKBYVbCupFJpbKKB98cSJifR5vqaExPhuT3qm4I3HoNR8jFILa+NLol5TgCXloqJcTsNdLLkXK5L4DGIMmXRWxTXaHT8mE27ihpm5xeK7HSVFqnUm8nEsVTSaTTGp53I+1pMurqLdeaRdlaeAlABAE5IFLbgzyvC2XsvddLp7pLRFIBBKBKQj4rHd0XZQ8I+tpyD2PCT1mPp9O+P/w4zFTNHtdcUKhfjKR1LZWhZsQ5DY+NVuNCWGjXxxGPrUC50LUCbANfW7xQce+ejyEXQ8U5BDy2k/Rj6U6KJOg0JEAinDUPIxjdWAMw/BcDDlpTCwR1lmR1LZWIdBYlaklCigCya0sYWpXvQp0IMMcRQ5MCm8VhYQwPIiITMmt9tKwT0kybwy7PvkfjwNlPqMEnseHYFVIDsiUN06M+OIzJCWlggZ5UFlihe+aUyO3GrYUSBCmllOQBnkQngSFldJCPjDW3jinyYoHTE2WCCcVaAmJXpvUfNdnOBS9VuOh8UONDmFUhKFTm1AgRKFgFZmSUzPi67Rrb/hGoZsnJ7VD01kpe99ZEUv9RCARSAQ2CAHPibmzmcN22MQqmjufMJzkYUA+aSkcdsf33v/8oHqM1Ridrv+QzGQ7rGwVhdu5x8U9zBd6v+IOZCsl1KswSV4rT9KZJA/b4dXQqcdZ9ZdlW/sZ5qdmOFWh9j+kXOstg8/edxkopo9EIBFIBBKBLUHg/Su73ko7XtqSfDPNRCARWDIC2fsuGdB0lwgkAitFIJ0nAgsicOyrx72KXdBJmicCicD2IpC97/buXWaeiO4r1AAAEABJREFUCCQCiUAiMDMCXq2imc3SIBHYDAQyi8URyN53cQzTQyKQCCQCicD8CMS/Zcl+dH4E0zIRSARmQSB731nQSt1EYLMQyGwSgUQgEUgEEoFEYDYEsvedDa/UTgQSgUQgEUgEEoHNQCCzSATmQSB733lQS5tEIBFIBBKBRCARSAQSgW1EIHvfbdy1zLkPgZQlAolAIpAIJAKJQCIwDYHsfachlOuJQCKQCGwDAu9f2T13/sJMmc5hMpP/orysQMvyUxIrzLBnqw89fHrMf/G1ONwHZkJIyc96YUzwtFnig1rXZqF8QLPJ3veAbmyWlQgkAocMgWvXrr3x5lszFT2HyUz+i/KyAi3LT0msMFM9X7368xt/uF709cG6Ye1XkSydWVaIurRl+Vx6sXM4rOuawzxNDjMC2fsezN3PqhKBRCARqBHQpR3Iw7+6xnXy7779jm74Jz+9vLqgqwixdJ+a6TVcV3n1ru4yO5yes/c9nPueVScCicDhQuC996/86te/OTw1r7rS7//wBw8+cP+jj5xeXaBVhFi6zxcu/ngN11Vevau7zA6n5+x9D+e+Z9WJQCKQCGwrAs4a9z31f/na1y6cP3ffqZOry2QVIVbhc3UIpOdEYEUIHIbed0XQpdtEIBFIBOZEwDvchx4+vXPvKe+Lm07uxVdeRfySW+3VsYrCCZ3QJ+klq3S8oP/4408wiKTRjFhSsopvVk0JLUUy4pIMEx36qBsrDEMhHHIewjKSsJ20qoELhakJh4JYxXNhCIVAkzIsmr1MJMBJrHKC8CGPuHiShggFDYVi3ujENDSLDv/IUsjDA56kISYRIvTrVfqWKHSF5Hw2S9RILHX3gnPygesqYvGJOOGqpljtuq118FOj0AlXosgHT9IQoSUKqJtJrSwcIgkTVjENCZ4EWSVpiNCSEKg3CqGl3pJ5RhyGk14dq0nLQiB732UhmX4SgUQgEZiOgGfb0WPHn3jy6Vu3bh05cuSNN986uXPSI7NY/vajj362t+cxSe5tctEhKToYD9Fwgr908ZKHJaaX/vLnP/ETS59+dgsvRExj9NCNWF/+0hGr+CZWKEg1khFX9LDtHa3S4cpqN7eCQChwK2KNgOgk5HffdacRT8JVociH+aSEeWPFFshGyUipmGNMCXnAdzMkHEM837j5x9AEab1rhFbl0Ju5pUmJMayJ5qQQ4aEbopQGnN7Sap9i0eeEEBp8gsW1ZI8sGeNatRRbTxO2ltBf/vwnlxMGUUBAwAfFHnFrqj/mViB8EFi4sjppi0PNOByFQgQSXb0ccss5eaFQsKS6biZFLRgl2Mcw4ZNVYAgKnvEhxM8UhXkgKYcukkJHXD55FqLokFhNWjoC2fsuHdJ0mAgkAonARARu/OH6iRP33Lxxfe+DK6+/dhlj6hHr6Rg2HuEOaPUKu3u7obO7t2up/mdV+g9P8TNnz1Dw5p2TRx85zQm1LlGgJsrtt39dRLyxVvNEF4I8NKmJXhT0ARTEEoWhkbLo5EWnZqbmViMgKIdyk3xBQKVyIJeP8eWXXjj21eN1CPnIgS0FI+UmYd4iYas8UK4TnpphHWskP2bX9DEyH0hsOFYTQmnqYgIuY9CspUkJMvCHEoeIT5efPeLQWJZi601hGzsFfEIS+DNEpqwQt6VSQs65FahcM3JmRc6JsbvFnARR4KE3SigIxLnoNLnitrkYKIzHPEBmEj45fPCB+wGiJa2dzBplGEmFRFyZR1wlY8gBZUxaGIHWQfa+LSI5TwQSgURgdQjcd+qkB1vt/3v3nTL1dDSif/ynfzbqBrzZxyCM564HcPQcJE6GPH2fevwxfBC3JMGPHyMW50IUK200XvtiRI7BjHUsynqRkFtqaGpuUh1GoHFIX8QQLiXhqRlGrJnGSGx416KPGY9kk8CYELOWJiWXTb0doNbwwVx0Y71E0lyrJL3ELfn4SgUSl8lMFIAs9+oNn/U+aqllBaW6HMfVhOV+jHuhVlBOfY8ocBjJblwelFbf9SImLQuB7H2XhWT6SQQSgW1AYGNy9ODUX6Jr167VSXnJa9qcdB47+hXCIIaeiN/d2YlpGeN5XKZjmIj1nRPfqZUjdLxqj1ie4rUCXg8kB0xDoT8yN8rKRw0Cmm/OvXm31PhfPGFBOR+ZYRN9YBqJBXRFrbtr45EsTgozMsT40gIKr9dLiEkMTXuBmp3q1acM4eFKB7a412evMABZ4tUrSvjUquKDlINpULrjjjsI4/sqhan1Ug6iDEbUIBlxB66fMM9xWQhk77ssJNNPIpAIJAKjEHjo4dNHjx33FtUrTuQlctfMqU9XuF8Sb6t1ojVJWzIe5MY5aBgBnUe88BUFUOVFeQk0AE4sLT3hEnqYiei9OrG0eGLhpzfEfMJvfPObA4bDO9VrGBkOVzp1i3s99wojXO9SCIczCZ2Bcar/UJgaZQyS4WogmeUspZfbbsveN6+CRCARSATWh4BHoMekl6reLAfh1xe+L9LUJ64zPAd1z118vox6U2lPNeyLdtsYBHje++AKfIS+dPESk15XXWG046xKqpH2Igl3o8wh2djEBmoB+xzXam+ldsEWIDsbETHzbXGYjx9dDKLH9YBB0kASGOMkyhnQDIU6SsQSotwj8yE5EDSXFkQge98FAUzzRGCLEcjU14+AZsJj0rnXgqF/+9FHjYfyj+4b+SJT/cHtt3/91q1bEsY3Y9czHcKB3DQKMyHw+muXwcWEWxQ/i8RMIgkMJ0yB7UCGVldB4g4ntqygs5bW1Y9MZt2psDL2VkoYRKGhZoub1UWmIgbmmLh0MYUW8VzbcthEKbEwNOdGkm3SihDI3ndFwKbbRCARSARaBDwFW9FttzW//OsqNBLP2mgHa2/40iA2+mX68cefFH48c+TIEYb81ybvX9ltJGV1jtzGIxA/iyyxepmpCc+RYW+gWYVTE5vVYaM/64XRq8+nzTX2Uu9OuTwa5VVU2o3SBO2dTs2k12pW4RxRepGcGvfFV16ddN9NtU2FGoHsfWs0kk8EEoFEYIUIlG4jnmEeY+fOX+j9ve9wEo7KKJzcOalN4QThHT4R4o1dip91CkcBdRUmScTimf/IWUQvcJ948ul3336n14Q+OX2aAiG8dpMQPxUBOkePHRcCgwTV04c5D2OoJMCWB2nwVidcFCxRQHWGAyFu3PwjZTSgM7BU4k5KbMB25FIJUZdm+5j3pv302R9ZUn6kRCewYj51pxii3uuqpBFueQu3H179kIkos25xbxSuplJTYMlk0tXbdQiHrrCRqBfIBcYSJerlwQXsMg40lO82nOOuZ3Xp4iVReGgSyOmsCGTvOytiqX9QEci6EoF1IOAx6UEYzzCPsU8/u7X7xZ/v1VfNFD6stHScoJdfeuHRR04PeHjq8cfE9cSljGZ6fD538Xm2kbOInuLCXTh/blK4bm7f++LvuIV+gwBh6AcCGgVTISSJBH3wgfuZUBtPPAwnTIE3tQiBlFNnaKkhL681N5KhHA1NozByKu5wYiP9DKgJYbUubeDCCLRLSqqDPDTUywnYS9WWSMJ57JQpmnRd0SxuJRNuKTOJoCR8IqhO3WKGvM1x9UYstqKIVTIZuHplWNPIO6X3HpF2uIJkyUEa89318ccl7Iiiwm2OcyOQve/c0KVhIpAIJALzIOBBePPGdc2BEe9JhimPSU9l08avXoSQZpHjSQpRQKbkRadhxKIQcUOtN5YlaiUfTkiKbZiLRT6J6POAijJ9U/IwKd4I5UCOKRFjShLmFMLKiCfH1BT6xdwSSR2CiQTIC1EgRBHCKjIlLzoNE/8wi04Eoll4mr2JdX2yGk6Mq0KU5wvBqpAckClvPBvxUYIpIvlbSrsFDfKgqDrkaqTcmFMr5pYokCBMLbckDfIgqySoeA75wFh7Y05TPjxgarJEOKlAS6jOpLbFd32GQ9GtFuKh8UONDmFUhKFT9DH1Kp4+nZJnNy4THujQxKOY2hF80oIIZO+7IIBpnggkAonAPAiUR9o8xgvYLBKXLRoffFh5eFWUqQp0hmmqh6kKw/7nXt2vuAMJSwn1KkyS18qTdCbJw3Z4NXTqcVb9ZdnWfob54QyHV4c95+oSEcjed4lgHiBXWUoikAgkAolAIpAIJAIHEYHsfQ/irmZNiUAikAgkAosgkLaJQCJwcBHI3vfg7m1WlggkAolAIpAIJAKJQCLw9whk7/v3ePTNUpYIJAKJQCKQCCQCiUAicDAQyN73YOxjVpEIJAKJwKoQSL+JQCKQCBwkBLL3PUi7mbUkAolAIpAIJAKJQCKQCAwhMGvvO+Qr1xKBRCARSAQSgUQgEUgEEoFNRiB7303encwtEUgENg2BzCcRSAQSgURguxHI3ne79y+zTwQSgUQgEUgEEoFEYF0IHIQ42fsehF3MGhKBRCARSAQSgUQgEUgExiCQve8YlFInEUgE+hBIWSKQCCQCiUAisG0IZO+7bTuW+SYCiUAikAgkAonAJiCQOWwnAtn7bue+ZdaJQCKQCCQCiUAikAgkArMjkL3v7JilRSLQh0DKEoFEIBFIBBKBRGDzEcjed/P3KDNMBBKBRCARSAQ2HYHMLxHYFgSy992Wnco8E4FEIBFIBBKBRCARSAQWRSB730URTPs+BFKWCCQCiUAikAgkAonAJiKQve8m7krmlAgkAolAIrDNCGTuiUAisLkIZO+7uXuTmSUCiUAikAgkAolAIpAILBeB7H2Xi2eft5QlAolAIpAIJAKJQCKQCGwGAtn7bsY+ZBaJQCKQCBxUBLKuRCARSAQ2CYHsfTdpNzKXRCARSAQSgUQgEUgEEoFVIrDu3neVtaTvRCARSAQSgUQgEUgEEoFEYAiB7H2H0Mm1RCARSASWi0B6SwQSgUQgEdhfBLL33V/8M3oikAgkAolAIpAIJAKHBYFNqDN7303YhcwhEUgEEoFEIBFIBBKBRGAdCGTvuw6UM0YikAj0IZCyRCARSAQSgURg3Qhk77tuxDNeIpAIJAKJQCKQCCQCt92WGOwPAtn77g/uGTURSAQSgUkIvH9l99z5C5NWN0e+yXkuK7dl+YldW6638HkYxlXgxudDD5/+3e9/fxgAXEON8Fzup9bSHdYgZO9bo5F8IrB/CGTkQ4CAZ8POvacGyMc9GK5du/bGm29hlkUj484abul5zprAgP6ychvjR/+ki4q9G0jJ0hhv1JIaBFaE29WrP7/xh+tNrK2Yjr/k1lbOmD2aKe0xDrvVjQyRvW8XupQkAolAIrASBP7xn/6Z3yNHjhjRxx9/gjBFgl8F7VfcVdSygT7fffsdXdRPfnp5A3NbT0r6ft+vFo31hf0SXX3hb33DOjOf75JbZ4a9uM+Xdq+rScKRIbL3nQRgyhOBRCARWDICTz3+2N4HV15/7bIR8X777V/HFMl9p04SLp32K+7SC9lMh9//4Q8efOD+5y4+v5nprSGr996/8qtf/2YpgZboain5jIcVOpIAABAASURBVHeyzsznu+TWmWEvbvOl3etqknBkiOx9JwGY8v1EIGMnAolAIrAtCPzL17524fw547YknHluOwIutm285NaQ9sgQ2ftu+y2Q+ScCicBWIvC7Ef/Iho5XyTv3njLiu3USWgoFLzS7Cl0Jk65wWMKkRMF3lQmHFeT20MOnI0/KtYcXX3kVkZAPOKlXeaPfEKEQPIS3ZrWeUqDGYRGSoDLFUGgk9Al7S4glCTAMCkmvciiUkaa061gk585fCNvaJxNTOWBCB48p0zAJCeEA8SMo84jLBF/rh4QOCp16teatsr169ecff/wJBpHUCkt0xW14G6i0VlAmk1mJlaonhaj948O5khU+AEKoxUgZ4ZmzGg4kExT6TAqFrVRDQgHhQ971aVWskRnyExRWfMbUSIIwhbhtJPQJuzkwiaWSNgkKIROVNktWUSj0OrTaUCjXfkLSmGfv2+CW00QgEUgENgIBT5STOye9Sr77rjvfePMtfP2BLkVPC0JLR44cMT7x5NMeHuTD5FxkWKFZFTSiTEpjOE8PnqPHjsvt1q1bkSdvMi9R/vLnP126eKk4IVcLHXHxQfRJyMMDb02lpoRC0OfNc+7Tz27he+nY0a9wVf8jJyZIqqGPoRB8jCW9SSDQv3Hzj6Es88h2knKoGQWiKe2nHn/MFA1XGv/6p/h3bTAp06nhKKMGK7vz4dUP5W8pqOQQU8jQESWmzWj7Ig1yDCLBBy3o6rcffRR+Ypy6CyXcpOsk/EwabYdK40IKD3aHz6IPBBJYNVArWeGhhkEkMe2OlkBaaqHAIbec44MEJSGPKX2J1QrkVsslB6if7e1RYCV6SZ6EJhKUHIMwiAQ/TKu+U0R3NcpZLVJyIwDfzUteqADVYF4UugxvBRkIhP/GPHvfLm6bJsl8EoFE4DAi4IG3u7e798EVLzdv3rh+++1f92AoQPhM9xF/5uwZS6+/dtm4u7frXMejouj0Mh7wvfJJwp/89LLQ/EcaL7/0wrGvHq+Vh/PUYp44cQ9zhUSepjJv0ihOqFEWsRQ7tVKNgsJBwTaSfPSR0yR1kjUf+ZenY8lECxhqcsZ48BuDSnrhv04vFOpxKmKhLK6nMlfSDsnUSkMNMoqFEkPfZEw5MY3cuhsUVjF2saKvulg1Rg72iEP7hTD8iyJhCg0JKg36dDCIJHQWdyV6uIpRni7yCFGyiiVjhAtkGFKg7DKYekewDbLvCmEoRHgwra9VICiTghqNoItryZQJZasYRBI+J42lFspcMeQ8lKMQ3silgTCh0LsFrL78pSPO3XlQModMMOQuRSOSDzmf/GAQCfkwRXWru1NUaoNkpUApIWkrhLwkVoCSMDX5K7OsTmUgwIRhmJcty953KnSpkAgkAonA8hHQtQw79RSvdfRz9MtTwWe6aTkvxFP2FHH8gx8gagOrU5fuO3WyeIg/HzGcJ31P4trt9+47ZarPMKJw4plU3BLWxf7kp5///YSBSp0YebzVCoKS8NNLAll1VBar7779DtwefOD+InG8aokTY6Q3XCO1AeJHxEZBE9M0vhSm7mkkI9u6WLWwLdQbrqxOxeq9969QbrYs/hnfCxd/bGk8LdFVFD68C1PRm5o56JrCm2t1JqgnhYtaBi74OXDr+nTJgUsf6UqblMlUOSdKLvfF0u8UW8Z/jbmI+lQbUXJTBWGZ1p8MRTie4Tm8Ze87HrTUTAQSgURgaQhMfSZ958R36mD1GQxbTzU9UK2A96gmxwwQ20mrlmoKNQ8bPr2ILG13yI3x2nQgTzqFeOYBRWdZ5OEkqivCmGoCWIk+UGkofHdnp9gG4xVnML2jl8IOnGJJOwi37//wB0Xy6We3PJJjNdIbWWOYDCAWCkDoNr5RyEClbCMZ2eILTQ1XNCOE2oskmIIVBSB0c9AuAMQr6dAfMy7RlXBR+MAuCDd8nXAynnizR6i5VsdDPRAraokrvKjFNC74Obag3+fRrxT/czOuFvmE+XLvFCDbMv7D+aRxYNMnmdTySVu2bb1vXVPyiUAikAgcXAQ0HJOKiyXPJC1pTfE20ENlkuGAnJWGrKZ4WeykxItIhpwfPXY8hKaFIpky7TIPPXyaIc88IC+RuzqNpPgMZrmVihXto5KRB7DOQyDtnXaHRLimmbbKaiRNRQwIXIlbgxkhhK43FB/KsmISJNtgYpwaLtTK+I1vfrPwDRM59CroUSRcp9HYNtOprhr9MdPw2asZS2PQ6zUvwuFrdVaoi9tZmYEtGHAVIAwozLG00jtFPr2VkhdasKhJW5a9b0E4mUQgEUgENh6BLxKMFsT5nJfRDjaMQV6kovmeFqy8baypvFi3tPfBFUsiXrp4SX/wRRajBso6ElkxD8JPtYwCqQUjrgKj0hg5QRKjMwdF+3jjD9e9xtXyhh/tnYO38Fb/2DckM40cDiAmIigUBcwokPNgCKPAMvriMbXS4XCcj6TIobzjbqykLVAjnDSd6mqS4XzyCAe9cp1gEOjQyLTHXKtcDezsfMl3rQa2oKu8Usmq75SVJh/Oe7cse98AJ8dEIBFIBLYGAZ/mGhHvoDEONoxBeLS6Ml5/7bL2Qi87MoSOhDKT+bJyJqSuplKuCI2opNHtFT6d/HceWPHA7Y2bf6RWjngdcck2/sVb7Zz+3NQgFr/L1DxxaMn47NlnjChSsqdC45uRwhjiE9qqGFAewEpcsMiha07ou0FXPkmyRFeTQtTyEg4T0GEQHtWaAzzcoDdSfwzUA7F6l+oLvqsw6xZ0PcwhgaFLYnV3SvdqnJ7kvBr1lmXvOy+KB8vOI8rLvqDhymgOK+RqIpAIrAEBjUj3HbRbePPv0OY3lIFVdJzBGx3HGuOnfsOVejbrV3QtdeF4Eh4GiFvHrtQiCs044iL0sDddBcXvMovnBx+43yaWXz5IyVTyRQGzxD0dg9Xdd93ZmwOh7wbymUQUmqUlumo8904XRK+BPUL0Xqux1Dt2QehVIxy44OfGjdup1M1Q4efOX3CZTbIFrJti6XdK79Uoh4FMrC6LsvddFpLb6sd1X/8U74knnzZ1J3TrKZq9q139lCQCq0bgMPt3hqH8kzsndU7uTQ8Mb2zdv9E1WloK8ewDgWcMEssjUK850nl5vDFkjnx6NL/3jaNQD9c6Ch1RmAv09NkfaUYHKqVAjQIQhEB45oR4Yy9FJ8dzRKGDCatyEkw4K4k4HrEL589JQO2sBLKnppIPuJQDE3ta+qTAimYhhnU48A5vUMGqhBBO0OIwUiIUnXPEpxzoDByIOrDkgSZ9hEddV4LO54q3qQQ9OjIXRQ7yD/SG7wgnmpRR7D70wpxEOa5DPoNIaqipUY4LJhR6QYil7mjTpccn4kogruRAcz7cGE6l3gzhI7p9kUmvhxXdKWI1WyYBmMjE3lldnDictGXZ+y4O73Z78EmhgJdfeuHmjetBPuPcCW578kKmoVkkySQCicD+IrC7t+t56SHq3vTA8CR2I3twLjErD2M+eRYCieWoMp5YI6NQ9pHCkDliJW2jnsOI4ihUFDwFRLmOIofnLj4/UCmF8AkE5oi3eGDzOYnilNeZVq3w5S8dMV3kx76RzHjElCZi+eWDabfS8sPrwIp+IeEUW8L56K6hK2qFoQ+rOsSZs2eaXn/vgysUCpjhk7A46TIyZEIT+EjPETqsyIur2FnCWO0dJ7nqVW6ETWlgAc6kO0IrLzcpSTi+XbhWi4Tw089ucShEXKsBHZ+WEMMG6pkylxjP/KCuq7gMxuDGyXiaKcPidkV3SviHcI05eCFja2J1wXFgy7L3XRDb7Tb3dVMBzaXmg8mzyqdY/d3rV7/+jfucJv2kRCARWBwBn8u+bbrduq48rS018tD39CpyEk9rmp4fRjTmmcGKZm/c4rlm+KSPIorcyiqevEyDCf91nmJRK+ZdBYaer3UtPBMWYlKv8iarsoqhQIgiilVkSm61lyxR4LZeFZeQbRGGpEyDCdtSY++Un0iGh7Ay4skxhcIWRCExlRKdsMV0k6ETyjFSoIbCRIiQTxqZ1yFU0W2pi8JIn2IVE5kIQRJU5Iu4UhS34bCMohDKv5aUcJYQcMpqlwllasVJSCJVfBMipvRDQVaNTyZllXKzWk/HX/C9sTgXqKQtE9PaP17thDTxhSJDchRLbIef7NQoMyxOMKwIhcAHhST4MoZtybOZUiPhmStlIkzxOcYhDw1xyEkTkSSc8xn62fsGDod09HVT5eVSwwc9+shpTP1TJx/NLhq3K3nSRiKQSR1eBHzcr6H4BaOMNB9WG14FwlQFOmujRZKZw3ZWk6LvaMN5RxcWCqgrH5BM0idHA4bdpVn1aw+L2PIz1XxYYXiV/5qGla2iWn8V/Hvvf37Sv4ZAA8mLjgYUFlxqnGfvuyCeW2/uNLdbQ3TDjn6bpRt/uN5INmTqFRv6t1/84h+ef/7ZX/5yQ7LKNBKBRGAqAt3fsE41SYVFEPBRWZt7+/fxx580P3uoFbaHz0znQcAL3qtXf+7wdR7jrbXZt95Xg5K0CgTGX4qu+AHl3mOAfT/3je5Wg9vQf79yBcGzruh/+2//rZ4mnwgkAhuIQPeF+wYmeWBS0ume3Dl59NjxnXtPIYy3fz7tyzviA1NpFjISAY/13b3dkcoHRm3fet8Dg+D2FuKKl/wdd9xhPGh0223/fupU847j4NWYFSUCBwCBPPdd5ybqcTU6Z86eiX/kd+LEPS+/9MLeB1fWmUPG2igEPCjRRqW0hmSy910DyBsaIn7AUP+od2qiYTJVbb8UnvvWt5Cu9z+eeeYQ3sz7BXvGTQQWQUA3dvPG9bxhF8Gwx3ayCNQw945by2uMX7hNVs+VJSNw4fy5vOCXjOns7tbd++pLtosKpNuVtmxL5pOYOPf91a9/06vw8cefeBHWLIVJI1zn9F+//W2lBWlwG7KKfLKvM6WMlQgkAolAIpAIJAJbhMC6e199yXZR2cvtSlu2JfNJDB3drR63qxA/Bb77rjubpU0495V2UJNbThOBRCARSAQSgUQgEZiKwLp736kJpcI6EYi/ZbZz76km6BNPPk3i1Yyxpn0/962TST4RSAQSgTEIpE4ikAgkAjUC2fvWaBw6/r5TJ0+cuMfRr/b3d7//PTp3/sLRY8cB8fJLLxgLWXIY/O7b75B8+tktPAk+KRFIBBKBRCARSAQSgS1C4LD1vlu0NWtK9fXXLmtztb8nd06i+Ju+u3u72uI6gw+vfugwOFavXv05/tmzz9QKyScCicB6EPDN86GHT9dfPruSVWciou/Jq46S/kcikNsxEqjlqoG9uROX6z+9rQ6B7H1Xh+3WeNbm3rxxHTkDjqR1uvWTlfCpxx+jUNNe/lkcuCQlAqtHwM3oEetBW0L5/tn8+L4rKcp/z0yZdWP1Gly7di2+CfeuhnCkq1AeM0Ig3lBNVdaX0+ySlKba1gr0G+Tr1c3hx2zHrNluS+2z1rWIfheTZd13i2SVtnMgkL2g22JhAAAQAElEQVTvHKAdWBNnwLrbM2fPXLp4yRmw58eBLTULSwQ2EgHtXfe+e/ftdzxif/LTy2tIuRurN6UxmXRdjbHq1Ymew+smb6h6FRrhr379m9CMv2Jbj41mmfaWucQSSqAFmd48F/TZaz5f7WtLrzfnJQp7C5kPkyVmla6WgcDnPrL3/RyF/P8agXLE2/23brVa8olAIrB0BN57/4q+rXH7/R/+4MEH7o9/mdosLX3ajdWb0pi4XVdjrLo6uhBfxXX/t9/+9e7qJAll76Z8n6/Hf/na1ybp95a5rBImBZ1D3pvnHH6mmsxX+9rSm5r/ggq9hcyHyYKZpPkqEMjedxWops9EIBHYBgS2JEcdmy+i9506uYZ8lxhrWa680Nf6eyUVx7dTQXBI7NB3pPKwt2WVMBxlM1cPc+2TdiQxmYTM1smz9926LcuEE4FEYLsR0JydO39h595TRnwU8+Irr5o63dS3YRBJLNExdfwZ01lHfphzUgxJUJliKISEWvmFKwl5b0pMgujTYWLEhzBGU8KSNm/IUsh7Tax2Sd+PuvJlSWQlz94yI9VJJbBiG2nQxJMgfAjrkdBSVF0cFoVYbS6JshpM+O/NMxSMU/2EwqQ0eCgUmiVV0ZHVkIcHPEmQVQUOpEeZAkNU3IatqSV86OAxpiiWmPBfprEaS4Q1hTAUijyEvfDGEk0m4gpkRL2FhA4T+gMUahFuqjIF4XgLKzzGFMVS+ClCcgQNhCFnEmnjSRoKJxRq/f/Uue02VjxEFMr10gHms/c9wJubpSUCicDGIeDp4g3+G2++dfdddxrxJLL8/7N3NyGTXmXewLOfnaObVmwaWjANYxZReZnFu4i98CFPZzaCbkQhhMyEfNmNs3g33b1N0z1t4qghBBQ3CWRjusPjos1OGNQwRCEKBpqWpDeKu+HdzGJ+9n9yPN531V311PNZ1ddwceY617m+zv9Uef/rVD2dP//pjx98eJdCKL/45a9+/e679AjP23f+EH2346mTn/5L+O/fb4HXrl4jnnmxUDhEN3rqp9Z0Szw9TfWv1U998oQM9OzFUoQxqUxt56c7Oxy4Cbl7965VOovVfZfPPfSQfXmoE33S55WwTf1kdRr5bEE2bQvRPxiRBslZ6DHSB5tKCH9VjM88+zwuQo9wFsI+eElktY361F6mFLX0k2nGVGGflwcUKRTwB20kST9qafnjm24vvUkovxfYoLSrfUsNB1vgRqDE05KGwXvy1Gn9mFoiiaIMpDmwOxpRksjpqwBLEICDpUiStNIK8SRZpZAeZxn0kNWZo+RKcEs5pe1ipmeMgwacLPvCtrXUv5uEqKiujdCbKK0BW/AODYBv33qbZ3PYbbctcN2V4r7rfoLVfyFQCKwTAt//wctnzjzoG3x3mcaXXrye/2SM6auvvHz27JesUvIr1X3ZWPK3B7bHatJ6CkbJPxmBImfaxoUteZre3LmpVZ72onMP2hY+UDx9XWlzuHkvRJQQPgAx7rvoDRXw1Pekjz6gBa2i5jWzDPLZgmzZgv6/+Y2v25RC5y+cN5XHOMBBXSFxcLIchON/6GB6gIAQdp0Y20siq220KnyiT1Vk1gNPeeSEdgvXBijSBh8OnPs2mudMJXuXUJRwQuGpeSNRdF57SustpfnMKy15fCT/h89+VpT2mkUUZORRa3nx2oaYWDlT2hQO7V2QVH1pnoQbAClEYNwWjnqWPD2LUhdKdtHOel6G1oAoe1/Y9uA4RKkleTsOOl6rtGZswelwGAC4creSH4QcZs7ivoeJdtUqBAqBQuBvEHjs3LZH3d+Y9nsiv6e4i6IkfuO11z3XkbZmcfNkSSfGXYnHquQtJH+N54HaLL3ysY9/wtTTtw+RAXccEBFuexG8Qbgte9h76hvxDxb0wrgXGW/hK1/7qoRqPff0U5SIa1dK21ToSO8AAUfg3o7bWBwEh7F9wpLGgNkHDo5jt20MyqVEf3xqeRUtc3wLSyc5THqURA2AhQyfQWPTUyF4Ye/zT4/95b9jmhcJ+8zS7KuJngX2u4CSnuedNecInz5qybb745BncBw++I0BZOEZWbnbhK/1WNx3rY+vmi8ENhKBTd4URoIu+KJ8Hkc8iM37+tUNUDJ7Inr8I23N4mvW/okYt2XGR84+0rsNLpj7JbrvxI3xoUTGl82x72XEG5BdrLclwT/QAtOF1298JiRbkH/gA97e8vDDD5uGXWHAjhuzYenFEbDHsveXRBqbOI5l2kgz88aUGBxfdjovJPZlSic5TBJiTNQAWHb3ncYVRELvOJJPei3DuHRb2q2ihDOdPut5Ofu99z5y6pnMbHviOARqZgxgPpgpEYfVuhW+7lLcd91PsPovBAqBdUIAc8LMdOwa8uSp03tkY/IsI3myetoRT0SPTHQQ3/VMZUGCv7y1tUyegY8kA8vC6QohC3OOHcZVwtLaVfc4ZDXLuNDMPBD2aacXp88T+Mb9eklMNJOl6TZ0slCSZ6Fb75CQ6dK5fPWy7APpn3voIWMv8ewtC/XHn3jSG217axvm5Ic/+nEfkoTj0r3PkvoyOx2nmtPAA8u0nYrjnM0yBrAtRZk+l/hs5FjcdyOPtTZVCBQCxxcBTyy3kr6Ld+ly7eo1D7mD7jWPdjeRb7z2OsqrARXdCf3kzRsUchD3r9IeHwkC+95PyOvCtA7a5S554eqVjD7/9F9YO5EDfUmkT220Bma2sXAjKzi00qmYURu2DwQblzOXr5SBjD+rzPMcBLapNxd6p5a3W4TeVim7TShknrSd2l22mdE2SXY6jp3ZwKG17SWRJjPqHD5kXrfj/tfUUtx3TQ+u2r5vEKiNbi4Cr9774zbP5oPeoicZyutr0w8+vNuueF0GK52/eHP1eNA9HG1+vF8DC6/B+OxKADvtzwHyd+/ehTAxzRhlHLvaSyJ3h+NszaJc2qCkgYyZNreDUJRI6VTMyBhlXkUOiZrn0OxhnG3qRd50S17h6J1azXhwSuuZomIbKWT5usu0vfDEU2784cH/AmRJS0F40Kopic8Gj8V9N/hwa2uFQCFw7BDwYJvu6b33fjvtsNqqW17f9qIC7VehuQp18ewROJ3zgFqaLrqr1e9893sN2IuXLpv24ZZ82c3S9k4fywrblHmcZ2CBvMwDz/zaJJ6DpRgnRtkGqzPvDgc+C9sY+K88Hbe3Wum/Rn3UCqC8hj+aPZDfseRTTYwDhxgHY0+OB0uD6XgjA4fxdNwzn/6sTVeTQdsLTxy1Rfq932HSKtJZ2nSZbr2VRLWQjVGK+27MUdZGCoFC4Lgj4CmyvbXtC00K8VzxKPKIan3nYhJ7s0qafazcvvMHDqQtjS1tieKW14jmeihSCCWl200w41iWb2kcuy8WewQIgZWE16/+Gx109IgpBg/YTF2JmW49eo4P2mHM0uCfQYhzGw9um89f+BbY9aATe9GSFwAunht3FkssFMLHNnMurbdeWbnPeW288drrff496jPbm1c6CKjoyIwDcQXOAhyIQYbQWZrkehKScTByyB81hhDnFQ5PqAonXio9e26pxsrMjYzdWPr33byd7grkvbStnyYNwGw/+PQvrYXdgstbCaqga2k3QynuuxnneL/sovZZCKw1Ap5qN3duehh7nBDPFY/qPKKyr+eefsrDyePZKpn5yPHIx6XEcgh7GFuSrR9zy+umpzfmr+anf+y7TEt9zn3X8RiAkGSGHr3/Mjf3fzCJg4ZfevG6SzsQIUZGdhZ2yjyxuhD5ebHTdof+wtUrkuvEkWnJFlo/VqdfEoPkK/ep0Mw2Ll+6OCixl+nM9uaV5pxa824xIQM3iMGN+PRCEpKRAyUORqh+5d6/OscY8eaSIcjLwJgQhJU+IXoT6JUmiiz5Tpy3092CrG2v5xXaHuzIZu0ieeADvbzl47aw2/bO4pmQjRmL+27MUdZGCoFCYA0Q8BTJ39x4LFHGD0WPPfascrYlI4uHMT2Sv4vqjWNLPNuYJJI3C0V1SVBneiRufS12Udz6lhJoqZdB7GA6M0RpmXn2eQZ6fLj1oqXmFgcIDCz80zOFT1udp8jJMyFpycjS0BhvIQ4C+5xqiTI2Izc+jElOGayykKyq0gLHCkufSmYWIcIpvVhibM1bYuljrfZtcOiFM4cWPrOEcD48+8C+RFui9HZRYltUkvNpligsfZRmBiyZg1Qk0MkZCyUZjH0GheIglSXCIpyRPpA+MA5Gzi2Wv1cdC2lGPn2gpb4ZIQOZ10AyZ198pJWqVWExHaRSiJFns9P7Zlr4PAfhkrRVOotOmmVjlOK+G3OUtZFCoBBYJwQ8libanV6dCDy4pWPY0sLNrtDzCiEL22gO08mnV1uSKLtyTkgb9xLbkkwr80rMs6+WrUUtTLvQoaUaKIcf2DewcvU+Cb3lcZPtRpllIM1hYN/UaXHf9T3Z6rwQKAQKgUKgECgECoHZCAx+qvGd736P3/Tv+zncD1Lc93445dpjIVAIFAKbh0DtqBAoBOYikD9uO3nq9Naj5wjl2tVrLn3Hv3yYm2JzF4r7bu7Z1s4KgUKgECgECoENQmDmvwixQfvbz608dm775s7N8xfOn7j3f2fPfumlF69v5I93V0BtU7jvCluvkEKgECgECoFCoBBYHwTcWd65/f799uPUlc8HUBB79ZWXI9jwyqk2LLC474YdaG2nECgE7ksEatOFQCFQCBQCyyFQ3Hc5nMqrECgECoFCoBAoBAqBQuB4IrCbror77gat8i0ECoFCoBAoBAqBQqAQWGcEivuu8+lV74VAITALgbIVAoVAIVAIFALzECjuOw+ZshcChUAhUAgUAoVAIbB+CFTH0wgU953Gp1YLgUKgECgECoFCoBAoBDYHgeK+m3OWtZNCYBYCZSsECoFCoBAoBAqBvyJQ3PevWJRWCBQChUAhUAgUApuFQO2mEBgiUNx3iEjNC4FCoBAoBAqBQqAQKAQ2FYHivpt6srWvWQiUrRAoBAqBQqAQKATubwSK+97f51+7LwQKgUKgELh/EKidFgKFwAMPFPetV8EQgd/87ndDU82PFIE6kSOFv4oXAoVAIVAIbBQCxX3X4zin2c9gdTCdt8OZ9pOnTv/rhW/PXJowLqy49eg5mScyrN3S4088aUeDjQ+m+7WpN157Xa03b9zcr4SVpxAoBAqBQqAQuG8RKO67Bkf/ne9+b3trG/uZ2SsSZhW5zCo304uXLme6qzFJdt66sduoQUUUkOwqyd6dVSR7zzMzg8xkvPQPn/1sM0JvgENb2qNy+dLFM2cefObZ5/eYp8ILgUKgR6D0QqAQuD8RKO67Tuc+8+bv1q2f9Xt46cXrpl/52leNuxLc7r33fpvwXQV+eWuLf6soDwroqpLx0ORAi85M/qlPnhjsboDDYHWP0xeuXpHBpyBjSSFQCBQChUAhUAisjEBx30C3HuM777wzaHTMhh87t33n9vv9feQgZN70+tV/syTcuCt57umnVqu4yuwdeAAAEABJREFUqyrH3/lAcciB/nRn5/jjUB0WAoVAIVAIFALHGYHivsf5dIa9/fBHP3YH2Vu//4OX+ykdG378iSeb28VLl3NZyO5LeULhNpbB/bFAeZqbhKbGWCimSWWks1hSKxxaq4wkdksRznoglFj6kdGSKDIIlFlLvTMHzkb26aKJWiG5EHWXSa4E53HbMeqTwqeJtNo2Ze9XM+0tfCLf/MbXXczbb6Y1FgL7ikAlKwQKgULgfkGguO/anDTqo9fbv3/fGEGDkKHYYzHevvOHnsX+4pe/clmISz3z7PMnTpzgTwnr4txEKvqZMw8aIx/7+CfkiZ0F/zNt1Smmpz5z2lJf8dfvvsvOSCh3796lNGltsGjDlNLk5KnTjJkK3N7a7vu0C3w6qxn1YDvGDz68q1aMApseS8bVkoud3hGHJj0OMaaoliBva6axG6W1HVyZ3TQCkEzjbxp7RicSpcZCoBAoBAqBQqAQWBmBWdx35WRHEfjvP//53125cnDS9nRwJWRuVSaUhx9+GDftL3rRPv7th7Z0curkp429IIhf/MLn79x+/9VXXjZKgnU1Utt7cmvTR84+Qn/71ttGEkLZqufXF/kivq+YEvwxcrV23roRHxYiPyMfdg4aa22E5t7cuWkpDucvnNen+1GBMyXM2xL/mzt/+TcQ5BSuRF+Uw34ll1n+QXL5Iz0OLIOiYhkbnc3PhaHKLudj57ZBAZBswY7Y8xtfUb3k0HtL6YVAIVAIFAKFQCGwPAJrz32X3+px9sR7lmnvy1tb6FHzxEQR2TaN4vYxSj9evnSxTSVp+oQShvfnP/2Rjy/ijS+9eL1Vd53cSg8qTuylbyOUPUxOCJqL9qWoWuS5p58yuu41zpTEzlzqjQeavC/U4zCzKDbfAExgKHv07B0OmRpjoZQcNgJVrxAoBAqBQmBzESjuu05nGzoYJopdIVLjq8HB7eN4e7nQHdvHFuwWx2XH6ujuJumprrRLXFOysCKfsYTY5f44qy62o7RRUYXadKC0e9+Bfeb0QJPPrBgjuJrE4uCiGAMCJRIqfPLUadfDvVtWaywECoFCoBAoBA4DgU2vsfbc9//+/d//x7lz6y4DDjTxqnM56rqXw/V7/yzDOBBPtTohuS7NOHAL021GN8Shni5f/+Wfn2RXHVsNLcvFLePCinzGkiSxz2zG0okTw39HjLHJvKjmEGWe2x6Tf/Dh3/yUObXamKIucZ959vkm165ew+bjMzPcad65/X6uhwc/d06UcVeMn39JIVAIFAKFQCFQCPQIrD33RRc2QPojmdYxTnwUcbx162eY6Nh54S3sTPIEQ7RM5j5hbohdW7Ln0ld1fC4/AhYS54UV4zYxpiWseuBz92//VG6wGs6dcbDUT/eSvM8z0POD3d7Y45CiL714HZftZeejH0CPw1sqt/tCHC6oHXSz5/cnDfZmP2il8hcChUAhUAgUApuEwNpz3006jGX2EuqT/+wwJjoOWcgFcyU5Dhzfg6ZWrpl7//7+kn1QMVHsy0tCUL0+BO3DuVHAGNtPLDI1uo02hnEmg+lYsrRa8mRLhugTY49DQtz4zvOfee/bO+dw+8OyBZ9Pep/SC4FCoBAoBA4agcq/eQgU912/M0UHkUI0KARrtxvIlWRP1JLh+QvfouRfJ6BEVFFLxUxVZKGPmShjEz6IGvJKmnFayU9dtx49FzeXzb70p7c/jwsX5CAnefyJv/wGg0OTiaIrJLdrmRtK85LrhNtMOX/hPHtr2I7yQ15GMr73lYpD+3ct8vEm1+38rRrzyxNKSSFwrBDw8h78T8exau/YNlO4HdujOarGjuolcVR1jwrn4r5HhfzqdcMCV6ZBuUrMdWnfBF579uyXcNbe+OW//e8VWxpbGAeS3pBX4h01WJ05Vf2le/+OBP5H3Jhqxlf/zZkDCo6SyknYB3/nN1FU7G6Thy43lD5Kvq106GlOwVS3mhnLc08/laJ8SHa089aNeI7vfdOkO3UJiZ2mh/jLQGlUmF6ypgh4R/hE1MSnOKwxn212tSMhYmXbVdQBOb/zzjuD/+k4oEKHnNbReDMS5wXwfa++qbjtO1CbkdBLaOF79qheEkdV96hOtrjvUSG/i7pYFBbYeA+SNJ42UhVnPinAzjl6RnlYjJn246uv/OW/Eud/5ZtxkI19GYvkSqBuRrqocRs6tNqudfnwZCEJTDPsTTj3q8kgKg6UtkqPsY0sVsnek0NA2lRPNlPCLj87PTJR1O44x62N8U9Oqy2VBzAfFmPJuiPgixcfbEg2cuvWz7BGn236912Wpsc3Xntd7PgnSdNRuHJeTtNuE6t7z3BUySfqzlwClKPxkdtb0jdd7f0403mh8UBxW1h9/xwq0+oIrPaeXb1eRc5HoLjvfGzuyxUEa3CfujIMKz8qpgP3smovewkfx44tSoxlSbcEjp3dMTuXrNa4GQj4WsMHQuJkiSk2nK8UltygVwVattt360/evDH451yWLNfc9p6hpRorB5p8XG7aAqgzZx70kdtb0jjtvHD1WG1tYbflcBAIrPaePYhOKmdx33oNDBHwP/RD08x5GQ8LgTqRw0L6yOr4HkDt/PkmZRnxqkDIjMs4l88KCPg0Mv4L4BXyVEghEAS8W+s9GyiOfCzue+RHUA0UAoVAIfBArn57IH7zu9/52v3xJ54k4yvhrPomPSEcCD32rUfPiaWzRKyy3Lr1M5SOQliyZOTJMo6y1IQ/n3kZ4rYwj4YlGRdaJnlKZJyXx2qWKGlGOYopoZimOjeWmWIJ5pbu3r3Ln2jPlJ1O+V+59/9ilPne7IFM6Syc5TGSPeKWbDM7H1RUi7MGZkqck6d3s8FBIAvpk3DoLfNSsdt1n1ySGI30eWJViXFv/LNEkZYPoZgSimmiuLFMS/yFaHLsn1VLpN9scrIQetxSlM7SC4v849XYB0VN1eKfzH2e6IlKNs4xZjQVSI8PnWJKKKYzo6wSsdN1+WywFPfd4MOtrRUChcDaIIBm9b16bm1vbf/wRz+OMX8E6XGVaUar7Z8i+fW777o25iDKl/UuLK3SWeL85z/9kT06hQjJlA9P/l/8wueNdJYs9WOf4YMP7/YZ4ubhLZZ9Zh4P45OnTj/z7PMc+KeQbdJJn5wDae1Z7WU6D8/81Y4taEYVqRiJWrEEHJ1gBuxjkSHH4XOCcJJm2CUc+/fG+LTq8ggniVoBN4HTnQ8qtloCe5nG7dTJT9tF/hI6UV5yRFSmFA6OyZQ+cZSnPnMa0X/jtdd5NvnJmzcYLTVLr0wn5Dlvj9PICBwItpfXAJQcTV4DqsetZcvU9m3TUWZq9DKYfpfx4Z8SM98FMLQXbhH96EEnpsp5QXqF0Ju0lma+aKWSsFW0qQROR/FZWJfPZktx3/0538pSCBQChcDKCHj6ollnz34pGTzMPNJM79x+/9VXXiaUM2ce9JjkGZ/B+KlPnpCBw82dmztv3UgIn/bHcL5sZZdTHgrhw4GIYlSCj/GlF6/P5ChWRSWDWLpReBMP75v3qvOUR06Z2ypeJZZdIKGY2mZ2JISRRRSFDJIvmae5KX3+wnlVpPJdcyCNRWZ2rUIMX28hTdFMfkitH+FESFtdRumrCydS2Zo8dGOfZBq3JTvvK9pvnz/6NP458fZRKociMP8lI4pw48MPP2yk2w4M7YVQTNtRqp4pz4hsiK/tW4plME4nbM6DPS6JTAt31trQm4a1TfIaUJ1PsmXVARFuelZU/xzIwncZH+84UWK9iozjd9PHPv4JbgRD1Y/XpE7i/C///CSLpUha4iBP+knDNhKHjDqMjzwQXhi1sG7SbvZY3Hezz7d2VwgUAscdAU9WF0W6/KfH/vfft3ZJZuppZ2wSNnb93n/MvBmbkgeqB62HXzN6IqJ38jfLTMWjurc/dm67T9IvzdM/9vFPWFKuD/QgZ/QkNhJpBzvKfsM8OCwpS+ZBYp57+qmWEyOh9xat8nGNx77vInNfa17+nNo0bkt2vrDiNG7Q8DJwr5lW3dpK+M1vfL1ZXDFakiTj9FHmZNvRCyF5PVDGIu10woRoqUd1SWQSa3TW9tgXsmu0UnWry7zpcl67epdJror8Y3FNq59+R5xZmueSG9wtLAvrtgY2WCnuu8GHW1srBAqBY4qA2x1fp0ZCfBEgTz7toqpWPc/ovXiCei7m69HeHj1fRuf2LhajL7KNCwUpQZF93zogKwsDm0OqP3L2kWahpJl2lcgSsUGFSOhUjCuM03lCv5KWpw2OIeXDHp/9HWVeJuFC3JbvfMmKupIT+GSAv2/VvfA4EPRIwq987avN4rt4Lz9LvcxLlaMPm+SPSRvz8qZMyLyECdFSFCNPZ7f8mcbfHsWOxaqdjrMN3nQ5r+yuJRm8y5Z8N6mo//x7+S0V5Ytf+LyRxGHcEhAEcmjC0vSFUXGYqNtSbbZyENx3sxGr3RUChUAhsFcE0AiXagTl9T2my6d2/eNxK/vnHnrIOBBP7sFjb+CQ2IFx4RQp0QM3X56i44NvVNmXlIXVH3/iSflxfYWIb8mXzDxwm86Ty7meoKQx5Aa/70UPMmMDxoEkZGBcftpXXxg1UStL052P9zuv4jRuoVDQIF5mtqC6FyqWzKKHnjBNpxLotS0knWDSYw6XpTZOJxzvUQmxSvQHSp84U/4z31bskZmr4zddSidkPO7vu2l6g/sFy3gXG28p7rvxR1wbLAQKgUNGYHE5D9TLly4SlHfwKMUzxLfvmum94CL9dL90Pey8dQMFx1GuXb2GiOxX5pZHTg9y3xerEqG31eWVhXlyOdcnDKS25k7uhatXmmD8xN575+gJiX6EY9rQeXpu/YOOpPPxfmc2vBA3ZFfg7d+/75rWyyzJvVDb9W274FyYSh53xsbwZkw6xJplpixMON5jQ6ZhEsWBNmRm1pow7tebDnR7fze1De7q6FtU0BAbZS+wTCC2vkvFfdf37KrzQqAQ2EAEPDgxj5m/bWDERQ50z6++8jKmhaTubxWPZDlldiu2x8wr5GmQqk4fyMx++IztuWazl35p8MuB+PQOe9G1kRcDhbT+KSSZl6y4EDf51bp95w8ffHi3XfHirALzF2+paPssC48y2fBmTFqfiaXMlGUSDgKT3ztCZjrplYFzm85jt8LtXbbm2RTGld90E+8mFZUY9wN8dsIhLVFIvzs6h5nCM1F86KRXWshE3eazN+W4Rxf3Pe4nVP0VAoXA/YbAF7/weVdlSEa/cVdojLhIb1xBl2QQNSg0WB1PxxnGPstYBqwxIdPJZ7Y6M0+ytRF9kXkQDtKBpfnPtOfi081o7zb45cb4hrI5a6DpyysLO5+o2KrM3M4YN7Xc+mOi7afbuQxmxKhatrEyTsXHjaNU8EGUTefJkr2Nw3UL0kH4vDPFArWhn7F/Mh/omy4lBuO4H73psLntaoNLRs3EYVC3pdpgpbjvBh9uba0QOAYIVAu7R+DypYuoxvbWdh7knkzf+fideUAAAA9TSURBVO73nnn2eUa3OLvP99eI/KLx4qXLchILRoV86UwhCnn6eipbminjDDPdBsb2xJVfFaIHrGjgtjD5knkGaU3dwBntNA0A1pZBmltJSwNRaGAxDREUJdwWjBJ+8xtft9QI8bxb2IVbk2SmPH/hW+wKDTrPXayleRUtNbEdZ+pkk0TzM/HPJysvM/6JpQikt5vgWBamEhK4KElLmSnLJxyE7/ZMB0gCIa8B5yjzvrzp5Dx56rS0FAJtQAVAJQbS+tcAZ+KU40zn3BzkYeEms5ff9NHPi2ov9eYgobRkUFfpjZfivht/xLXBQqAQWD8Edt664SnoOeexRFy84ViMe9zJc08/JS3SKSfx2MM8bu7c9IQ2JSmUp+PMWuMMM93GRjmVll8VwkFdoy/ZjZFlksuDnE3nSbbBqFxrALC2/NKL1zGegVumkInSj8GKRbgtGGXID1sZI/NuYZfZWjIMxhQddy5hPOdVzGobl8EtbNV1Y4uifOqTJ4y586YQqVo/cGCBrbE/SlOdc3NYCz+wScjtoM9UP/rUUiuU10Br74WrV6w6Vpsi3Hb7plPCS0Ja4SQZXn3lZWjMFP2wt4piB58TOGhJHtm4ycxn4dHPjOpf6hym61rdbCnuu9nnW7srBAqB44WAp+Ode//FioVtIQQ8PaUIpX90iU2e9hS0yoe9Fw91Rp69saVtSxzoZGahPjb6OMPM6knbOhTbBwoZOwx8OLCMxWeAvltupq2QzKaMg0CWvgE+8Bn4tClnDvybJUrsloKVDLFQ4jCvulXZWqAoljhTerHErW3HEksfa7WVs5okfOjTMo2bWEkkV4veJPn7ipb48AwIHBLY98zH5wdcrV0Ys0zIdG9KKKfKIANL3wmfQZ+78u+zta31GdJGb6GrqK5YOsmUZZyBD3uPUiyMEbGEzi4VoUxsMP3w4dkLy0QUTw6qkDSpKDFlt3o/SHHf++GUa4/HBYHqoxDYLQKeRmS3UQv9Z+acaZyXalfOfZJlAvfLp6/b9GWSN+d5yspJVg7UyV5ihUf2JckyqfLfYWk/HU7I9Lhyb7sNnPa3SqZbXbi69wx9idWyLYxa6ND3sEl6cd9NOs3aSyFQCBQChUAhcMQIuPG9eOmyS9/zF84P2NURd1blC4F7CBT3vQdDDYVAIVAIFAKFQCGwZwROnjq9vbX9wx/9GPHtv9/fc+JKUAjsGwLFffcNykq0SwTKvRAoBAqBQmDTELhz+/38irSI76Yd7Qbtp7jvBh1mbaUQKAQKgUJgbRDY2Ebrdw4be7SbsrHivptykrWPQqAQKAQKgUKgECgECoFFCBT3XYTQ4axXlUKgECgECoFCoBAoBAqBg0eguO/BY1wVCoFCoBAoBKYRqNVCoBAoBA4LgeK+h4V01SkECoFCoBAoBAqBQqAQOGoEjiP3PWpMqn4hUAgUAoXAcUHgzRs3H3/iSePRNvSb3/3u5KnTW4+eO5w27NeuFT2ccgopd2i7O5xNVZVCYB4CxX3nIVP2QqAQKASOBoGq2iNw+84fbt36WW85En17a1vdnbduGA9H7Pr2799vtUJPceJm2UflHz772ecvfOu9936LAe9j2kpVCBxPBIr7Hs9zqa4KgUKgEJiNAPZzHxIUDHg2HIdivXjpsjo3d24a910caPJPZ37jtdex4e//4OVpt5VX0d+XXryuhH5WTlKBhcC+IHDQSYr7HjTClb8QKAQKgf1EAPtBUPYz4zrkOnXy00fVpgvXH/7ox2fOPIgdHkQPP3nzxi9++auFmb/yta9+8xtf/5d/fnKh58oOj53btk0vsJUzVGAhsBYIFPddi2OqJguB+xaB2nghcMQIvH3rbR0cKOmUf6Fg3pcvXURPF3ruxeHLW1vvvfdbdH8vSSq2EDjmCBT3PeYHVO0VAoXABiKAWzz+xJNbj54z9l8xx/6d736v37MvxLmxREFN6CyEhU6EmFKSgU4xJRRTtUhfy5KoZIgPt0wtsdBZCJ1lIIyW5CSDtL1nkvSW6GItRTfKIM/JU6fZZWaZEG1zGzjIwDiINWWUmXAYhGR1YdGf7uwInEk6ZbALJYiuuPWiotXeQo9RIF0IB7f4zpRCWNhnihAOwvvVGO1uvMSTkXN86JQ2TUgsjE0eOfsIPXSfUnIMEKgW9h+B4r77j2llLAQKgUJgAgEsZHtrO4zH+MyzzyMi8Xe3d/fu3WtXrzVSggz5wv1TnzzB4YMPLd6lEIGkfVf+5z/90RTdSWZ+fEhfC8Hqa1nF6iRXIlEymOKCqrPQWQidD/8m02mbG8U39TLwpzeRnzFTuooa0x4Lu3IDf/b+977ZLGMvHMT2FkmkYpSZKNFw5mZHWT179kt86CzsYxE7NrLwFwUlOnFqNuII6JF33nmnrcaSsRltxJnG6Cjpv3733UxnjgJtsy21Bk6cOGHJBlHwtprq+kmT8ltq0y9+4fNCLLGwD2S6jYFzTQuBtUOguO/aHVk1fB8jUFtffwTwFZzjm9/4+p3b70deevE6doWoZXMvXL1C+dcL3zYSjMroy27jq6+8vPPWjTNnHqQn1pRO0CYj9pPM7Gj0wloIkCglbu7cTELhLCgRJRYjCx9jZGHauGXUBsWWjU2uX/03ejblitGOVGliiT9OTGnS/943m21LM5WFTWZHikLVeP7C+Vx5DrIN2mirKKMMZ89+SawMhGIjjmBeSIttCgQESiLQkdFJW51W0oC21RVldIhIvI33gfqJj/zOwlQtzkobvfZOfeZ07x+9fXbKtMZCYMMQKO67YQda2ykECoFjjQDCpD/MwxjxZTo6gu1liqAgK9gwchNCjNNkaWLMxbA8feaFtZIQAVI0egtvCjsebGyUbsm0QiKDcEYUTasU8tzTT6FllCb6off/vJdpL9lsbxnru21SGw2EcbbWbVv6yZt/+cfOkM5moeRzS5i96YFK/iJN262K/tFod/nNQmHpfQYb8doTxa2J6cCnLR0LpZooBPYDgeK++4Fi5SgECoFCYAkEQh/H3OLLW1t9NLLCxxUdQow4oiP96kw9V6H932MtUytRCFDLOTPqYx//BIeQ0ZkOVgdbYGnyla99lf7Ga68bCU5v7Fs1JTJbIqGVLCuLVGJhaOylb9IHDEuDXymwLCPyo+9o5cDZSSl6CJemGvDpaNzAPz12jr3viqWfgp3D1qPn4NzbSy8E7isEivveV8e9UZutzRQCa4cAbqRn5APl6iWXlAiN1UhuEOn9/avpPMlVaP/99TK1EjUv58CeX5ouk3YQKAQjxONjz4VlT7hRMWhsb22j+wStjOfKo4pip3H2ASMXzCqqnit2UQNpqXp7jJ976KHeGP3EiRPqRj+4MQ0ACnS92IuieSHlE0v/krAE9nyNwNOuBz+Q4CD2EPpXqKQQOEIEivseIfhVuhAoBO4vBBALG0YEsa6xhNBwIO178yXv53KDK7DJ8rVayLSSX9yuljYXrmIJauUyu9VC3VigceejH0DnRrY5rKCoImohzohginJGzXVCWUaSf94fhKm7TJK9+KQB977ucYlPShnxWkjmhfTnP/1xZgmrO2/dsHHhPnT1fx7X/DH4ppdSCGweAsV9N+9Ma0eFQCFwTBFAO3SG6mFdY7EUwWxc6SExOKL7uRinx/EN7pK1ptOOV1dLmz8je+O119++92/l5lcQktspNJBFaJjuSsT2/j3V222TiKAedNInbLpToPfl5Oc/87cNjAPi2AfK88477xj3KK0BuBHTjFGWTP7qKy+jv15pvX9+2TL4pUTvUHohsAEIFPfdgEN84IEHahcHjsC///zng2fYgZesApuIAM5kW4PXksvd3uLbfz7YTDji8veRonpZWGt8W9yHz9MXph0H4mRolrvV/CWW6dinWXoW24y9km/zw9Jih57k0TOu0GQCx2NOAXHvl774hc/jyur2RufI2Ijjww8/bHW6Tw5ElHFXgmGLGjcwsOwqJ+f82Nprjx75zne/t8ecyVNjIXB8ECjue3zOojo51gj893+++39u3Pi7K1fqMXCsz+nYN+frZj1itxcvXfZawpZQW5e7jVqxc/DltRFHPH/hPIrDzTSCdVFECSf0ebKw1vi2eF4q9vzel7IwLZ+xPH/hW4z24j6bErFBJJXRru2F+Ap+wGLj6brUKjF97umnjEADCwtytr21jVszNqI53aSok6dONwxV14NOZBiLJhkHXV2+dJG/c0wPEmpDS4yNOOa3tozxMfLPLXLrU+b8blgPkhCWJjBnIc3SFHiqJaG6HCQHnVq5WeeWTwiUJtzsmhuFCHTpG9ziwziw6Ora1WuqWIpPjYXABiBQ3HcDDrG2cKgIFAM+VLg3sRhei7XgUigFsoJ1oYO4lL2iI+zoUfgWC57HmVsjHzxZRAknsc+7wZ2oJfmuJL/3TcgKaduOGjVMqpBUu7YXwii5Edk1EggY49A+IcQHLEKQMwDigtx64QOoBPKEGDfo8dEMnUU44YMCphOrY/EJhBERNDZ54eoVUTLLQLTh4PokquiBf3yMiuYWmbGJDcqjB0lIDhRKjHKyNDrbQiiSp4H4SI62yi+bVTK+PheiH25yEoEafvWVlzlHAm+PZK6uwSg2PjUWAhuAwAzu62ZrveXKleq/ENh3BP7f//+v/g1fDLhHo/RdIYBGYEh3br+PiBAKopMMiItp+FksxjiLokdiSWzsGIzA6PHJyNKc499qcVBIFKUJfxYhzUJJV30gNz485SSUflXITOFGxkuMJHlsRHJTvTVP00gzxocxUarHQmlRLBNN8hROkkHdFjhWIIAmoqchpnGQX1QyJElrLw5GPhyaKBoLxWqTlocnh9hjZFGdhb3ppoQlPqlutU+rGRY+PJuYMpKE8GlLbo5tEHvm04wScgZjs5RSCGwAAjO47wbsqrZQCBwOAmHAh1OrqmweAkgGWXlfc2NnZeRMZq3sySYn2VOKj4JXy7NMFB/yUZ3h/59Y6l3RRHyxtzRdBtKmKysrJ1khcBxy6jOnbRDZXbn/CiwE1gWB4r7rclLV5zFF4D/OnTumnVVbhUAhsK8I4ItkX1Meo2S2Ro5RQ9VKIbAyAosC/8p9/+vb3/YULykECoGZCIzfSty8a+ppMUamLIVAIVAIFAKFwLFF4K/cV4ue4iWFQCEwE4EX/vEfvUcixXqDw1qM1WQhUAgUAoVAIdAj8Dfct18ovRAoBHoE/vs/3zUt1guEkkKgECgECoF1QaD6HCPwPwAAAP//N0B5bwAAAAZJREFUAwDf2BKtm1wJrwAAAABJRU5ErkJggg==)"
      ],
      "metadata": {
        "id": "HxC4rM_TBLnQ"
      }
    },
    {
      "cell_type": "code",
      "source": [
        "# Create groups of classification, where in each quantile an specific strategy of maintenance is suggested\n",
        "# Classify the net flow of each alternatives according to this group limits\n",
        "problem_quantiles = np.quantile(pref, [0, 0.25, 0.5, 0.75, 1])\n",
        "print(f'Quantiles of PROMETHEE II net flow (phi): \\n{problem_quantiles}')\n",
        "print(f'-'*50)\n",
        "\n",
        "# Categorize pref values based on quantiles\n",
        "categories = []\n",
        "for value in pref:\n",
        "  if value <= problem_quantiles[1]:\n",
        "    categories.append('1. Preventive Maintenance (PvM)')\n",
        "  elif value <= problem_quantiles[2]:\n",
        "    categories.append('2. Condition-Based Maintenance (CBM)')\n",
        "  elif value <= problem_quantiles[3]:\n",
        "    categories.append('3. Predictive Maintenance (PdM)')\n",
        "  else:\n",
        "    categories.append('4. Prescriptive Maintenance (RxM)')\n",
        "\n",
        "# Display the values and their categories\n",
        "for i in range(len(pref)):\n",
        "  print(f'Product{i+1}: {pref[i]:.4f}\\t Category: {categories[i]}')"
      ],
      "metadata": {
        "id": "vSZZsZKN-W9h"
      },
      "execution_count": null,
      "outputs": []
    },
    {
      "cell_type": "code",
      "source": [
        "# Group the values by maintenance strategy\n",
        "maintenance_strategy = zip(FilterByProduct, categories)\n",
        "maintenance_strategy_dict = {}\n",
        "for product, category in maintenance_strategy:\n",
        "  if category not in maintenance_strategy_dict:\n",
        "    maintenance_strategy_dict[category] = []\n",
        "  maintenance_strategy_dict[category].append(product)\n",
        "\n",
        "pprint(maintenance_strategy_dict)"
      ],
      "metadata": {
        "id": "SiJUGme7jIlL"
      },
      "execution_count": null,
      "outputs": []
    },
    {
      "cell_type": "code",
      "source": [
        "# It presents how long it took to run this module\n",
        "print(f'MCDM Module (by PROMETHEE II Method) - Time of Execution:')\n",
        "calc_time_elapsed(start_time_of_execution_PROMETHEE)"
      ],
      "metadata": {
        "id": "VgSnB_LohuGv"
      },
      "execution_count": null,
      "outputs": []
    },
    {
      "cell_type": "markdown",
      "source": [
        "# Sensitivity Analysis"
      ],
      "metadata": {
        "id": "M7QJJVoiIRpB"
      }
    },
    {
      "cell_type": "code",
      "source": [
        "def plot_promethee_ranking(matrix_func, weights_AHP, MinMax_func, w1, w2, w3, w4, w5,qtde_criteria_func):\n",
        "  methods = [PROMETHEE_II('usual'), PROMETHEE_II('usual')]\n",
        "  method_names = ['PROMETHEE II', 'PROMETHEE II \\n(after sensitivity analysis)']\n",
        "\n",
        "  prefs = []\n",
        "  ranks = []\n",
        "\n",
        "  weights_func = [None] * 2\n",
        "  weights_func[0] = weights_AHP.copy()\n",
        "  print(f'Weights (from AHP method):\\t{weights_AHP}')\n",
        "\n",
        "  weights_func[1] = np.array([w1, w2, w3, w4, w5])\n",
        "\n",
        "  if np.sum(weights_func[1]) == 0:\n",
        "    print(f'Unable to proceed. All the weights are set to 0 (zero), which is not possible!')\n",
        "  else:\n",
        "    weights_func[1] = weights_func[1] / np.sum(weights_func[1]) # Normalize weights\n",
        "\n",
        "    i=0 # index '0' will be weights from AHP and '1' will be weights of 'sensitivity analysis'\n",
        "    for method in methods:\n",
        "      pref = method(matrix_func, weights_func[i], MinMax_func)\n",
        "      rank = method.rank(pref)\n",
        "\n",
        "      prefs.append(pref)\n",
        "      ranks.append(rank)\n",
        "      i+=1\n",
        "\n",
        "    weights_func[1] = weights_func[1].round(3)\n",
        "    print(f'Weights (from user entries):\\t{weights_func[1]}')\n",
        "\n",
        "    fig, ax = plt.subplots(figsize=(7, 4), dpi=150, tight_layout=True)\n",
        "    visuals.ranking_flows(ranks, labels=method_names, ax=ax)\n",
        "    ax.set_title(f'PROMETHEE II Ranking - Sensitivity Analysis:\\n'\n",
        "                f'Weights (from AHP): {weights_func[0].round(3)}\\n'\n",
        "                f'Weights (user entries): {weights_func[1]}')\n",
        "    plt.savefig('images/Sensitivity Analysis from PROMETHEE II.png', bbox_inches='tight')\n",
        "    plt.show()"
      ],
      "metadata": {
        "id": "utVR-L4xIVDv"
      },
      "execution_count": null,
      "outputs": []
    },
    {
      "cell_type": "code",
      "source": [
        "aux = str(input(f'Do you want to configure manually the step of the slider (standard step: 5%)? (y / n) '))\n",
        "if aux.lower() == 'y': # edit considering the qtty of criterion the problem will have\n",
        "  while True:\n",
        "    try:\n",
        "      step_of_slider = int(input(f'Insert the step of slider (0 < step < 100): '))\n",
        "      if 0 < step_of_slider < 100:\n",
        "        break\n",
        "      else:\n",
        "        print(f'Value must be between 1 and 99.')\n",
        "    except ValueError:\n",
        "      print(f'Invalid input. Please enter a number.')\n",
        "else: # edit considering the qtty of criterion the problem will have\n",
        "  step_of_slider = 5\n",
        "\n",
        "step_of_slider = step_of_slider / 100"
      ],
      "metadata": {
        "id": "Hmc3tU2aEoVL"
      },
      "execution_count": null,
      "outputs": []
    },
    {
      "cell_type": "code",
      "source": [
        "w1_slider = widgets.FloatSlider(description=f'{list_criteria[0]}:', min=0.0, max=1.0, value=weights[0], step=step_of_slider)\n",
        "w2_slider = widgets.FloatSlider(description=f'{list_criteria[1]}:', min=0.0, max=1.0, value=weights[1], step=step_of_slider)\n",
        "w3_slider = widgets.FloatSlider(description=f'{list_criteria[2]}:', min=0.0, max=1.0, value=weights[2], step=step_of_slider)\n",
        "w4_slider = widgets.FloatSlider(description=f'{list_criteria[3]}:', min=0.0, max=1.0, value=weights[3], step=step_of_slider)\n",
        "w5_slider = widgets.FloatSlider(description=f'{list_criteria[4]}:', min=0.0, max=1.0, value=weights[4], step=step_of_slider)"
      ],
      "metadata": {
        "id": "gYB2IuuvEq2X"
      },
      "execution_count": null,
      "outputs": []
    },
    {
      "cell_type": "code",
      "source": [
        "interact(plot_promethee_ranking, # call the function\n",
        "         matrix_func=widgets.fixed(matrix),\n",
        "         weights_AHP=widgets.fixed(weights),\n",
        "         MinMax_func=widgets.fixed(MinMax_array),\n",
        "         w1=w1_slider, w2=w2_slider, w3=w3_slider, w4=w4_slider, w5=w5_slider,\n",
        "         qtde_criteria_func=widgets.fixed(qtde_criteria))"
      ],
      "metadata": {
        "id": "PZeSbnenQ3iB"
      },
      "execution_count": null,
      "outputs": []
    },
    {
      "cell_type": "markdown",
      "source": [
        "# Test (3)"
      ],
      "metadata": {
        "id": "_gR4AgUrIbMd"
      }
    },
    {
      "cell_type": "code",
      "source": [
        "# Choose a product to modify\n",
        "chosen_product = 'Produto1' # You can change this to any product in FilterByProduct\n",
        "\n",
        "# Filter the log for the chosen product\n",
        "product_log = log_csv[log_csv['Produto'] == chosen_product].copy()\n",
        "\n",
        "# Get the unique case IDs for the chosen product\n",
        "case_ids = product_log['caseID'].unique()\n",
        "\n",
        "# Determine the number of cases to modify (at least 50%)\n",
        "num_cases_to_modify = max(1, int(len(case_ids) * 0.5))\n",
        "\n",
        "# Randomly select case IDs to modify\n",
        "cases_to_modify = np.random.choice(case_ids, size=num_cases_to_modify, replace=False)\n",
        "\n",
        "# Define the time delta to add (e.g., 30 minutes)\n",
        "time_delta = pd.Timedelta(minutes=30)\n",
        "\n",
        "# Iterate through the selected cases and modify the timestamps\n",
        "for case_id in cases_to_modify:\n",
        "    # Select events for the current case\n",
        "    case_events_indices = product_log[product_log['caseID'] == case_id].index\n",
        "\n",
        "    # Add the time delta to all timestamps within the case\n",
        "    log_csv.loc[case_events_indices, 'timestamp'] = log_csv.loc[case_events_indices, 'timestamp'] + time_delta\n",
        "\n",
        "print(f\"Modified timestamps for {num_cases_to_modify} cases of {chosen_product}.\")"
      ],
      "metadata": {
        "id": "nchlNXbOIenL"
      },
      "execution_count": null,
      "outputs": []
    },
    {
      "cell_type": "code",
      "source": [
        "# Re-run Process Mining Module\n",
        "start_time_of_execution_PM = time.perf_counter()\n",
        "\n",
        "log_csv['timestamp'] = pd.to_datetime(log_csv['timestamp'])\n",
        "\n",
        "FilterByProduct = log_csv['Produto'].unique()\n",
        "\n",
        "dataframe_array = [None] * len(FilterByProduct)\n",
        "\n",
        "for i in range(len(FilterByProduct)):\n",
        "  dataframe_array[i] = pm4py.format_dataframe(log_csv[log_csv['Produto'] == FilterByProduct[i]], case_id='caseID',\n",
        "                                              activity_key='taskID',\n",
        "                                              timestamp_key= 'timestamp',\n",
        "                                              timest_format='%d-%m-%Y %H:%M:%S')\n",
        "\n",
        "start_act = [None] * len(FilterByProduct)\n",
        "end_act = [None] * len(FilterByProduct)\n",
        "dfg = [None] * len(FilterByProduct)\n",
        "start_activities = [None] * len(FilterByProduct)\n",
        "end_activities = [None] * len(FilterByProduct)\n",
        "dfg_image = [None] * len(FilterByProduct)\n",
        "\n",
        "for i in range(len(FilterByProduct)):\n",
        "  start_act[i] = pm4py.get_start_activities(dataframe_array[i])\n",
        "  end_act[i] = pm4py.get_end_activities(dataframe_array[i])\n",
        "  print(f'{FilterByProduct[i]} \\nFirst Activity: {start_act[i]} \\nFinal Activity: {end_act[i]}')\n",
        "\n",
        "  dfg[i], start_activities[i], end_activities[i] = pm4py.discover_dfg(dataframe_array[i])\n",
        "  dfg_view = pm4py.view_dfg(dfg[i], start_activities[i], end_activities[i])\n",
        "\n",
        "  dfg_image[i] = dfg_visualization.apply(dfg[i], log=dataframe_array[i], variant=dfg_visualization.Variants.FREQUENCY)\n",
        "  dfg_visualization.save(dfg_image[i], f'images/Output_DFG_{FilterByProduct[i]}.png')\n",
        "  print()\n",
        "\n",
        "log_EL_array = [None] * len(FilterByProduct)\n",
        "\n",
        "for i in range(len(FilterByProduct)):\n",
        "  log_EL_array[i] = pm4py.convert_to_event_log(dataframe_array[i])\n",
        "\n",
        "# for i in range(len(FilterByProduct)):\n",
        "#   print(f'{FilterByProduct[i]} \\tNumber of traces: {len(log_EL_array[i])}')\n",
        "\n",
        "# event_stream_EL = [None] * len(FilterByProduct)\n",
        "\n",
        "# for i in range(len(FilterByProduct)):\n",
        "#   event_stream_EL[i] = log_converter.apply(log_EL_array[i], variant=log_converter.Variants.TO_EVENT_STREAM)\n",
        "#   print(f'{FilterByProduct[i]} \\tNumber of events: {len(event_stream_EL[i])}')\n",
        "\n",
        "# events_EL_array = [None] * len(FilterByProduct)\n",
        "\n",
        "# for i in range(len(FilterByProduct)):\n",
        "#   print(f'{FilterByProduct[i]}')\n",
        "#   events_EL_array[i] = dataframe_array[i].drop_duplicates(subset='concept:name')\n",
        "#   print(events_EL_array[i]['concept:name'].tolist())\n",
        "#   print(f'-'*50)\n",
        "\n",
        "# for i in range(len(FilterByProduct)):\n",
        "#   print(f'{FilterByProduct[i]}')\n",
        "#   print(f'Start activities: {pm4py.get_start_activities(log_EL_array[i])}')\n",
        "#   print(f'End activities: {pm4py.get_end_activities(log_EL_array[i])}')\n",
        "#   print(f'-'*50)\n",
        "\n",
        "# filtered_log = [None] * len(FilterByProduct)\n",
        "\n",
        "# for i in range(len(FilterByProduct)):\n",
        "#   print(f'{FilterByProduct[i]}')\n",
        "#   filtered_log[i] = pm4py.filter_end_activities(log_EL_array[i], ['Peca Produzida - Peca Boa'])\n",
        "#   print(filtered_log[i])\n",
        "#   print(f'-'*50)\n",
        "\n",
        "# variants_count = [None] * len(FilterByProduct)\n",
        "\n",
        "# for i in range(len(FilterByProduct)):\n",
        "#   print(f'{FilterByProduct[i]}')\n",
        "\n",
        "#   variants_count[i] = log_statistics.get_variants(log_EL_array[i])\n",
        "#   variants_count[i] = sorted(variants_count[i].items(), key=lambda item: len(item[1]), reverse=True)\n",
        "\n",
        "#   unique_variants_count = len(variants_count[i])\n",
        "#   print(f'Number of unique variants: {unique_variants_count}')\n",
        "\n",
        "#   print(f'Top 10 variants by case number:')\n",
        "#   for variant_info in variants_count[i][:10]:\n",
        "#     print(f'Count: {len(variant_info[1])},\\t Variant: {variant_info[0]}')\n",
        "\n",
        "#   print(f'-'*50)\n",
        "\n",
        "# a_net = [None] * len(FilterByProduct)\n",
        "# a_initial_marking = [None] * len(FilterByProduct)\n",
        "# a_final_marking = [None] * len(FilterByProduct)\n",
        "# a_gviz = [None] * len(FilterByProduct)\n",
        "\n",
        "# for i in range(len(FilterByProduct)):\n",
        "#   print(f'{FilterByProduct[i]}')\n",
        "#   a_net[i], a_initial_marking[i], a_final_marking[i] = alpha_miner.apply(dataframe_array[i])\n",
        "#   a_gviz[i] = pn_visualizer.apply(a_net[i], a_initial_marking[i], a_final_marking[i])\n",
        "#   pn_visualizer.view(a_gviz[i])\n",
        "#   pn_visualizer.save(a_gviz[i], f'images/Alpha Miner_{FilterByProduct[i]}.png')\n",
        "\n",
        "#   print()\n",
        "\n",
        "# h_net = [None] * len(FilterByProduct)\n",
        "# h_initial_marking = [None] * len(FilterByProduct)\n",
        "# h_final_marking = [None] * len(FilterByProduct)\n",
        "# h_gviz = [None] * len(FilterByProduct)\n",
        "\n",
        "# for i in range(len(FilterByProduct)):\n",
        "#   print(f'{FilterByProduct[i]}')\n",
        "#   h_net[i], h_initial_marking[i], h_final_marking[i] = heuristics_miner.apply(dataframe_array[i])\n",
        "#   h_gviz[i] = pn_visualizer.apply(h_net[i], h_initial_marking[i], h_final_marking[i])\n",
        "#   pn_visualizer.view(h_gviz[i])\n",
        "#   pn_visualizer.save(h_gviz[i], f'images/Heuristics Miner Discovery_{FilterByProduct[i]}.png')\n",
        "\n",
        "#   print()\n",
        "\n",
        "# i_net = [None] * len(FilterByProduct)\n",
        "# i_initial_marking = [None] * len(FilterByProduct)\n",
        "# i_final_marking = [None] * len(FilterByProduct)\n",
        "# i_gviz = [None] * len(FilterByProduct)\n",
        "\n",
        "# for i in range(len(FilterByProduct)):\n",
        "#   print(f'{FilterByProduct[i]}')\n",
        "#   i_net[i] = inductive_miner.apply(dataframe_array[i])\n",
        "#   i_net[i], i_initial_marking[i], i_final_marking[i] = pm4py.convert_to_petri_net(i_net[i])\n",
        "#   i_gviz[i] = pn_visualizer.apply(i_net[i], i_initial_marking[i], i_final_marking[i])\n",
        "#   pn_visualizer.view(i_gviz[i])\n",
        "#   pn_visualizer.save(i_gviz[i], f'images/Inductive Miner_{FilterByProduct[i]}.png')\n",
        "\n",
        "#   print()\n",
        "\n",
        "# alpha_result = [None] * len(FilterByProduct)\n",
        "# heuristic_result = [None] * len(FilterByProduct)\n",
        "# inductive_result = [None] * len(FilterByProduct)\n",
        "\n",
        "# for i in range(len(FilterByProduct)):\n",
        "#   print(f'{FilterByProduct[i]}')\n",
        "#   alpha_result[i] = evaluation.apply(dataframe_array[i], a_net[i], a_initial_marking[i], a_final_marking[i])\n",
        "#   heuristic_result[i] = evaluation.apply(dataframe_array[i], h_net[i], h_initial_marking[i], h_final_marking[i])\n",
        "#   inductive_result[i] = evaluation.apply(dataframe_array[i], i_net[i], i_initial_marking[i], i_final_marking[i])\n",
        "\n",
        "#   print(f'Alpha Miner:'), pprint(alpha_result[i]), print('')\n",
        "#   print(f'Heuristics Miner:'), pprint(heuristic_result[i]), print('')\n",
        "#   print(f'Inductive Miner:'), pprint(inductive_result[i]), print('')\n",
        "#   print('-'*50)\n",
        "\n",
        "# for i in range(len(FilterByProduct)):\n",
        "#   print(f'{FilterByProduct[i]} - Average trace fitness:')\n",
        "#   print(f'Alpha Miner: {alpha_result[i]['fitness']['average_trace_fitness']:.4f} --- '\n",
        "#         f'Heuristic Miner: {heuristic_result[i]['fitness']['average_trace_fitness']:.4f} --- '\n",
        "#         f'Inductive Miner: {inductive_result[i]['fitness']['average_trace_fitness']:.4f}')\n",
        "#   print(f'-'*50)\n",
        "\n",
        "# replayed_traces = [None] * len(FilterByProduct)\n",
        "\n",
        "# for i in range(len(FilterByProduct)):\n",
        "#   print(f'{FilterByProduct[i]}')s\n",
        "#   replayed_traces[i] = token_replay.apply(dataframe_array[i], h_net[i], h_initial_marking[i], h_final_marking[i])\n",
        "\n",
        "#   sum = 0\n",
        "#   for dict in replayed_traces[i]:\n",
        "#     if dict['trace_is_fit'] == False:\n",
        "#       sum += 1\n",
        "\n",
        "#   print(f'Number of traces not fit: {sum}')\n",
        "#   print(f'-'*50)\n",
        "\n",
        "short_log = log_EL_array.copy()\n",
        "for i in range(len(FilterByProduct)):\n",
        "  print(f'{FilterByProduct[i]} \\tNumber of traces: {len(short_log[i])}')\n",
        "\n",
        "\n",
        "dfg_discover = [None] * len(FilterByProduct)\n",
        "start_activities = [None] * len(FilterByProduct)\n",
        "end_activities = [None] * len(FilterByProduct)\n",
        "\n",
        "for i in range(len(FilterByProduct)):\n",
        "  dfg_discover[i], start_activities[i], end_activities[i] = pm4py.discover_dfg(short_log[i])\n",
        "\n",
        "  print(f'{FilterByProduct[i]}')\n",
        "  pprint(dfg_discover[i])\n",
        "  print()\n",
        "  print(f'Start activity / qtty.: {start_activities[i]}')\n",
        "  print(f'End activity / qtty.: {end_activities[i]}')\n",
        "  print(f'-'*50)\n",
        "\n",
        "process_tree = [None] * len(FilterByProduct)\n",
        "bpmn_diagram = [None] * len(FilterByProduct)\n",
        "petri_net = [None] * len(FilterByProduct)\n",
        "initial_marking = [None] * len(FilterByProduct)\n",
        "final_marking = [None] * len(FilterByProduct)\n",
        "\n",
        "for i in range(len(FilterByProduct)):\n",
        "  process_tree[i] = pm4py.discover_process_tree_inductive(short_log[i])\n",
        "  petri_net[i], initial_marking[i], final_marking[i] = pm4py.convert_to_petri_net(process_tree[i])\n",
        "  bpmn_diagram[i] = pm4py.convert_to_bpmn(petri_net[i], initial_marking[i], final_marking[i])\n",
        "\n",
        "activity_counts = [None] * len(FilterByProduct)\n",
        "\n",
        "for i in range(len(FilterByProduct)):\n",
        "  activity_counts[i] = pm4py.get_event_attribute_values(short_log[i], 'concept:name')\n",
        "  print(f'{FilterByProduct[i]}')\n",
        "  pprint(activity_counts[i])\n",
        "  print('\\nObs.: it is counting the start/end of each activity, so, the total amount presented is, approximately, twice the real execution.\\n','-'*50)\n",
        "\n",
        "dfg_SL = [None] * len(FilterByProduct)\n",
        "\n",
        "for i in range(len(FilterByProduct)):\n",
        "  print(f'{FilterByProduct[i]}')\n",
        "  dfg_SL[i] = dfg_visualization.apply(dfg_discover[i], log=short_log[i], variant=dfg_visualization.Variants.FREQUENCY)\n",
        "  dfg_visualization.save(dfg_SL[i], f'images/Output_DFG_ShortLog_{FilterByProduct[i]}.png')\n",
        "  dfg_visualization.view(dfg_SL[i])\n",
        "  print()\n",
        "\n",
        "process_tree_SL = [None] * len(FilterByProduct)\n",
        "\n",
        "for i in range(len(FilterByProduct)):\n",
        "  print(f'{FilterByProduct[i]}')\n",
        "  process_tree_SL[i] = pt_visualizer.apply(process_tree[i])\n",
        "  pt_visualizer.save(process_tree_SL[i], f'images/Output_Process Tree_ShortLog_{FilterByProduct[i]}.png')\n",
        "  pt_visualizer.view(process_tree_SL[i])\n",
        "  print()\n",
        "\n",
        "petrinet_SL = [None] * len(FilterByProduct)\n",
        "\n",
        "for i in range(len(FilterByProduct)):\n",
        "  print(f'{FilterByProduct[i]}')\n",
        "  petrinet_SL[i] = pn_visualizer.apply(petri_net[i], initial_marking[i], final_marking[i])\n",
        "  pn_visualizer.save(petrinet_SL[i], f'images/Output_Petri-Net_ShortLog_{FilterByProduct[i]}.png')\n",
        "  pn_visualizer.view(petrinet_SL[i])\n",
        "  print()\n",
        "\n",
        "bpmn_SL = [None] * len(FilterByProduct)\n",
        "\n",
        "for i in range(len(FilterByProduct)):\n",
        "  print(f'{FilterByProduct[i]}')\n",
        "  bpmn_SL[i] = bpmn_visualizer.apply(bpmn_diagram[i])\n",
        "  bpmn_visualizer.save(bpmn_SL[i], f'images/Output_BPMN_NewScript_{FilterByProduct[i]}.png')\n",
        "  bpmn_visualizer.view(bpmn_SL[i])\n",
        "  print()\n",
        "\n",
        "fitness_SL = [None] * len(FilterByProduct)\n",
        "precision_SL = [None] * len(FilterByProduct)\n",
        "\n",
        "for i in range(len(FilterByProduct)):\n",
        "  print(f'{FilterByProduct[i]}')\n",
        "  fitness_SL[i]= pm4py.fitness_token_based_replay(short_log[i], petri_net[i], initial_marking[i], final_marking[i])\n",
        "  print()\n",
        "  print(f'Fitness:'),\n",
        "  pprint(fitness_SL[i])\n",
        "\n",
        "  precision_SL[i] = pm4py.precision_token_based_replay(short_log[i], petri_net[i], initial_marking[i], final_marking[i])\n",
        "  print()\n",
        "  print(f'Precision: {precision_SL[i]  :.4f}')\n",
        "\n",
        "  print('-'*50)\n",
        "\n",
        "case_duration = [None] * len(FilterByProduct)\n",
        "\n",
        "for i in range(len(FilterByProduct)):\n",
        "  print(f'{FilterByProduct[i]}')\n",
        "  case_duration[i] = pm4py.get_all_case_durations(short_log[i])\n",
        "\n",
        "  print(f'{case_duration[i]}')\n",
        "  print(f'Qtde. de saídas = {len(case_duration[i])}')\n",
        "\n",
        "  soma = 0\n",
        "  for n in range(len(case_duration[i])-1):\n",
        "    soma = (case_duration[i][n+1] - case_duration[i][n]) + soma\n",
        "\n",
        "  media = soma / len(case_duration[i])\n",
        "  print(f'Tempo de ciclo médio (segundos) = {media :.2f}')\n",
        "  print('-'*50)\n",
        "\n",
        "is_sound_wfnet = [None] * len(FilterByProduct)\n",
        "\n",
        "for i in range(len(FilterByProduct)):\n",
        "  is_sound_wfnet[i] = pm4py.check_soundness(petri_net[i], initial_marking[i], final_marking[i])[0]\n",
        "  print(f'Is the log (or partial log) \"{FilterByProduct[i]}\" a sound workflow net?\\t {is_sound_wfnet[i]}')\n",
        "\n",
        "print(f'Process Mining Module - Time of Execution:')\n",
        "calc_time_elapsed(start_time_of_execution_PM)\n",
        "\n",
        "# Re-run MCDM Module\n",
        "start_time_of_execution_MCDM = time.perf_counter()\n",
        "\n",
        "c3_stop = [None] * len(FilterByProduct)\n",
        "c3_fail = [None] * len(FilterByProduct)\n",
        "c3 = [None] * len(FilterByProduct)\n",
        "\n",
        "for i in range(len(FilterByProduct)):\n",
        "  df_produto1 = log_csv[log_csv['Produto'] == FilterByProduct[i]]\n",
        "  c3_stop[i] = 1/2 * (df_produto1[df_produto1['taskID'] == 'Falha durante o trabalho'].shape[0])\n",
        "  c3_fail[i] = 1/2 * (df_produto1[df_produto1['taskID'] == 'Parada Operacional'].shape[0])\n",
        "  c3[i] = (c3_stop[i] + c3_fail[i])\n",
        "  print(f'Number of stops for {FilterByProduct[i]}: \\t{c3[i]}')\n",
        "\n",
        "FailRate = [None] * len(FilterByProduct)\n",
        "MTBF = [None] * len(FilterByProduct)\n",
        "MTTR = [None] * len(FilterByProduct)\n",
        "up_time = [None] * len(FilterByProduct)\n",
        "\n",
        "for i in range(len(FilterByProduct)):\n",
        "  print(f'{FilterByProduct[i]}')\n",
        "\n",
        "  act_time, events_name = get_activity_durations_minutes(dataframe_array[i])\n",
        "  pprint(act_time)\n",
        "\n",
        "  up_time[i] = act_time['Trabalhar'] + act_time['Setup'] + act_time['Retirar Produto'] + act_time['Parada Operacional']\n",
        "\n",
        "  MTBF[i] = up_time[i] / c3_stop[i]\n",
        "  FailRate[i] = 1 / MTBF[i]\n",
        "\n",
        "  MTTR[i] = act_time['Falha durante o trabalho'] / c3_stop[i]\n",
        "\n",
        "  print()\n",
        "  print(f'Production (uptime): {up_time[i] :.2f} \\t MTBF: {MTBF[i] :.3f} \\t Failure rate: {FailRate[i] :.3f} \\t MTTR: {MTTR[i] :.3f} \\t Failure No.: {c3[i]}')\n",
        "  print('\\n', '-'*50)\n",
        "\n",
        "methods = [PROMETHEE_II('usual'), TOPSIS(), VIKOR()]\n",
        "method_names = ['PROMETHEE II', 'TOPSIS', 'VIKOR']\n",
        "\n",
        "c1 = FailRate.copy()\n",
        "c2 = MTTR.copy()\n",
        "c3 = c3.copy()\n",
        "\n",
        "# Assuming c4 and c5 are still manually entered or derived from other parts of the log\n",
        "# If they are dependent on timestamps, you would need to re-calculate them here as well\n",
        "# For now, I will use the previously entered values for c4 and c5\n",
        "c4 = [3,5,1,3,2,3,4,3,1,3]\n",
        "c5 = [2,4,1,3,4,5,1,4,2,2]\n",
        "\n",
        "\n",
        "matrix = np.array([\n",
        "    [round(c1[i],4),\n",
        "     round(c2[i],4),\n",
        "     int(c3[i]),\n",
        "     int(c4[i]),\n",
        "     int(c5[i])] for i in range(len(FilterByProduct))\n",
        "])\n",
        "\n",
        "weights = np.array([criteria.target_weights[c] for c in list_criteria])\n",
        "MinMax_array = MinMax\n",
        "\n",
        "pref_mcdm = []\n",
        "rank_mcdm = []\n",
        "\n",
        "for method in methods:\n",
        "  pref_aux = method(matrix, weights, MinMax_array)\n",
        "  rank_aux = method.rank(pref_aux)\n",
        "\n",
        "  pref_mcdm.append(pref_aux)\n",
        "  rank_mcdm.append(rank_aux)\n",
        "\n",
        "a = [f'Mach. {i+1}' for i in range(len(pref_mcdm[0]))]\n",
        "final_results_mcdm = pd.DataFrame(zip(*pref_mcdm), columns=method_names, index=a).round(4)\n",
        "display(final_results_mcdm)\n",
        "\n",
        "final_results_mcdm_byRank = pd.DataFrame(zip(*rank_mcdm), columns=method_names, index=a).astype('int')\n",
        "display(final_results_mcdm_byRank)\n",
        "\n",
        "plt.boxplot(final_results_mcdm)\n",
        "plt.title(f'Box Plot')\n",
        "plt.ylabel(f'Method Result')\n",
        "plt.xticks([1, 2, 3], method_names)\n",
        "plt.show()\n",
        "\n",
        "fig, ax = plt.subplots(figsize=(7, 3), dpi=150, tight_layout=True)\n",
        "visuals.ranking_bar(rank_mcdm, labels=method_names, ax=ax)\n",
        "plt.savefig('images/ranking_bar.png', bbox_inches='tight')\n",
        "plt.show()\n",
        "\n",
        "fig, ax = plt.subplots(figsize=(7, 3), dpi=150, tight_layout=True)\n",
        "visuals.ranking_flows(rank_mcdm, labels=method_names, ax=ax)\n",
        "plt.savefig('images/ranking_flows.png', bbox_inches='tight')\n",
        "plt.show()\n",
        "\n",
        "fig, ax = plt.subplots(figsize=(5, 5), dpi=150, tight_layout=True, subplot_kw={'projection': 'polar'})\n",
        "visuals.polar_plot(rank_mcdm, labels=method_names, legend_ncol=2, ax=ax)\n",
        "plt.savefig('images/polar_plot.png', bbox_inches='tight')\n",
        "plt.show()\n",
        "\n",
        "fig, ax = plt.subplots(figsize=(4, 4), dpi=150, tight_layout=True)\n",
        "visuals.ranking_scatter(rank_mcdm[0], rank_mcdm[1], ax=ax)\n",
        "plt.savefig('images/ranking_scatter.png', bbox_inches='tight')\n",
        "plt.show()\n",
        "\n",
        "corrs = []\n",
        "for r in rank_mcdm:\n",
        "  corrs.append(weighted_spearman(rank_mcdm[0], r))\n",
        "\n",
        "fig, ax = plt.subplots(figsize=(7, 5), dpi=150, tight_layout=True)\n",
        "visuals.rankings_flow_correlation(rank_mcdm,\n",
        "                                  corrs,\n",
        "                                  labels=method_names,\n",
        "                                  correlation_plot_kwargs={'space_multiplier': 0.5, 'ylim': (-0.05, 1.05)},\n",
        "                                  ranking_flows_kwargs={'better_grid': True},\n",
        "                                  ax=ax)\n",
        "plt.savefig('images/ranking_flow_correlation.png', bbox_inches='tight')\n",
        "plt.show()\n",
        "\n",
        "corr_matrix = correlation_matrix(np.array(rank_mcdm), weighted_spearman)\n",
        "\n",
        "fig, ax = plt.subplots(figsize=(4, 4), dpi=150, tight_layout=True)\n",
        "visuals.correlation_heatmap(corr_matrix,\n",
        "                            labels=method_names,\n",
        "                            labeltop=True,\n",
        "                            cmap='RdYlGn',\n",
        "                            adapt_text_colors=['k', 'w'],\n",
        "                            colorbar=True,\n",
        "                            ax=ax)\n",
        "plt.savefig('images/heatmap2.png', bbox_inches='tight')\n",
        "plt.show()\n",
        "\n",
        "body = PROMETHEE_I(preference_function='usual')\n",
        "Fp, Fm = body(matrix, weights, MinMax_array)\n",
        "\n",
        "fig, ax = plt.subplots(figsize=(4, 4), dpi=150, tight_layout=True)\n",
        "visuals.promethee_I_flows(Fp, Fm)\n",
        "plt.savefig('images/promethee_flows.png', bbox_inches='tight')\n",
        "plt.show()\n",
        "\n",
        "fig, ax = plt.subplots(figsize=(4, 4), dpi=150, tight_layout=True)\n",
        "visuals.promethee_I_graph(Fp, Fm)\n",
        "plt.savefig('images/promethee_graph.png', bbox_inches='tight')\n",
        "plt.show()\n",
        "\n",
        "weighting_methods = [\n",
        "    w.equal_weights,\n",
        "    w.entropy_weights,\n",
        "    w.standard_deviation_weights,\n",
        "    w.gini_weights\n",
        "]\n",
        "\n",
        "weight_sets = []\n",
        "for m in weighting_methods:\n",
        "  weight_sets.append(m(matrix))\n",
        "\n",
        "weight_sets.append(weights)\n",
        "\n",
        "fig, ax = plt.subplots(figsize=(7, 3), dpi=150, tight_layout=True)\n",
        "visuals.weights_plot(weight_sets,\n",
        "                     xticklabels=['Equal', 'Entropy', 'Std.', 'Gini', 'Real (from AHP)'],\n",
        "                     legend_ncol=9,\n",
        "                     ax=ax)\n",
        "plt.savefig('images/weights.png', bbox_inches='tight')\n",
        "plt.show()\n",
        "\n",
        "fig, ax = plt.subplots(figsize=(5, 6), dpi=150, tight_layout=True, subplot_kw={'projection': 'polar'})\n",
        "visuals.polar_weights(weight_sets,\n",
        "                      xticklabels=['Equal', 'Entropy', 'Std.', 'Gini', 'Real (from AHP)'],\n",
        "                      legend_ncol=5,\n",
        "                      ax=ax)\n",
        "plt.tight_layout()\n",
        "plt.savefig('images/weights_polar.png', bbox_inches='tight')\n",
        "plt.show()\n",
        "\n",
        "pm_method = pymcdm.methods.TOPSIS()\n",
        "rankings, corr, labels = pymcdm.helpers.leave_one_out_rr(\n",
        "        method=pm_method, matrix=matrix, weights=weights, types=MinMax_array,\n",
        "        corr_function=pymcdm.correlations.weighted_spearman,\n",
        "        only_rr=False)\n",
        "\n",
        "fig, ax = plt.subplots(figsize=(8, 3.8))\n",
        "ax, cax = pymcdm.visuals.rankings_flow_correlation(\n",
        "        rankings=rankings, correlations=corr, labels=labels,\n",
        "        correlation_plot_kwargs={'space_multiplier': 0.15},\n",
        "        ranking_flows_kwargs={'better_grid': True},\n",
        "        ax=ax)\n",
        "cax.set_ylim(0.75, 1.05)\n",
        "plt.tight_layout()\n",
        "plt.show()\n",
        "\n",
        "print('MCDM Module - Time of Execution:')\n",
        "calc_time_elapsed(start_time_of_execution_MCDM)"
      ],
      "metadata": {
        "id": "n1Wasnv8RDeU"
      },
      "execution_count": null,
      "outputs": []
    },
    {
      "cell_type": "markdown",
      "source": [
        "# Comparison of MCDM methods\n",
        "* PROMETHEE II\n",
        "* TOPSIS\n",
        "* VIKOR\n",
        "* PROMETHEE I"
      ],
      "metadata": {
        "id": "RASBrsMjuGJh"
      }
    },
    {
      "cell_type": "markdown",
      "source": [
        "## PROMETHEE II, TOPSIS & VIKOR"
      ],
      "metadata": {
        "id": "zkoWKJvNt78U"
      }
    },
    {
      "cell_type": "code",
      "source": [
        "# Get the time to measure the time spent, in this case, only in the MCDM module\n",
        "start_time_of_execution_MCDM = time.perf_counter()"
      ],
      "metadata": {
        "id": "F5duweDOh2c3"
      },
      "execution_count": null,
      "outputs": []
    },
    {
      "cell_type": "code",
      "source": [
        "# Choose which MCDM method will guide the next executions / comparisons\n",
        "methods = [PROMETHEE_II('usual'), TOPSIS(), VIKOR()] # there are more methods on PyMCDM library\n",
        "method_names = ['PROMETHEE II', 'TOPSIS', 'VIKOR']"
      ],
      "metadata": {
        "id": "Jjw673Nbz48R"
      },
      "execution_count": null,
      "outputs": []
    },
    {
      "cell_type": "code",
      "source": [
        "# Get the result / ranking for MCDM methods\n",
        "pref_mcdm = []\n",
        "rank_mcdm = []\n",
        "\n",
        "for method in methods:\n",
        "  pref_aux = method(matrix, weights, MinMax_array)\n",
        "  rank_aux = method.rank(pref_aux)\n",
        "\n",
        "  pref_mcdm.append(pref_aux)\n",
        "  rank_mcdm.append(rank_aux)"
      ],
      "metadata": {
        "id": "x76SfUxx0KFz"
      },
      "execution_count": null,
      "outputs": []
    },
    {
      "cell_type": "code",
      "source": [
        "# Put the results in a table to indirect compare them (comparison by output of each method)\n",
        "  # BUT be carefull with this interpretation, since:\n",
        "    # - PROMETHEE II: [-1; 1], any value\n",
        "    # - TOPSIS: [0; 1], any value\n",
        "    # - VIKOR: [0; 1], but the method gives \"0\" ALWAYS for the best, and \"1\" ALWAYS for the worst\n",
        "a = [f'Mach. {i+1}' for i in range(len(pref_mcdm[0]))] # edit the text according to desired\n",
        "final_results_mcdm = pd.DataFrame(zip(*pref_mcdm), columns=method_names, index=a).round(4)\n",
        "display(final_results_mcdm)"
      ],
      "metadata": {
        "id": "h_oZmBza0Slf"
      },
      "execution_count": null,
      "outputs": []
    },
    {
      "cell_type": "code",
      "source": [
        "# Put the results in a table to direct compare them (comparisons by rank)\n",
        "final_results_mcdm_byRank = pd.DataFrame(zip(*rank_mcdm), columns=method_names, index=a).astype('int')\n",
        "display(final_results_mcdm_byRank)"
      ],
      "metadata": {
        "id": "KTfaAVzV0cP-"
      },
      "execution_count": null,
      "outputs": []
    },
    {
      "cell_type": "code",
      "source": [
        "# Plot the results of each method separately in a single box plot\n",
        "  # BUT be carefull with this interpretation, since:\n",
        "    # - PROMETHEE II: [-1; 1], any value\n",
        "    # - TOPSIS: [0; 1], any value\n",
        "    # - VIKOR: [0; 1], but the method gives \"0\" ALWAYS for the best, and \"1\" ALWAYS for the worst\n",
        "  # If there is outlier, it probably shows inverted ( [PROMETHEE and TOPSIS] vs. VIKOR )\n",
        "plt.boxplot(final_results_mcdm)\n",
        "plt.title(f'Box Plot')\n",
        "plt.ylabel(f'Method Result')\n",
        "plt.xticks([1, 2, 3], method_names)\n",
        "plt.show()"
      ],
      "metadata": {
        "id": "MAmRsysd9X1b"
      },
      "execution_count": null,
      "outputs": []
    },
    {
      "cell_type": "code",
      "source": [
        "# Plot how each MCDM method classified the alternatives - Bar graph\n",
        "fig, ax = plt.subplots(figsize=(7, 3), dpi=150, tight_layout=True)\n",
        "visuals.ranking_bar(rank_mcdm, labels=method_names, ax=ax)\n",
        "# ax.set_xticklabels(a) # Set x-axis tick labels using the 'a' variable\n",
        "# ax.tick_params(axis='x', labelsize=7) # Adjust the font size of x-axis labels\n",
        "plt.savefig('images/ranking_bar.png', bbox_inches='tight')\n",
        "plt.show()"
      ],
      "metadata": {
        "id": "-x3zLXjX0lHp"
      },
      "execution_count": null,
      "outputs": []
    },
    {
      "cell_type": "code",
      "source": [
        "# Plot how each MCDM method classified the alternatives - Line graph\n",
        "fig, ax = plt.subplots(figsize=(7, 3), dpi=150, tight_layout=True)\n",
        "visuals.ranking_flows(rank_mcdm, labels=method_names, ax=ax)\n",
        "plt.savefig('images/ranking_flows.png', bbox_inches='tight')\n",
        "plt.show()"
      ],
      "metadata": {
        "id": "COaeBife1Xr7"
      },
      "execution_count": null,
      "outputs": []
    },
    {
      "cell_type": "code",
      "source": [
        "# Plot how each MCDM method classified the alternatives - Polar graph\n",
        "fig, ax = plt.subplots(figsize=(5, 5), dpi=150, tight_layout=True, subplot_kw={'projection': 'polar'})\n",
        "visuals.polar_plot(rank_mcdm, labels=method_names, legend_ncol=2, ax=ax)\n",
        "plt.savefig('images/polar_plot.png', bbox_inches='tight')\n",
        "plt.show()"
      ],
      "metadata": {
        "id": "ZCoPnsEE128s"
      },
      "execution_count": null,
      "outputs": []
    },
    {
      "cell_type": "code",
      "source": [
        "# Plot how each MCDM method classified the alternatives - Scatter graph\n",
        "fig, ax = plt.subplots(figsize=(4, 4), dpi=150, tight_layout=True)\n",
        "visuals.ranking_scatter(rank_mcdm[0], rank_mcdm[1], ax=ax) #Promethee vs. Topsis\n",
        "plt.savefig('images/ranking_scatter.png', bbox_inches='tight')\n",
        "plt.show()"
      ],
      "metadata": {
        "id": "Pqp9kB4r2MJ3"
      },
      "execution_count": null,
      "outputs": []
    },
    {
      "cell_type": "code",
      "source": [
        "# # Plot the correlation among MCDM method results by Spearman function\n",
        "# corrs = []\n",
        "# for r in rank_mcdm:\n",
        "#   corrs.append(weighted_spearman(rank_mcdm[0], r))\n",
        "\n",
        "# fig, ax = plt.subplots(figsize=(7, 2.5), dpi=150, tight_layout=True)\n",
        "# visuals.correlation_plot(corrs, ylim=(-0.05, 1.05), space_multiplier=0.5, labels=method_names, ax=ax)\n",
        "# plt.savefig('images/correlation_plot.png', bbox_inches='tight')\n",
        "# plt.show()"
      ],
      "metadata": {
        "id": "YfW1w8uirPg5"
      },
      "execution_count": null,
      "outputs": []
    },
    {
      "cell_type": "code",
      "source": [
        "# Plot the correlation among MCDM method results by Spearman function &\n",
        "# Plot how each MCDM method classified the alternatives - Line graph\n",
        "corrs = []\n",
        "for r in rank_mcdm:\n",
        "  corrs.append(weighted_spearman(rank_mcdm[0], r))\n",
        "\n",
        "fig, ax = plt.subplots(figsize=(7, 5), dpi=150, tight_layout=True)\n",
        "visuals.rankings_flow_correlation(rank_mcdm,\n",
        "                                  corrs,\n",
        "                                  labels=method_names,\n",
        "                                  correlation_plot_kwargs={'space_multiplier': 0.5, 'ylim': (-0.05, 1.05)},\n",
        "                                  ranking_flows_kwargs={'better_grid': True},\n",
        "                                  ax=ax)\n",
        "plt.savefig('images/ranking_flow_correlation.png', bbox_inches='tight')\n",
        "plt.show()"
      ],
      "metadata": {
        "id": "f6-sH3vvsDka"
      },
      "execution_count": null,
      "outputs": []
    },
    {
      "cell_type": "code",
      "source": [
        "# Plot the correlation among MCDM method results by Spearman function\n",
        "corr_matrix = correlation_matrix(np.array(rank_mcdm), weighted_spearman)\n",
        "\n",
        "fig, ax = plt.subplots(figsize=(4, 4), dpi=150, tight_layout=True)\n",
        "visuals.correlation_heatmap(corr_matrix,\n",
        "                            labels=method_names,\n",
        "                            labeltop=True,\n",
        "                            cmap='RdYlGn',\n",
        "                            adapt_text_colors=['k', 'w'],\n",
        "                            colorbar=True,\n",
        "                            ax=ax)\n",
        "plt.savefig('images/heatmap2.png', bbox_inches='tight')\n",
        "plt.show()"
      ],
      "metadata": {
        "id": "djZaV4i7sTQn"
      },
      "execution_count": null,
      "outputs": []
    },
    {
      "cell_type": "markdown",
      "source": [
        "## PROMETHEE I"
      ],
      "metadata": {
        "id": "xAdtYgfCtlUx"
      }
    },
    {
      "cell_type": "code",
      "source": [
        "# Execute the PROMETHEE method on the matrix considering the body (function type),\n",
        "# the matrix with measures, criteria weighting, and type of each criterion\n",
        "body = PROMETHEE_I(preference_function='usual')\n",
        "Fp, Fm = body(matrix, weights, MinMax_array)"
      ],
      "metadata": {
        "id": "ER4O_bGmsagJ"
      },
      "execution_count": null,
      "outputs": []
    },
    {
      "cell_type": "code",
      "source": [
        "# Plot the output of PROMETHEE I as Phi(+) and Phi(-)\n",
        "fig, ax = plt.subplots(figsize=(4, 4), dpi=150, tight_layout=True)\n",
        "visuals.promethee_I_flows(Fp, Fm)\n",
        "plt.savefig('images/promethee_flows.png', bbox_inches='tight')\n",
        "plt.show()"
      ],
      "metadata": {
        "id": "jSNcVPsftf2M"
      },
      "execution_count": null,
      "outputs": []
    },
    {
      "cell_type": "code",
      "source": [
        "# Plot how the alternatives \"interact\" with others in terms ranking alternation between Phi(+) and Phi(-)\n",
        "fig, ax = plt.subplots(figsize=(4, 4), dpi=150, tight_layout=True)\n",
        "visuals.promethee_I_graph(Fp, Fm)\n",
        "plt.savefig('images/promethee_graph.png', bbox_inches='tight')\n",
        "plt.show()"
      ],
      "metadata": {
        "id": "l3rozBiLthte"
      },
      "execution_count": null,
      "outputs": []
    },
    {
      "cell_type": "markdown",
      "source": [
        "## Weights visualization"
      ],
      "metadata": {
        "id": "Oh48Ifiix8ss"
      }
    },
    {
      "cell_type": "code",
      "source": [
        "# Define list with several weighting methods and add the weights from AHP\n",
        "weighting_methods = [\n",
        "    w.equal_weights,\n",
        "    w.entropy_weights,\n",
        "    w.standard_deviation_weights,\n",
        "    w.gini_weights\n",
        "]\n",
        "\n",
        "weight_sets = []\n",
        "for m in weighting_methods:\n",
        "  weight_sets.append(m(matrix))\n",
        "\n",
        "weight_sets.append(weights)"
      ],
      "metadata": {
        "id": "2tYJ5V5uxkoD"
      },
      "execution_count": null,
      "outputs": []
    },
    {
      "cell_type": "code",
      "source": [
        "# Plot how the weights are compared with each other among several functions - Bar graph\n",
        "fig, ax = plt.subplots(figsize=(7, 3), dpi=150, tight_layout=True)\n",
        "visuals.weights_plot(weight_sets,\n",
        "                     xticklabels=['Equal', 'Entropy', 'Std.', 'Gini', 'Real (from AHP)'],\n",
        "                     legend_ncol=9,\n",
        "                     ax=ax)\n",
        "plt.savefig('images/weights.png', bbox_inches='tight')\n",
        "plt.show()"
      ],
      "metadata": {
        "id": "1jPHpm5NxpG9"
      },
      "execution_count": null,
      "outputs": []
    },
    {
      "cell_type": "code",
      "source": [
        "# Plot how the weights are compared with each other among several functions - Polar graph\n",
        "fig, ax = plt.subplots(figsize=(5, 6), dpi=150, tight_layout=True, subplot_kw={'projection': 'polar'})\n",
        "visuals.polar_weights(weight_sets,\n",
        "                      xticklabels=['Equal', 'Entropy', 'Std.', 'Gini', 'Real (from AHP)'],\n",
        "                      legend_ncol=5,\n",
        "                      ax=ax)\n",
        "plt.tight_layout()\n",
        "plt.savefig('images/weights_polar.png', bbox_inches='tight')\n",
        "plt.show()"
      ],
      "metadata": {
        "id": "qBJ77Zi8x0x8"
      },
      "execution_count": null,
      "outputs": []
    },
    {
      "cell_type": "markdown",
      "source": [
        "## Another example on rank reversal"
      ],
      "metadata": {
        "id": "sUemiohPzeq6"
      }
    },
    {
      "cell_type": "code",
      "source": [
        "# Use leave_one_out function to produce the input for the visualization\n",
        "# in order to analyse rank reversal for this particular case\n",
        "pm_method = pymcdm.methods.TOPSIS()\n",
        "rankings, corr, labels = pymcdm.helpers.leave_one_out_rr(\n",
        "        method=pm_method, matrix=matrix, weights=weights, types=MinMax_array,\n",
        "        corr_function=pymcdm.correlations.weighted_spearman,\n",
        "        only_rr=False)\n",
        "\n",
        "# Create the visualization of the changes in the rankings.\n",
        "# kwargs are used to tweak the appearense of the visualization.\n",
        "fig, ax = plt.subplots(figsize=(8, 3.8))\n",
        "ax, cax = pymcdm.visuals.rankings_flow_correlation(\n",
        "        rankings=rankings, correlations=corr, labels=labels,\n",
        "        correlation_plot_kwargs={'space_multiplier': 0.15},\n",
        "        ranking_flows_kwargs={'better_grid': True},\n",
        "        ax=ax)\n",
        "cax.set_ylim(0.75, 1.05)\n",
        "plt.tight_layout()\n",
        "plt.show()"
      ],
      "metadata": {
        "id": "B5uQPbktydBU"
      },
      "execution_count": null,
      "outputs": []
    },
    {
      "cell_type": "code",
      "source": [
        "# Present how long it took to run this module\n",
        "print('MCDM Module - Time of Execution:')\n",
        "calc_time_elapsed(start_time_of_execution_MCDM)"
      ],
      "metadata": {
        "id": "9bdmGXtrh8Qp"
      },
      "execution_count": null,
      "outputs": []
    },
    {
      "cell_type": "markdown",
      "source": [
        "## Presents the execution time of the entire script\n",
        "*Obs.: the beginning starts right after the lib's import.*"
      ],
      "metadata": {
        "id": "KbfxL3C6cGc-"
      }
    },
    {
      "cell_type": "code",
      "source": [
        "# Present how long it took to run all the script\n",
        "print('TOTAL Time of Execution:')\n",
        "calc_time_elapsed(start_time_of_execution)"
      ],
      "metadata": {
        "id": "zGWGELIMcFeP"
      },
      "execution_count": null,
      "outputs": []
    },
    {
      "cell_type": "markdown",
      "source": [
        "# Teste / Validação (1)\n",
        "Geração de um novo log a partir do que já foi informado (20 cases de cada máquina, i.e., ~10% de cada subarray)"
      ],
      "metadata": {
        "id": "Zy0HYP-vWrEe"
      }
    },
    {
      "cell_type": "code",
      "source": [
        "# Get the time to measure the time spent, in this case, only for the test / validation (1)\n",
        "start_time_of_execution_testOne = time.perf_counter()"
      ],
      "metadata": {
        "id": "YzlYX5W8iWZY"
      },
      "execution_count": null,
      "outputs": []
    },
    {
      "cell_type": "code",
      "source": [
        "# Generate a new dataframe by randomly selecting 20 instances of each product\n",
        "new_log_csv = log_csv.groupby('Produto').apply(lambda x: x.sample(n=20, random_state=31)).reset_index(drop=True)\n",
        "#31\n",
        "\n",
        "# Display the first few rows of the new dataframe\n",
        "display(new_log_csv.head())"
      ],
      "metadata": {
        "id": "3iBiLV2hWw1r"
      },
      "execution_count": null,
      "outputs": []
    },
    {
      "cell_type": "code",
      "source": [
        "# Display information about the new dataframe\n",
        "new_log_csv.info()"
      ],
      "metadata": {
        "id": "pD_ZsSUMWz6F"
      },
      "execution_count": null,
      "outputs": []
    },
    {
      "cell_type": "code",
      "source": [
        "# Present the cases that was chosen for each alternative (product line)\n",
        "print(f'Selected case IDs for each product:\\n')\n",
        "# Group the new_log_csv by product and display the case IDs for each\n",
        "aux=0\n",
        "for product, group in new_log_csv.groupby('Produto'):\n",
        "  case_ids = group['caseID'].unique().tolist()\n",
        "  print(f'{product}: {case_ids}')\n",
        "  print(f'\\tNumber of unique case IDs for {product}: {len(case_ids)}')\n",
        "  aux += len(case_ids)\n",
        "\n",
        "print(f'\\n Number total of cases: {aux}')"
      ],
      "metadata": {
        "id": "sbOwMLLiW2Yc"
      },
      "execution_count": null,
      "outputs": []
    },
    {
      "cell_type": "code",
      "source": [
        "# Replace all values in the 'Produto' column with 'ProdutoXX'\n",
        "new_log_csv['Produto'] = 'ProdutoXX'\n",
        "\n",
        "# Display the first few rows of the modified dataframe to verify the change\n",
        "display(new_log_csv.head())\n",
        "\n",
        "print('-'*50)\n",
        "\n",
        "# Verify that the 'Produto' column now only contains 'ProdutoXX'\n",
        "print(f'Unique values in the \"Produto\" column:')\n",
        "print(new_log_csv['Produto'].unique())"
      ],
      "metadata": {
        "id": "2zA6Rf5KW7ld"
      },
      "execution_count": null,
      "outputs": []
    },
    {
      "cell_type": "code",
      "source": [
        "# Use pd.concat to combine the dataframes\n",
        "newLog_log_csv = pd.concat([log_csv, new_log_csv], ignore_index=True)"
      ],
      "metadata": {
        "id": "0riNwA5Ef9SP"
      },
      "execution_count": null,
      "outputs": []
    },
    {
      "cell_type": "code",
      "source": [
        "# Get the list of case IDs from the new_log_csv\n",
        "selected_case_ids = new_log_csv['caseID'].unique()\n",
        "\n",
        "# Filter the original log_csv to include only the selected case IDs\n",
        "filtered_log_csv = log_csv[log_csv['caseID'].isin(selected_case_ids)]\n",
        "\n",
        "# Display information about the filtered dataframe\n",
        "display(filtered_log_csv.info())"
      ],
      "metadata": {
        "id": "hxVGebDsW9AW"
      },
      "execution_count": null,
      "outputs": []
    },
    {
      "cell_type": "code",
      "source": [
        "# Format the dataframe for PM4Py\n",
        "formatted_filtered_log_csv = pm4py.format_dataframe(filtered_log_csv, case_id='caseID', activity_key='taskID', timestamp_key= 'timestamp')\n",
        "\n",
        "a, b, c = pm4py.discover_dfg(formatted_filtered_log_csv)\n",
        "dfg_view = pm4py.view_dfg(a, b, c)"
      ],
      "metadata": {
        "id": "uRiwULt4W__c"
      },
      "execution_count": null,
      "outputs": []
    },
    {
      "cell_type": "code",
      "source": [
        "# Adds this \"new\" dataframe into the exist one to test the system\n",
        "added_dataframe_array = dataframe_array.copy()\n",
        "print(f'Number of dataframes in added_dataframe_array (before): {len(added_dataframe_array)}')\n",
        "added_dataframe_array.append(formatted_filtered_log_csv)\n",
        "print(f'Number of dataframes in added_dataframe_array (after): {len(added_dataframe_array)}')"
      ],
      "metadata": {
        "id": "eDbxVOWJXLlV"
      },
      "execution_count": null,
      "outputs": []
    },
    {
      "cell_type": "code",
      "source": [
        "# Identify this \"new\" product line\n",
        "newLog_FilterByProduct = []\n",
        "for i, df in enumerate(added_dataframe_array):\n",
        "  newLog_FilterByProduct.append(newLog_log_csv['Produto'].unique())\n",
        "\n",
        "newLog_FilterByProduct = newLog_log_csv['Produto'].unique() # as the log presents \"several production lines\" segmented by Products\n",
        "print(f'Qtty. of alternatives: {len(newLog_FilterByProduct)} \\n{newLog_FilterByProduct}')"
      ],
      "metadata": {
        "id": "YrOcZ447zRJY"
      },
      "execution_count": null,
      "outputs": []
    },
    {
      "cell_type": "code",
      "source": [
        "# Calcule KPI of the \"new\" log\n",
        "c3_stop = [None] * len(newLog_FilterByProduct)\n",
        "c3_fail = [None] * len(newLog_FilterByProduct)\n",
        "c3 = [None] * len(newLog_FilterByProduct)\n",
        "for i in range(len(newLog_FilterByProduct)):\n",
        "  df_produto1 = newLog_log_csv[newLog_log_csv['Produto'] == newLog_FilterByProduct[i]]\n",
        "\n",
        "  # 1/2 (0.5) -> Divide-se por 2 porque a função contabiliza o início (Start) e fim (Complete)\n",
        "  c3_stop[i] = 1/2 * (df_produto1[df_produto1['taskID'] == 'Falha durante o trabalho'].shape[0])\n",
        "  c3_fail[i] = 1/2* (df_produto1[df_produto1['taskID'] == 'Parada Operacional'].shape[0])\n",
        "  c3[i] = (c3_stop[i] + c3_fail[i])\n",
        "  print(f'Number of stops for {newLog_FilterByProduct[i]}: \\t{c3[i]}')"
      ],
      "metadata": {
        "id": "aUbpQU9rgMx4"
      },
      "execution_count": null,
      "outputs": []
    },
    {
      "cell_type": "code",
      "source": [
        "# Calcule KPIs of the \"new\" log\n",
        "FailRate = [None] * len(newLog_FilterByProduct) # c1\n",
        "MTBF = [None] * len(newLog_FilterByProduct)\n",
        "MTTR = [None] * len(newLog_FilterByProduct) # c2\n",
        "up_time = [None] * len(newLog_FilterByProduct)\n",
        "\n",
        "for i in range(len(newLog_FilterByProduct)):\n",
        "  print(f'{newLog_FilterByProduct[i]}')\n",
        "\n",
        "  act_time, events_name = get_activity_durations_minutes(added_dataframe_array[i])\n",
        "  pprint(act_time)\n",
        "\n",
        "  up_time[i] = act_time['Trabalhar'] + act_time['Setup'] + act_time['Retirar Produto'] + act_time['Parada Operacional']\n",
        "\n",
        "  MTBF[i] = up_time[i] / c3_stop[i]\n",
        "  FailRate[i] = 1 / MTBF[i]\n",
        "\n",
        "  MTTR[i] = act_time['Falha durante o trabalho'] / c3_stop[i]\n",
        "\n",
        "  print()\n",
        "  print(f'Production (uptime): {up_time[i] :.2f} \\t MTBF: {MTBF[i] :.3f} \\t Failure rate: {FailRate[i] :.3f} \\t MTTR: {MTTR[i] :.3f} \\t Failure No.: {c3[i]}')\n",
        "  print('\\n', '-'*50)"
      ],
      "metadata": {
        "id": "urpxFaPggODp"
      },
      "execution_count": null,
      "outputs": []
    },
    {
      "cell_type": "code",
      "source": [
        "# Execute the PROMETHEE II method on the matrix considering the body (function type),\n",
        "# the matrix with measures, criteria weighting, and type of each criterion\n",
        "c1_n = FailRate.copy()\n",
        "c2_n = MTTR.copy()\n",
        "c3_n = c3.copy()\n",
        "c4_n = [3,5,1,3,2,3,4,3,1,3,3]\n",
        "c5_n = [2,4,1,3,4,5,1,4,2,2,2]\n",
        "\n",
        "body = PROMETHEE_II('usual')\n",
        "\n",
        "matrix_test = np.array([\n",
        "    [round(c1_n[i],4),\n",
        "     round(c2_n[i],4),\n",
        "     int(c3_n[i]),\n",
        "     int(c4_n[i]),\n",
        "     int(c5_n[i])] for i in range(len(newLog_FilterByProduct))\n",
        "])\n",
        "\n",
        "weights = np.array([criteria.target_weights[c] for c in list_criteria])\n",
        "print(f'Weights (from AHP): {weights}')\n",
        "MinMax_array = MinMax\n",
        "print(f'Criteria objective: {MinMax_array}')\n",
        "print(f'-'*50)\n",
        "[round(preference2, 4) for preference2 in body(matrix_test, weights, MinMax_array)]"
      ],
      "metadata": {
        "id": "Fwisx1mVgcIA"
      },
      "execution_count": null,
      "outputs": []
    },
    {
      "cell_type": "code",
      "source": [
        "# Get the resulting net flow (phi value) and alternatives position (ranking)\n",
        "pref_test = body(matrix_test, weights, MinMax_array)\n",
        "ranking_test = rrankdata(pref_test)\n",
        "\n",
        "i=0\n",
        "for r, p in zip(ranking_test, pref_test):\n",
        "  print(f'{newLog_FilterByProduct[i]}','\\t','Position: ', r, '\\t', round(p, 4))\n",
        "  i+=1"
      ],
      "metadata": {
        "id": "b1vbayV-ggTv"
      },
      "execution_count": null,
      "outputs": []
    },
    {
      "cell_type": "code",
      "source": [
        "# Plot the distribution of the net flow (phi value) as box plot\n",
        "plt.boxplot(pref_test)\n",
        "plt.title(f'Box Plot')\n",
        "plt.ylabel(f'Resulting net flow (phi value) variation')\n",
        "plt.xticks([1], ['PROMETHEE II'])\n",
        "plt.savefig('images/PROMETHEE II_PhiValue_BoxPlot.png', bbox_inches='tight') # Added line to save the figure\n",
        "plt.show()"
      ],
      "metadata": {
        "id": "BM_ycYA4glY_"
      },
      "execution_count": null,
      "outputs": []
    },
    {
      "cell_type": "code",
      "source": [
        "# Create groups of classification, where in each quantile an specific strategy of maintenance is suggested\n",
        "# Classify the net flow of each alternatives according to this group limits\n",
        "quantiles = np.quantile(pref_test, [0, 0.25, 0.5, 0.75, 1])\n",
        "print(f'Quantiles of PROMETHH II net flow (phi): \\n{quantiles}')\n",
        "print(f'-'*50)\n",
        "\n",
        "# Categorize pref values based on quantiles\n",
        "categories = []\n",
        "for value in pref_test:\n",
        "  if value <= quantiles[1]:\n",
        "    categories.append('1. Preventive Maintenance (PvM)')\n",
        "  elif value <= quantiles[2]:\n",
        "    categories.append('2. Condition-Based Maintenance (CBM)')\n",
        "  elif value <= quantiles[3]:\n",
        "    categories.append('3. Predictive Maintenance (PdM)')\n",
        "  else:\n",
        "    categories.append('4. Prescriptive Maintenance (RxM)')\n",
        "\n",
        "# Display the values and their categories\n",
        "for i in range(len(pref)):\n",
        "  print(f'Product{i+1}: {pref_test[i]:.4f}\\t Category: {categories[i]}')"
      ],
      "metadata": {
        "id": "vpbz7JbZglk3"
      },
      "execution_count": null,
      "outputs": []
    },
    {
      "cell_type": "code",
      "source": [
        "# Group the values by maintenance strategy\n",
        "maintenance_strategy = zip(newLog_FilterByProduct, categories)\n",
        "maintenance_strategy_dict = {}\n",
        "for product, category in maintenance_strategy:\n",
        "  if category not in maintenance_strategy_dict:\n",
        "    maintenance_strategy_dict[category] = []\n",
        "  maintenance_strategy_dict[category].append(product)\n",
        "\n",
        "pprint(maintenance_strategy_dict)"
      ],
      "metadata": {
        "id": "LsnXGRQXyrOh"
      },
      "execution_count": null,
      "outputs": []
    },
    {
      "cell_type": "code",
      "source": [
        "# Present how long it took to run all the script\n",
        "print(f'Time of Re-Execution [no. #1] (Adding a New Product Line):')\n",
        "calc_time_elapsed(start_time_of_execution_testOne)"
      ],
      "metadata": {
        "id": "C0hBAag1iayC"
      },
      "execution_count": null,
      "outputs": []
    },
    {
      "cell_type": "markdown",
      "source": [
        "# Teste / Validação (2)\n",
        "Replicamos os valores de uma das máquinas na \"nova\" entrada para verificar o comportamento das análises"
      ],
      "metadata": {
        "id": "hsiiM7cgCq56"
      }
    },
    {
      "cell_type": "code",
      "source": [
        "# Get the time to measure the time spent, in this case, only for the test / validation (2)\n",
        "start_time_of_execution_testTwo = time.perf_counter()"
      ],
      "metadata": {
        "id": "9Rq3cXRJt20t"
      },
      "execution_count": null,
      "outputs": []
    },
    {
      "cell_type": "code",
      "source": [
        "# Calcule KPIs of the \"new\" log\n",
        "c1_n2 = c1.copy()\n",
        "c2_n2 = c2.copy()\n",
        "c3_n2 = c3.copy()\n",
        "c4_n2 = c4.copy()\n",
        "c5_n2 = c5.copy()\n",
        "\n",
        "c1_n2.append(c1_n2[0])\n",
        "c2_n2.append(c2_n2[0])\n",
        "c3_n2.append(c3_n2[0])\n",
        "c4_n2.append(c4_n2[0])\n",
        "c5_n2.append(c5_n2[0])"
      ],
      "metadata": {
        "id": "zvI0qtaNv-Vl"
      },
      "execution_count": null,
      "outputs": []
    },
    {
      "cell_type": "code",
      "source": [
        "# Execute the PROMETHEE II method on the matrix considering the body (function type),\n",
        "# the matrix with measures, criteria weighting, and type of each criterion\n",
        "\n",
        "body = PROMETHEE_II('usual')\n",
        "\n",
        "matrix_test2 = np.array([\n",
        "    [round(c1_n2[i],4),\n",
        "     round(c2_n2[i],4),\n",
        "     int(c3_n2[i]),\n",
        "     int(c4_n2[i]),\n",
        "     int(c5_n2[i])] for i in range(len(newLog_FilterByProduct))\n",
        "])\n",
        "\n",
        "weights = np.array([criteria.target_weights[c] for c in list_criteria])\n",
        "print(f'Weights (from AHP): {weights}')\n",
        "\n",
        "MinMax_array = MinMax\n",
        "print(f'Criteria objective: {MinMax_array}')\n",
        "\n",
        "[round(preference, 4) for preference in body(matrix_test2, weights, MinMax_array)]"
      ],
      "metadata": {
        "id": "6pKibdCZFe1T"
      },
      "execution_count": null,
      "outputs": []
    },
    {
      "cell_type": "code",
      "source": [
        "# Get the resulting net flow (phi value) and alternatives position (ranking)\n",
        "pref_test2 = body(matrix_test2, weights, MinMax_array)\n",
        "ranking_test2 = rrankdata(pref_test2)\n",
        "\n",
        "i=0\n",
        "for r, p in zip(ranking_test2, pref_test2):\n",
        "  print(f'{newLog_FilterByProduct[i]}','\\t','Position: ', r, '\\t', round(p, 4))\n",
        "  i+=1\n",
        "\n",
        "print('-'*50)\n",
        "\n",
        "# Plot the distribution of the net flow (phi value) as box plot\n",
        "plt.boxplot(pref_test)\n",
        "plt.title(f'Box Plot')\n",
        "plt.ylabel(f'Resulting net flow (phi value) variation')\n",
        "plt.xticks([1], ['PROMETHEE II'])\n",
        "plt.savefig('images/PROMETHEE II_PhiValue_BoxPlot.png', bbox_inches='tight') # Added line to save the figure\n",
        "plt.show()\n",
        "\n",
        "print('-'*50)\n",
        "\n",
        "# Create groups of classification, where in each quantile an specific strategy of maintenance is suggested\n",
        "# Classify the net flow of each alternatives according to this group limits\n",
        "quantiles = np.quantile(pref_test2, [0, 0.25, 0.5, 0.75, 1])\n",
        "print(f'Quantiles of PROMETHH II net flow (phi): \\n{quantiles}')\n",
        "\n",
        "# Categorize pref values based on quantiles\n",
        "categories = []\n",
        "for value in pref_test2:\n",
        "  if value <= quantiles[1]:\n",
        "    categories.append('1. Preventive Maintenance (PvM)')\n",
        "  elif value <= quantiles[2]:\n",
        "    categories.append('2. Condition-Based Maintenance (CBM)')\n",
        "  elif value <= quantiles[3]:\n",
        "    categories.append('3. Predictive Maintenance (PdM)')\n",
        "  else:\n",
        "    categories.append('4. Prescriptive Maintenance (RxM)')\n",
        "\n",
        "print('-'*50)\n",
        "\n",
        "# Display the values and their categories\n",
        "for i in range(len(pref_test2)):\n",
        "  print(f'Product{i+1}: {pref_test2[i]:.4f}\\t Category: {categories[i]}')\n",
        "\n",
        "print('-'*50)\n",
        "# Group the values by maintenance strategy\n",
        "maintenance_strategy = zip(newLog_FilterByProduct, categories)\n",
        "maintenance_strategy_dict = {}\n",
        "for product, category in maintenance_strategy:\n",
        "  if category not in maintenance_strategy_dict:\n",
        "    maintenance_strategy_dict[category] = []\n",
        "  maintenance_strategy_dict[category].append(product)\n",
        "\n",
        "pprint(maintenance_strategy_dict)"
      ],
      "metadata": {
        "id": "nDEu71TDF0b5"
      },
      "execution_count": null,
      "outputs": []
    },
    {
      "cell_type": "code",
      "source": [
        "# Present how long it took to run all the script\n",
        "print(f'Time of Re-Execution [no. #2] (Adding a New Product Line):')\n",
        "calc_time_elapsed(start_time_of_execution_testTwo)"
      ],
      "metadata": {
        "id": "5yQ59XnStvXf"
      },
      "execution_count": null,
      "outputs": []
    }
  ]
}